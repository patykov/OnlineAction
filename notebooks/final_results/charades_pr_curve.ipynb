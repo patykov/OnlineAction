{
 "cells": [
  {
   "cell_type": "code",
   "execution_count": 10,
   "metadata": {},
   "outputs": [],
   "source": [
    "import os\n",
    "import numpy as np\n",
    "import matplotlib.pyplot as plt\n",
    "from inspect import signature\n",
    "\n",
    "import torch"
   ]
  },
  {
   "cell_type": "code",
   "execution_count": 6,
   "metadata": {},
   "outputs": [
    {
     "data": {
      "text/plain": [
       "dict_keys(['map', 'cap', 'map_10', 'cap_10', 'ap', 'prec', 'recall', 'ap_c'])"
      ]
     },
     "execution_count": 6,
     "metadata": {},
     "output_type": "execute_result"
    }
   ],
   "source": [
    "dir_name = '/Volumes/UBUNTU 18_0/PAKOVA/outputs/Charades/'\n",
    "file_name = 'causal_eval_charades_r50_i3d_baseline_32x2_stream_fullyConv_verb_results.npy'\n",
    "\n",
    "results = np.load(dir_name + file_name, allow_pickle=True)[()]\n",
    "results.keys()"
   ]
  },
  {
   "cell_type": "code",
   "execution_count": 36,
   "metadata": {},
   "outputs": [],
   "source": [
    "def plot_pr_curve(p, r, a):\n",
    "    fig = plt.figure()\n",
    "    step_kwargs = ({'step': 'post'}\n",
    "                   if 'step' in signature(plt.fill_between).parameters\n",
    "                   else {})\n",
    "    plt.step(r, p, color='b', alpha=0.2, where='post')\n",
    "    plt.fill_between(r, p, alpha=0.2, color='b', **step_kwargs)\n",
    "    \n",
    "#     plt.axhline(a)\n",
    "\n",
    "    plt.xlabel('Recall')\n",
    "    plt.ylabel('Precision')\n",
    "    plt.ylim([0.0, 1.05])\n",
    "    plt.xlim([0.0, 1.0])\n",
    "    plt.title('PR curve: AP={0:0.2f}'.format(a))\n",
    "    fig.savefig('/Volumes/UBUNTU 18_0/PAKOVA/outputs/Charades/pr_curve.png')\n",
    "    plt.show()"
   ]
  },
  {
   "cell_type": "code",
   "execution_count": 30,
   "metadata": {},
   "outputs": [],
   "source": [
    "prec = results['prec']\n",
    "recall = results['recall']\n",
    "ap = results['ap']"
   ]
  },
  {
   "cell_type": "code",
   "execution_count": 31,
   "metadata": {},
   "outputs": [
    {
     "name": "stdout",
     "output_type": "stream",
     "text": [
      "0 0.26863432761590134\n",
      "1 0.2511833917986043\n",
      "2 0.5849008192791356\n",
      "3 0.27581619297821747\n",
      "4 0.45453209884171253\n",
      "5 0.35381756150199634\n",
      "6 0.19539500393557235\n",
      "7 0.256481458480332\n",
      "8 0.8680076193680029\n",
      "9 0.2317917822490994\n",
      "10 0.5853462026743401\n",
      "11 0.017172265625580857\n",
      "12 0.27940792733003816\n",
      "13 0.12278813171125323\n",
      "14 0.45612650360631346\n",
      "15 0.10000626688415683\n",
      "16 0.4405666529776329\n",
      "17 0.3693756485414968\n",
      "18 0.8388640166298368\n",
      "19 0.29823000311023284\n",
      "20 0.09589198158109645\n",
      "21 0.33743636704555807\n",
      "22 0.19771330803749965\n",
      "23 0.3880924857295595\n",
      "24 0.23978590767726796\n",
      "25 0.21114506501917188\n",
      "26 0.47530961322014914\n",
      "27 0.0622811358075719\n",
      "28 0.2635308396570579\n",
      "29 0.31800768448413813\n",
      "30 0.32869492820580265\n",
      "31 0.5159803931377266\n",
      "32 0.3966552761339221\n"
     ]
    }
   ],
   "source": [
    "for c, ap_i in enumerate(ap):\n",
    "    print(c, ap_i)"
   ]
  },
  {
   "cell_type": "code",
   "execution_count": 43,
   "metadata": {},
   "outputs": [
    {
     "data": {
      "image/png": "[encoded data removed]",
      "text/plain": [
       "<Figure size 432x288 with 1 Axes>"
      ]
     },
     "metadata": {
      "needs_background": "light"
     },
     "output_type": "display_data"
    }
   ],
   "source": [
    "c = 10\n",
    "plot_pr_curve(prec[:, c], recall[:, c], ap[c])"
   ]
  },
  {
   "cell_type": "code",
   "execution_count": null,
   "metadata": {},
   "outputs": [],
   "source": []
  }
 ],
 "metadata": {
  "kernelspec": {
   "display_name": "Python 3",
   "language": "python",
   "name": "python3"
  },
  "language_info": {
   "codemirror_mode": {
    "name": "ipython",
    "version": 3
   },
   "file_extension": ".py",
   "mimetype": "text/x-python",
   "name": "python",
   "nbconvert_exporter": "python",
   "pygments_lexer": "ipython3",
   "version": "3.6.10"
  }
 },
 "nbformat": 4,
 "nbformat_minor": 4
}
