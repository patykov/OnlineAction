{
 "cells": [
  {
   "cell_type": "code",
   "execution_count": 20,
   "metadata": {},
   "outputs": [],
   "source": [
    "import os\n",
    "import numpy as np\n",
    "import re\n",
    "import csv\n",
    "\n",
    "import sys\n",
    "sys.path.insert(0, '../..')\n",
    "import metrics.charades_classify as cc\n",
    "from datasets.prepare_dataset import load_labels_file\n",
    "\n",
    "import matplotlib.pyplot as plt\n",
    "from inspect import signature\n",
    "\n",
    "from scipy import signal\n",
    "from torch.nn import MaxPool1d\n",
    "\n",
    "import torch"
   ]
  },
  {
   "cell_type": "code",
   "execution_count": null,
   "metadata": {},
   "outputs": [
    {
     "name": "stdout",
     "output_type": "stream",
     "text": [
      "/data/OnlineActionRecognition/final_outputs/causal_eval_charades_r50i3d_pred_nl8_stream_centerCrop/causal_eval_charades_r50i3d_pred_nl8_stream_centerCrop_0.txt\n"
     ]
    }
   ],
   "source": [
    "dir_name = \"/data/OnlineActionRecognition/final_outputs/\"\n",
    "files_dir =  \"causal_eval_charades_r50i3d_pred_nl8_stream_centerCrop\"\n",
    "\n",
    "result_files = sorted([os.path.join(dir_name, files_dir, f) for f in os.listdir(dir_name + files_dir) if f.endswith('.txt')])\n",
    "\n",
    "test_ids = []\n",
    "test_classes = []\n",
    "for fname in result_files:\n",
    "    print(fname)\n",
    "    ids, classes = cc.read_file(fname)\n",
    "    test_ids += ids\n",
    "    test_classes += classes\n",
    "    print(len(test_ids), len(test_classes))"
   ]
  },
  {
   "cell_type": "code",
   "execution_count": 43,
   "metadata": {},
   "outputs": [],
   "source": [
    "# gt_path = '/data/Datasets/Charades/Annotations/Charades_v1_causal_clip_test.txt'\n",
    "classes_file = '/data/Datasets/Charades/Annotations/Charades_v1_classes.txt'\n",
    "classes_att_file = '/data/Datasets/Charades/Annotations/Charades_v1_attributes_class.csv'\n",
    "classes_map_file = '/data/Datasets/Charades/Annotations/Charades_v1_mapping.txt'\n",
    "# gt_path = '/data/Datasets/Charades/Annotations/Charades_v1_causal_allFrames_test.txt'\n",
    "gt_path = '/data/Datasets/Charades/Annotations/Charades_v1_causal_test.txt'\n",
    "\n",
    "per_frame = True"
   ]
  },
  {
   "cell_type": "code",
   "execution_count": 4,
   "metadata": {},
   "outputs": [],
   "source": [
    "# Load classes\n",
    "classes = load_labels_file(classes_file)"
   ]
  },
  {
   "cell_type": "code",
   "execution_count": 6,
   "metadata": {},
   "outputs": [],
   "source": [
    "def divide_per_clip(ids, classes):\n",
    "    clips_ids = []\n",
    "    clips_classes = []\n",
    "\n",
    "    video_name = None\n",
    "    for i, video_frame in enumerate(ids):\n",
    "        name = video_frame.split('_')[0]\n",
    "        if name != video_name:\n",
    "            # new video! But first, save old video\n",
    "            if i > 0:\n",
    "                clips_ids.append(np.array(video_ids))\n",
    "                clips_classes.append(np.array(video_classes))\n",
    "            # star new one\n",
    "            video_ids = []\n",
    "            video_classes = []\n",
    "            video_name = name\n",
    "            \n",
    "        video_ids.append(video_frame)\n",
    "        video_classes.append(classes[i])\n",
    "        \n",
    "    # Append last video\n",
    "    clips_ids.append(np.array(video_ids))\n",
    "    clips_classes.append(np.array(video_classes))\n",
    "        \n",
    "    return np.array(clips_ids), np.array(clips_classes)"
   ]
  },
  {
   "cell_type": "code",
   "execution_count": 118,
   "metadata": {},
   "outputs": [],
   "source": [
    "gt_ids, gt_classes = cc.read_file(gt_path) \n",
    "gt_classes = np.array(gt_classes)\n",
    "\n",
    "n_test = len(gt_ids)\n",
    "\n",
    "# Check if there are duplicate items\n",
    "test_ids2, test_index_order = np.unique(test_ids, return_index=True)\n",
    "test_classes2 = np.array(test_classes)[test_index_order]\n",
    "\n",
    "# Dividing per clip\n",
    "gt_clips_ids, gt_clips_classes = divide_per_clip(gt_ids, gt_classes)\n",
    "test_clips_ids, test_clips_classes = divide_per_clip(test_ids2, test_classes2)"
   ]
  },
  {
   "cell_type": "code",
   "execution_count": 90,
   "metadata": {},
   "outputs": [],
   "source": [
    "def video_output(outputs):\n",
    "    num_clips, num_classes = outputs.shape\n",
    "    max_pool = MaxPool1d(num_clips)\n",
    "    \n",
    "    outputs = torch.tensor(outputs)\n",
    "\n",
    "    data = outputs.view(1, -1, num_classes).contiguous()\n",
    "    data = data.permute(0, 2, 1).contiguous()\n",
    "\n",
    "    data = max_pool(data)\n",
    "    video_data = data.view(num_classes).contiguous()\n",
    "\n",
    "    return video_data\n",
    "\n",
    "def select_n_clips(video_classes, n=10):\n",
    "    num_frames = len(video_classes)\n",
    "    ids = np.linspace(0, num_frames-1, n, dtype=int)\n",
    "    \n",
    "    return video_classes[ids]"
   ]
  },
  {
   "cell_type": "code",
   "execution_count": 126,
   "metadata": {},
   "outputs": [],
   "source": [
    "def map_func(submission_array, gt_array):\n",
    "    \"\"\" Returns mAP, weighted mAP, AP array, precisions, recall and calibrated AP\"\"\"\n",
    "    m_aps = []\n",
    "    c_aps = []\n",
    "    fprs = []\n",
    "    a_prec = np.zeros(submission_array.shape)\n",
    "    a_recall = np.zeros(submission_array.shape)\n",
    "    n_samples = submission_array.shape[0]\n",
    "    n_classes = submission_array.shape[1]\n",
    "    for oc_i in range(n_classes):\n",
    "        sorted_idxs = np.argsort(-submission_array[:, oc_i])\n",
    "        sorted_gt = gt_array[:, oc_i][sorted_idxs]\n",
    "        tp = sorted_gt == 1\n",
    "        fp = np.invert(tp)\n",
    "        n_pos = tp.sum()\n",
    "        n_gt = sorted_gt.sum()\n",
    "\n",
    "        t_pcs = np.cumsum(tp)\n",
    "        f_pcs = np.cumsum(fp)\n",
    "        prec = t_pcs / (f_pcs+t_pcs).astype(float)\n",
    "        recall = t_pcs / n_gt.astype(float)\n",
    "        \n",
    "        fpr = f_pcs / (n_samples - n_gt).astype(float)\n",
    "        c_prec = recall / (recall + fpr)\n",
    "        \n",
    "        fprs.append(c_prec)\n",
    "        # Calibrated prec\n",
    "#         w = (n_samples - n_gt) / float(n_gt)\n",
    "#         c_t_pcs = t_pcs * w\n",
    "#         c_prec = c_t_pcs / (f_pcs + c_t_pcs).astype(float)\n",
    "\n",
    "        avg_prec = 0\n",
    "        c_avg_prec = 0\n",
    "        for i in range(submission_array.shape[0]):\n",
    "            if tp[i]:\n",
    "                avg_prec += prec[i]\n",
    "                c_avg_prec += c_prec[i]\n",
    "        m_aps.append(avg_prec / n_pos.astype(float))\n",
    "        c_aps.append(c_avg_prec / n_pos.astype(float))\n",
    "        a_prec[:, oc_i] = prec\n",
    "        a_recall[:, oc_i] = recall\n",
    "    m_aps = np.array(m_aps)\n",
    "    c_aps = np.array(c_aps)\n",
    "    m_ap = np.nanmean(m_aps)\n",
    "    c_ap = np.nanmean(c_aps)\n",
    "    w_ap = np.nansum(m_aps * gt_array.sum(axis=0) / gt_array.sum().astype(float))\n",
    "    return m_ap, w_ap, m_aps, a_prec, a_recall, c_ap, c_aps\n",
    "\n",
    "\n",
    "def charades_map(submission_array, gt_array):\n",
    "    \"\"\"\n",
    "    Approximate version of the charades evaluation function\n",
    "    For precise numbers, use the submission file with the official matlab script\n",
    "    \"\"\"\n",
    "\n",
    "    fix = submission_array.copy()\n",
    "    empty = np.sum(gt_array, axis=1) == 0\n",
    "    fix[empty, :] = np.NINF\n",
    "\n",
    "    return map_func(fix, gt_array)"
   ]
  },
  {
   "cell_type": "code",
   "execution_count": 18,
   "metadata": {},
   "outputs": [],
   "source": [
    "def get_perF_result(method='mean', delay_in_secs=3.0, secs_in_clip=3, frame=True):\n",
    "    test_clips_classes_perF = []\n",
    "    gt_clips_classes_perF = []\n",
    "    num_classes = gt_clips_classes[0].shape[1]\n",
    "\n",
    "    for v in range(gt_clips_ids.shape[0]):\n",
    "        v_gt_ids = gt_clips_ids[v]\n",
    "        v_gt_targets = gt_clips_classes[v]\n",
    "        v_test_ids = test_clips_ids[v]\n",
    "        v_test_targets = test_clips_classes[v]\n",
    "\n",
    "        new_test_targets = []\n",
    "        new_gt_targets = []\n",
    "\n",
    "        clip_length = int(re.match('(.*)_(\\d*)', v_test_ids[0]).groups()[-1]) +1 # in number of frames\n",
    "        fps = float(clip_length/secs_in_clip)\n",
    "        num_clips = int(fps * delay_in_secs) + 1\n",
    "        num_frames = len(v_gt_ids)\n",
    "        test_frames = len(v_test_targets)\n",
    "        \n",
    "        if num_clips > test_frames:\n",
    "            continue\n",
    "\n",
    "        # for gaussian\n",
    "        norm_weights = signal.gaussian(clip_length, std=clip_length/4)\n",
    "        middle = int(clip_length / 2)\n",
    "        \n",
    "        # for max_pool\n",
    "        max_pool = MaxPool1d(num_clips)\n",
    "\n",
    "        for f_id in range(num_frames):\n",
    "            first_clip = f_id - clip_length + 1 \n",
    "            if (first_clip + num_clips) < 0 or (first_clip + num_clips) > test_frames:\n",
    "                continue\n",
    "            new_gt_targets.append(v_gt_targets[f_id])\n",
    "            \n",
    "            first_clip = max(0, first_clip)\n",
    "            last_clip = first_clip + num_clips\n",
    "            clips_targets = v_test_targets[first_clip:last_clip]\n",
    "            \n",
    "            if method == 'gaussian':\n",
    "                half = clips_targets.shape[0] / 2.0\n",
    "                norm = norm_weights[middle-int(np.floor(half)):middle+int(np.ceil(half))]\n",
    "                \n",
    "                clips_targets = np.swapaxes(clips_targets, 0, 1)\n",
    "                new_test_targets.append(np.average(clips_targets, axis=1, weights=norm))\n",
    "                \n",
    "            elif method == 'mean':\n",
    "                new_test_targets.append(np.mean(clips_targets, axis=0))\n",
    "                \n",
    "            elif method == 'median':\n",
    "                new_test_targets.append(np.median(clips_targets, axis=0))\n",
    "                \n",
    "            elif method == 'max_pool':\n",
    "                outputs = torch.tensor(clips_targets)\n",
    "                data = outputs.view(1, -1, num_classes).contiguous()\n",
    "                data = data.permute(0, 2, 1).contiguous()\n",
    "                \n",
    "                data = max_pool(data)\n",
    "                data = data.view(num_classes).contiguous().numpy()\n",
    "                new_test_targets.append(data)\n",
    "                \n",
    "\n",
    "        test_clips_classes_perF.append(new_test_targets)\n",
    "        gt_clips_classes_perF.append(new_gt_targets)\n",
    "        \n",
    "    if frame:\n",
    "        test_clips_classes_perF = np.vstack(test_clips_classes_perF)\n",
    "        gt_clips_classes_perF = np.vstack(gt_clips_classes_perF)\n",
    "\n",
    "    return test_clips_classes_perF, gt_clips_classes_perF"
   ]
  },
  {
   "cell_type": "code",
   "execution_count": 34,
   "metadata": {},
   "outputs": [],
   "source": []
  },
  {
   "cell_type": "code",
   "execution_count": 19,
   "metadata": {},
   "outputs": [
    {
     "name": "stdout",
     "output_type": "stream",
     "text": [
      "delay | mAP    | cAP   \n"
     ]
    },
    {
     "ename": "ValueError",
     "evalue": "not enough values to unpack (expected 6, got 5)",
     "output_type": "error",
     "traceback": [
      "\u001b[0;31m---------------------------------------------------------------------------\u001b[0m",
      "\u001b[0;31mValueError\u001b[0m                                Traceback (most recent call last)",
      "\u001b[0;32m<ipython-input-19-aa5a34c10670>\u001b[0m in \u001b[0;36m<module>\u001b[0;34m\u001b[0m\n\u001b[1;32m     14\u001b[0m     \u001b[0mtest_targets_perF_mean\u001b[0m\u001b[0;34m,\u001b[0m \u001b[0mgt_targets_perF\u001b[0m \u001b[0;34m=\u001b[0m \u001b[0mget_perF_result\u001b[0m\u001b[0;34m(\u001b[0m\u001b[0;34m'mean'\u001b[0m\u001b[0;34m,\u001b[0m \u001b[0mdelay_in_secs\u001b[0m\u001b[0;34m=\u001b[0m\u001b[0md\u001b[0m\u001b[0;34m)\u001b[0m\u001b[0;34m\u001b[0m\u001b[0;34m\u001b[0m\u001b[0m\n\u001b[1;32m     15\u001b[0m \u001b[0;34m\u001b[0m\u001b[0m\n\u001b[0;32m---> 16\u001b[0;31m     \u001b[0mm\u001b[0m\u001b[0;34m,\u001b[0m \u001b[0mw\u001b[0m\u001b[0;34m,\u001b[0m \u001b[0map\u001b[0m\u001b[0;34m,\u001b[0m \u001b[0mprec\u001b[0m\u001b[0;34m,\u001b[0m \u001b[0mrec\u001b[0m\u001b[0;34m,\u001b[0m \u001b[0mc\u001b[0m \u001b[0;34m=\u001b[0m \u001b[0mcharades_map\u001b[0m\u001b[0;34m(\u001b[0m\u001b[0mtest_targets_perF_mean\u001b[0m\u001b[0;34m,\u001b[0m \u001b[0mgt_targets_perF\u001b[0m\u001b[0;34m,\u001b[0m \u001b[0mw_array\u001b[0m\u001b[0;34m)\u001b[0m\u001b[0;34m\u001b[0m\u001b[0;34m\u001b[0m\u001b[0m\n\u001b[0m\u001b[1;32m     17\u001b[0m     \u001b[0mmAP_mean\u001b[0m\u001b[0;34m.\u001b[0m\u001b[0mappend\u001b[0m\u001b[0;34m(\u001b[0m\u001b[0mm\u001b[0m\u001b[0;34m)\u001b[0m\u001b[0;34m\u001b[0m\u001b[0;34m\u001b[0m\u001b[0m\n\u001b[1;32m     18\u001b[0m     \u001b[0mwAP_mean\u001b[0m\u001b[0;34m.\u001b[0m\u001b[0mappend\u001b[0m\u001b[0;34m(\u001b[0m\u001b[0mw\u001b[0m\u001b[0;34m)\u001b[0m\u001b[0;34m\u001b[0m\u001b[0;34m\u001b[0m\u001b[0m\n",
      "\u001b[0;31mValueError\u001b[0m: not enough values to unpack (expected 6, got 5)"
     ]
    }
   ],
   "source": [
    "# per frame using mean of all clips in the 'delay' period that have the frame\n",
    "\n",
    "delays = [0.0, 0.5, 1.0, 1.5, 2.0, 2.5, 3.0]\n",
    "\n",
    "mAP_mean = []\n",
    "wAP_mean = []\n",
    "cAP_mean = []\n",
    "ap_mean = []\n",
    "prec_mean = []\n",
    "rec_mean = []\n",
    "\n",
    "print('{} | {:6} | {:6}'.format('delay', 'mAP', 'cAP'))\n",
    "for d in delays:\n",
    "    test_targets_perF_mean, gt_targets_perF = get_perF_result('mean', delay_in_secs=d)\n",
    "\n",
    "    m, w, ap, prec, rec, c = charades_map(test_targets_perF_mean, gt_targets_perF, w_array)\n",
    "    mAP_mean.append(m)\n",
    "    wAP_mean.append(w)\n",
    "    ap_mean.append(ap)\n",
    "    prec_mean.append(prec)\n",
    "    rec_mean.append(rec)\n",
    "    cAP_mean.append(c)\n",
    "    print('{:4}s | {:4.2%} | {:4.2%}'.format(d, m, c))"
   ]
  },
  {
   "cell_type": "code",
   "execution_count": 11,
   "metadata": {},
   "outputs": [
    {
     "name": "stdout",
     "output_type": "stream",
     "text": [
      "0.0s - 26.47% mAP - 96 classes\n",
      "0.5s - 26.98% mAP - 99 classes\n",
      "1.0s - 27.56% mAP - 99 classes\n",
      "1.5s - 27.86% mAP - 100 classes\n",
      "2.0s - 27.94% mAP - 102 classes\n",
      "2.5s - 28.67% mAP - 100 classes\n",
      "3.0s - 28.80% mAP - 101 classes\n"
     ]
    }
   ],
   "source": [
    "# Selecting only the classes with AP > t\n",
    "selected_classes = {}\n",
    "\n",
    "t = 0.1\n",
    "for i, d in enumerate(delays):\n",
    "    selected_ap = [a for a in ap_mean[i] if a >= t]\n",
    "    selected_classes[t] = [j for j, a in enumerate(ap_mean[0]) if a >= t]\n",
    "    print('{}s - {:.02%} mAP - {} classes'.format(d, np.mean(selected_ap), len(selected_ap)))"
   ]
  },
  {
   "cell_type": "code",
   "execution_count": 12,
   "metadata": {},
   "outputs": [
    {
     "name": "stdout",
     "output_type": "stream",
     "text": [
      "delay | mAP    | wAP   \n",
      " 0.0s | 18.07% | 28.42%\n",
      " 0.5s | 18.73% | 29.24%\n",
      " 1.0s | 19.11% | 29.72%\n",
      " 1.5s | 19.37% | 30.08%\n",
      " 2.0s | 19.60% | 30.39%\n",
      " 2.5s | 19.77% | 30.66%\n",
      " 3.0s | 19.91% | 30.89%\n"
     ]
    }
   ],
   "source": [
    "# per frame using median of all clips in the 'delay' period that have the frame\n",
    "\n",
    "delays = [0.0, 0.5, 1.0, 1.5, 2.0, 2.5, 3.0]\n",
    "\n",
    "mAP_median = []\n",
    "wAP_median = []\n",
    "\n",
    "print('{} | {:6} | {:6}'.format('delay', 'mAP', 'wAP'))\n",
    "for d in delays:\n",
    "    test_targets_perF_mean, gt_targets_perF = get_perF_result('median', delay_in_secs=d)\n",
    "\n",
    "    m, w, _, _, _ = charades_map(test_targets_perF_mean, gt_targets_perF, w_array)\n",
    "    mAP_median.append(m)\n",
    "    wAP_median.append(w)\n",
    "    print('{:4}s | {:4.2%} | {:4.2%}'.format(d, m, w))"
   ]
  },
  {
   "cell_type": "code",
   "execution_count": 15,
   "metadata": {},
   "outputs": [
    {
     "name": "stdout",
     "output_type": "stream",
     "text": [
      "delay | mAP    | wAP   \n",
      " 0.0s | 18.07% | 28.42%\n",
      " 0.5s | 18.83% | 29.37%\n",
      " 1.0s | 19.26% | 29.90%\n",
      " 1.5s | 19.58% | 30.33%\n",
      " 2.0s | 19.85% | 30.70%\n",
      " 2.5s | 20.03% | 30.98%\n"
     ]
    },
    {
     "ename": "ValueError",
     "evalue": "Length of weights not compatible with specified axis.",
     "output_type": "error",
     "traceback": [
      "\u001b[0;31m---------------------------------------------------------------------------\u001b[0m",
      "\u001b[0;31mValueError\u001b[0m                                Traceback (most recent call last)",
      "\u001b[0;32m<ipython-input-15-1354dae040ac>\u001b[0m in \u001b[0;36m<module>\u001b[0;34m\u001b[0m\n\u001b[1;32m      8\u001b[0m \u001b[0mprint\u001b[0m\u001b[0;34m(\u001b[0m\u001b[0;34m'{} | {:6} | {:6}'\u001b[0m\u001b[0;34m.\u001b[0m\u001b[0mformat\u001b[0m\u001b[0;34m(\u001b[0m\u001b[0;34m'delay'\u001b[0m\u001b[0;34m,\u001b[0m \u001b[0;34m'mAP'\u001b[0m\u001b[0;34m,\u001b[0m \u001b[0;34m'wAP'\u001b[0m\u001b[0;34m)\u001b[0m\u001b[0;34m)\u001b[0m\u001b[0;34m\u001b[0m\u001b[0;34m\u001b[0m\u001b[0m\n\u001b[1;32m      9\u001b[0m \u001b[0;32mfor\u001b[0m \u001b[0md\u001b[0m \u001b[0;32min\u001b[0m \u001b[0mdelays\u001b[0m\u001b[0;34m:\u001b[0m\u001b[0;34m\u001b[0m\u001b[0;34m\u001b[0m\u001b[0m\n\u001b[0;32m---> 10\u001b[0;31m     \u001b[0mtest_targets_perF_mean\u001b[0m\u001b[0;34m,\u001b[0m \u001b[0mgt_targets_perF\u001b[0m \u001b[0;34m=\u001b[0m \u001b[0mget_perF_result\u001b[0m\u001b[0;34m(\u001b[0m\u001b[0;34m'gaussian'\u001b[0m\u001b[0;34m,\u001b[0m \u001b[0mdelay_in_secs\u001b[0m\u001b[0;34m=\u001b[0m\u001b[0md\u001b[0m\u001b[0;34m)\u001b[0m\u001b[0;34m\u001b[0m\u001b[0;34m\u001b[0m\u001b[0m\n\u001b[0m\u001b[1;32m     11\u001b[0m \u001b[0;34m\u001b[0m\u001b[0m\n\u001b[1;32m     12\u001b[0m     \u001b[0mm\u001b[0m\u001b[0;34m,\u001b[0m \u001b[0mw\u001b[0m\u001b[0;34m,\u001b[0m \u001b[0m_\u001b[0m\u001b[0;34m,\u001b[0m \u001b[0m_\u001b[0m\u001b[0;34m,\u001b[0m \u001b[0m_\u001b[0m \u001b[0;34m=\u001b[0m \u001b[0mcharades_map\u001b[0m\u001b[0;34m(\u001b[0m\u001b[0mtest_targets_perF_mean\u001b[0m\u001b[0;34m,\u001b[0m \u001b[0mgt_targets_perF\u001b[0m\u001b[0;34m,\u001b[0m \u001b[0mw_array\u001b[0m\u001b[0;34m)\u001b[0m\u001b[0;34m\u001b[0m\u001b[0;34m\u001b[0m\u001b[0m\n",
      "\u001b[0;32m<ipython-input-8-006ad993070c>\u001b[0m in \u001b[0;36mget_perF_result\u001b[0;34m(method, delay_in_secs, secs_in_clip, frame)\u001b[0m\n\u001b[1;32m     44\u001b[0m \u001b[0;34m\u001b[0m\u001b[0m\n\u001b[1;32m     45\u001b[0m                 \u001b[0mclips_targets\u001b[0m \u001b[0;34m=\u001b[0m \u001b[0mnp\u001b[0m\u001b[0;34m.\u001b[0m\u001b[0mswapaxes\u001b[0m\u001b[0;34m(\u001b[0m\u001b[0mclips_targets\u001b[0m\u001b[0;34m,\u001b[0m \u001b[0;36m0\u001b[0m\u001b[0;34m,\u001b[0m \u001b[0;36m1\u001b[0m\u001b[0;34m)\u001b[0m\u001b[0;34m\u001b[0m\u001b[0;34m\u001b[0m\u001b[0m\n\u001b[0;32m---> 46\u001b[0;31m                 \u001b[0mnew_test_targets\u001b[0m\u001b[0;34m.\u001b[0m\u001b[0mappend\u001b[0m\u001b[0;34m(\u001b[0m\u001b[0mnp\u001b[0m\u001b[0;34m.\u001b[0m\u001b[0maverage\u001b[0m\u001b[0;34m(\u001b[0m\u001b[0mclips_targets\u001b[0m\u001b[0;34m,\u001b[0m \u001b[0maxis\u001b[0m\u001b[0;34m=\u001b[0m\u001b[0;36m1\u001b[0m\u001b[0;34m,\u001b[0m \u001b[0mweights\u001b[0m\u001b[0;34m=\u001b[0m\u001b[0mnorm\u001b[0m\u001b[0;34m)\u001b[0m\u001b[0;34m)\u001b[0m\u001b[0;34m\u001b[0m\u001b[0;34m\u001b[0m\u001b[0m\n\u001b[0m\u001b[1;32m     47\u001b[0m \u001b[0;34m\u001b[0m\u001b[0m\n\u001b[1;32m     48\u001b[0m             \u001b[0;32melif\u001b[0m \u001b[0mmethod\u001b[0m \u001b[0;34m==\u001b[0m \u001b[0;34m'mean'\u001b[0m\u001b[0;34m:\u001b[0m\u001b[0;34m\u001b[0m\u001b[0;34m\u001b[0m\u001b[0m\n",
      "\u001b[0;32m<__array_function__ internals>\u001b[0m in \u001b[0;36maverage\u001b[0;34m(*args, **kwargs)\u001b[0m\n",
      "\u001b[0;32m/anaconda/envs/pytorch/lib/python3.7/site-packages/numpy/lib/function_base.py\u001b[0m in \u001b[0;36maverage\u001b[0;34m(a, axis, weights, returned)\u001b[0m\n\u001b[1;32m    409\u001b[0m             \u001b[0;32mif\u001b[0m \u001b[0mwgt\u001b[0m\u001b[0;34m.\u001b[0m\u001b[0mshape\u001b[0m\u001b[0;34m[\u001b[0m\u001b[0;36m0\u001b[0m\u001b[0;34m]\u001b[0m \u001b[0;34m!=\u001b[0m \u001b[0ma\u001b[0m\u001b[0;34m.\u001b[0m\u001b[0mshape\u001b[0m\u001b[0;34m[\u001b[0m\u001b[0maxis\u001b[0m\u001b[0;34m]\u001b[0m\u001b[0;34m:\u001b[0m\u001b[0;34m\u001b[0m\u001b[0;34m\u001b[0m\u001b[0m\n\u001b[1;32m    410\u001b[0m                 raise ValueError(\n\u001b[0;32m--> 411\u001b[0;31m                     \"Length of weights not compatible with specified axis.\")\n\u001b[0m\u001b[1;32m    412\u001b[0m \u001b[0;34m\u001b[0m\u001b[0m\n\u001b[1;32m    413\u001b[0m             \u001b[0;31m# setup wgt to broadcast along axis\u001b[0m\u001b[0;34m\u001b[0m\u001b[0;34m\u001b[0m\u001b[0;34m\u001b[0m\u001b[0m\n",
      "\u001b[0;31mValueError\u001b[0m: Length of weights not compatible with specified axis."
     ]
    }
   ],
   "source": [
    "# per frame using gaussian of all clips in the 'delay' period that have the frame\n",
    "\n",
    "delays = [0.0, 0.5, 1.0, 1.5, 2.0, 2.5, 3.0]\n",
    "\n",
    "mAP_gauss = []\n",
    "wAP_gauss = []\n",
    "\n",
    "print('{} | {:6} | {:6}'.format('delay', 'mAP', 'wAP'))\n",
    "for d in delays:\n",
    "    test_targets_perF_mean, gt_targets_perF = get_perF_result('gaussian', delay_in_secs=d)\n",
    "\n",
    "    m, w, _, _, _ = charades_map(test_targets_perF_mean, gt_targets_perF, w_array)\n",
    "    mAP_gauss.append(m)\n",
    "    wAP_gauss.append(w)\n",
    "    print('{:4}s | {:4.2%} | {:4.2%}'.format(d, m, w))"
   ]
  },
  {
   "cell_type": "code",
   "execution_count": 16,
   "metadata": {},
   "outputs": [
    {
     "name": "stdout",
     "output_type": "stream",
     "text": [
      "delay | mAP    | wAP   \n",
      " 0.5s | 18.77% | 29.21%\n",
      " 1.0s | 19.24% | 29.77%\n",
      " 1.5s | 19.68% | 30.30%\n",
      " 2.0s | 20.06% | 30.78%\n",
      " 2.5s | 20.38% | 31.20%\n",
      " 3.0s | 20.60% | 31.50%\n"
     ]
    }
   ],
   "source": [
    "# per frame using max_pooling of all clips in the 'delay' period that have the frame\n",
    "\n",
    "delays = [0.5, 1.0, 1.5, 2.0, 2.5, 3.0]\n",
    "\n",
    "mAP_pool = []\n",
    "wAP_pool = []\n",
    "\n",
    "print('{} | {:6} | {:6}'.format('delay', 'mAP', 'wAP'))\n",
    "for d in delays:\n",
    "    test_targets_perF_mean, gt_targets_perF = get_perF_result('max_pool', delay_in_secs=d)\n",
    "\n",
    "    m, w, _, _, _ = charades_map(test_targets_perF_mean, gt_targets_perF, w_array)\n",
    "    mAP_pool.append(m)\n",
    "    wAP_pool.append(w)\n",
    "    print('{:4}s | {:4.2%} | {:4.2%}'.format(d, m, w))"
   ]
  },
  {
   "cell_type": "code",
   "execution_count": 17,
   "metadata": {},
   "outputs": [],
   "source": [
    "test_targets_perF_mean, gt_targets_perF_mean = get_perF_result('mean', delay_in_secs=3.0, frame=False)\n",
    "test_targets_perF_lastF, gt_targets_perF_lastF = get_perF_result('mean', delay_in_secs=0.0, frame=False)"
   ]
  },
  {
   "cell_type": "code",
   "execution_count": 25,
   "metadata": {},
   "outputs": [
    {
     "name": "stdout",
     "output_type": "stream",
     "text": [
      " 1 - 22.77% | 30.20%\n",
      " 2 - 27.72% | 36.73%\n",
      " 3 - 30.41% | 39.71%\n",
      " 5 - 31.77% | 41.44%\n",
      "10 - 32.55% | 42.05%\n",
      "15 - 32.56% | 42.16%\n",
      "20 - 32.52% | 42.09%\n",
      "25 - 32.50% | 42.11%\n",
      "30 - 32.54% | 42.15%\n",
      "35 - 32.53% | 42.13%\n",
      "40 - 32.51% | 42.11%\n",
      "45 - 32.50% | 42.11%\n",
      "50 - 32.52% | 42.12%\n",
      "100 - 32.50% | 42.11%\n"
     ]
    }
   ],
   "source": [
    "# per clip result using the N clip with mean of all frames\n",
    "\n",
    "N = [1, 2, 3, 5, 10, 15, 20, 25, 30, 35, 40, 45, 50, 100]\n",
    "\n",
    "for n in N:\n",
    "\n",
    "    test_classes_n = [select_n_clips(np.array(clip_data), n=n) for clip_data in test_targets_perF_mean]\n",
    "\n",
    "    test_clip_n_mean = np.array([video_output(t_c).numpy() for t_c in test_classes_n])\n",
    "    gt_clips_n_mean = np.array([(sum(gt_c) > 0).astype(int) for gt_c in gt_targets_perF_mean])\n",
    "\n",
    "    mAP_n_mean, wAP_n_mean, _, _, _ = charades_map(test_clip_n_mean, gt_clips_n_mean, w_array)\n",
    "\n",
    "    print('{:2} - {:.02%} | {:.02%}'.format(n, mAP_n_mean, wAP_n_mean))"
   ]
  },
  {
   "cell_type": "code",
   "execution_count": 22,
   "metadata": {},
   "outputs": [
    {
     "name": "stdout",
     "output_type": "stream",
     "text": [
      "0.32551438245507086 0.420526797886049\n"
     ]
    }
   ],
   "source": [
    "# per clip result using the 10 clip with mean of all frames\n",
    "\n",
    "test_classes_10 = [select_n_clips(np.array(clip_data), n=10) for clip_data in test_targets_perF_mean]\n",
    "\n",
    "test_clip_10_mean = np.array([video_output(t_c).numpy() for t_c in test_classes_10])\n",
    "gt_clips_10_mean = np.array([(sum(gt_c) > 0).astype(int) for gt_c in gt_targets_perF_mean])\n",
    "\n",
    "mAP_10_mean, wAP_10_mean, ap_10_mean, prec_10_mean, recall_10_mean = charades_map(test_clip_10_mean, gt_clips_10_mean, w_array)\n",
    "\n",
    "print(mAP_10_mean, wAP_10_mean)"
   ]
  },
  {
   "cell_type": "code",
   "execution_count": 16,
   "metadata": {},
   "outputs": [
    {
     "name": "stdout",
     "output_type": "stream",
     "text": [
      "0.3157378085700365 0.4134088025846293\n"
     ]
    }
   ],
   "source": [
    "# per clip result using the 10 clip with lastFrame of all frames\n",
    "\n",
    "test_classes_10 = [select_n_clips(np.array(clip_data), n=10) for clip_data in test_targets_perF_lastF]\n",
    "\n",
    "test_clip_10_lastF = np.array([video_output(t_c).numpy() for t_c in test_classes_10])\n",
    "gt_clips_10_lastF = np.array([(sum(gt_c) > 0).astype(int) for gt_c in gt_targets_perF_lastF])\n",
    "\n",
    "mAP_10_lastF, wAP_10_lastF, ap_10_lastF, prec_10_lastF, recall_10_lastF = charades_map(test_clip_10_lastF, gt_clips_10_lastF, w_array)\n",
    "\n",
    "print(mAP_10_lastF, wAP_10_lastF)"
   ]
  },
  {
   "cell_type": "code",
   "execution_count": 20,
   "metadata": {},
   "outputs": [
    {
     "name": "stdout",
     "output_type": "stream",
     "text": [
      "0.3250611782613844 0.42118410081599006\n"
     ]
    }
   ],
   "source": [
    "# per clip but using all per frame mean results\n",
    "\n",
    "test_clip_all_perF_mean = np.array([video_output(np.array(t_c)).numpy() for t_c in test_targets_perF_mean])\n",
    "\n",
    "mAP_cm, wAP_cm, ap_cm, prec_cm, recall_cm = charades_map(test_clip_all_perF_mean, gt_clips_10_mean, w_array)\n",
    "\n",
    "print(mAP_cm, wAP_cm)"
   ]
  },
  {
   "cell_type": "code",
   "execution_count": null,
   "metadata": {},
   "outputs": [],
   "source": [
    "## stop ##"
   ]
  },
  {
   "cell_type": "code",
   "execution_count": 35,
   "metadata": {},
   "outputs": [
    {
     "data": {
      "text/plain": [
       "((1153408, 157), (1153408, 157), (1863, 157), (1863, 157))"
      ]
     },
     "execution_count": 35,
     "metadata": {},
     "output_type": "execute_result"
    }
   ],
   "source": [
    "prec_f.shape, recall_f.shape, prec.shape, recall.shape"
   ]
  },
  {
   "cell_type": "code",
   "execution_count": 39,
   "metadata": {},
   "outputs": [
    {
     "data": {
      "image/png": "[encoded data removed]",
      "text/plain": [
       "<Figure size 432x288 with 1 Axes>"
      ]
     },
     "metadata": {
      "needs_background": "light"
     },
     "output_type": "display_data"
    },
    {
     "data": {
      "image/png": "[encoded data removed]",
      "text/plain": [
       "<Figure size 432x288 with 1 Axes>"
      ]
     },
     "metadata": {
      "needs_background": "light"
     },
     "output_type": "display_data"
    }
   ],
   "source": [
    "c = 6\n",
    "plot_pr_curve(prec_f[:, c], recall_f[:, c], ap_f[c])\n",
    "plot_pr_curve(prec[:, c], recall[:, c], ap[c])"
   ]
  },
  {
   "cell_type": "code",
   "execution_count": 65,
   "metadata": {},
   "outputs": [
    {
     "data": {
      "text/plain": [
       "57"
      ]
     },
     "execution_count": 65,
     "metadata": {},
     "output_type": "execute_result"
    }
   ],
   "source": [
    "np.sum((ap > 0.2).astype(int))"
   ]
  },
  {
   "cell_type": "code",
   "execution_count": 42,
   "metadata": {},
   "outputs": [
    {
     "data": {
      "image/png": "[encoded data removed]",
      "text/plain": [
       "<Figure size 1080x432 with 2 Axes>"
      ]
     },
     "metadata": {
      "needs_background": "light"
     },
     "output_type": "display_data"
    }
   ],
   "source": [
    "fig = plt.figure(figsize=(15, 6))\n",
    "ax1 = fig.add_subplot(121)\n",
    "ax2 = fig.add_subplot(122)\n",
    "ax1.hist(ap_f, bins=30)\n",
    "ax2.hist(ap, bins=30)\n",
    "plt.show()"
   ]
  },
  {
   "cell_type": "code",
   "execution_count": 49,
   "metadata": {
    "scrolled": true
   },
   "outputs": [
    {
     "name": "stdout",
     "output_type": "stream",
     "text": [
      "0: 27.35% | 44.35%\n",
      "1: 28.29% | 50.34%\n",
      "2: 27.73% | 45.39%\n",
      "3: 16.21% | 30.98%\n",
      "4: 18.83% | 29.45%\n",
      "5: 17.26% | 27.86%\n",
      "6: 19.01% | 37.31%\n",
      "7: 2.52% | 4.69%\n",
      "8: 27.29% | 56.94%\n",
      "9: 16.69% | 39.54%\n",
      "10: 5.17% | 8.86%\n",
      "11: 58.50% | 73.26%\n",
      "12: 28.72% | 40.30%\n",
      "13: 7.97% | 17.50%\n",
      "14: 37.04% | 45.49%\n",
      "15: 42.81% | 57.30%\n",
      "16: 41.58% | 59.01%\n",
      "17: 2.92% | 11.06%\n",
      "18: 7.19% | 19.52%\n",
      "19: 21.71% | 23.74%\n",
      "20: 32.37% | 47.15%\n",
      "21: 26.11% | 46.83%\n",
      "22: 6.20% | 17.52%\n",
      "23: 5.62% | 14.79%\n",
      "24: 0.88% | 2.81%\n",
      "25: 12.46% | 35.99%\n",
      "26: 49.57% | 62.62%\n",
      "27: 16.99% | 43.41%\n",
      "28: 8.36% | 19.87%\n",
      "29: 11.67% | 24.28%\n",
      "30: 8.27% | 27.58%\n",
      "31: 0.76% | 2.08%\n",
      "32: 46.21% | 62.34%\n",
      "33: 20.17% | 32.32%\n",
      "34: 10.24% | 20.03%\n",
      "35: 9.47% | 19.54%\n",
      "36: 3.08% | 8.46%\n",
      "37: 15.24% | 17.41%\n",
      "38: 19.97% | 26.48%\n",
      "39: 6.80% | 20.27%\n",
      "40: 20.44% | 37.12%\n",
      "41: 11.10% | 24.18%\n",
      "42: 6.40% | 19.67%\n",
      "43: 11.98% | 31.31%\n",
      "44: 6.36% | 11.11%\n",
      "45: 0.57% | 1.17%\n",
      "46: 5.60% | 18.05%\n",
      "47: 38.73% | 56.34%\n",
      "48: 5.09% | 14.43%\n",
      "49: 12.29% | 31.56%\n",
      "50: 3.73% | 14.87%\n",
      "51: 49.27% | 57.39%\n",
      "52: 52.24% | 64.91%\n",
      "53: 15.34% | 31.51%\n",
      "54: 14.49% | 25.67%\n",
      "55: 22.49% | 25.08%\n",
      "56: 9.68% | 18.74%\n",
      "57: 12.63% | 25.22%\n",
      "58: 4.52% | 9.39%\n",
      "59: 56.07% | 68.91%\n",
      "60: 3.12% | 6.79%\n",
      "61: 43.41% | 61.70%\n",
      "62: 16.45% | 37.06%\n",
      "63: 16.91% | 42.87%\n",
      "64: 1.20% | 4.45%\n",
      "65: 24.41% | 39.66%\n",
      "66: 5.88% | 8.24%\n",
      "67: 22.34% | 40.99%\n",
      "68: 5.96% | 17.81%\n",
      "69: 5.68% | 25.50%\n",
      "70: 22.85% | 40.43%\n",
      "71: 13.96% | 32.54%\n",
      "72: 26.81% | 38.96%\n",
      "73: 11.82% | 34.55%\n",
      "74: 5.05% | 11.99%\n",
      "75: 16.65% | 28.60%\n",
      "76: 19.16% | 32.30%\n",
      "77: 8.04% | 23.63%\n",
      "78: 22.68% | 35.45%\n",
      "79: 5.03% | 16.59%\n",
      "80: 2.70% | 5.24%\n",
      "81: 12.71% | 26.92%\n",
      "82: 15.01% | 18.56%\n",
      "83: 2.61% | 5.26%\n",
      "84: 7.60% | 10.86%\n",
      "85: 1.50% | 2.78%\n",
      "86: 2.79% | 5.17%\n",
      "87: 9.86% | 21.21%\n",
      "88: 7.97% | 12.70%\n",
      "89: 2.84% | 2.97%\n",
      "90: 6.67% | 14.98%\n",
      "91: 14.78% | 27.62%\n",
      "92: 12.11% | 17.21%\n",
      "93: 2.76% | 4.16%\n",
      "94: 7.26% | 11.79%\n",
      "95: 7.07% | 14.87%\n",
      "96: 19.54% | 35.63%\n",
      "97: 35.14% | 66.96%\n",
      "98: 51.66% | 82.83%\n",
      "99: 7.51% | 33.14%\n",
      "100: 11.71% | 37.64%\n",
      "101: 0.52% | 2.01%\n",
      "102: 58.37% | 74.64%\n",
      "103: 4.47% | 8.83%\n",
      "104: 6.40% | 15.77%\n",
      "105: 3.60% | 8.60%\n",
      "106: 48.08% | 76.03%\n",
      "107: 43.01% | 63.97%\n",
      "108: 9.61% | 23.86%\n",
      "109: 12.71% | 34.46%\n",
      "110: 13.77% | 42.11%\n",
      "111: 11.37% | 24.27%\n",
      "112: 9.94% | 25.55%\n",
      "113: 17.68% | 38.41%\n",
      "114: 16.17% | 21.83%\n",
      "115: 24.14% | 39.18%\n",
      "116: 4.79% | 14.63%\n",
      "117: 5.96% | 20.09%\n",
      "118: 37.04% | 51.20%\n",
      "119: 13.25% | 31.78%\n",
      "120: 16.07% | 32.42%\n",
      "121: 23.88% | 48.12%\n",
      "122: 38.63% | 51.12%\n",
      "123: 43.80% | 52.83%\n",
      "124: 23.32% | 44.67%\n",
      "125: 39.48% | 45.58%\n",
      "126: 7.99% | 18.39%\n",
      "127: 50.27% | 58.58%\n",
      "128: 6.95% | 15.24%\n",
      "129: 5.15% | 11.48%\n",
      "130: 13.35% | 29.28%\n",
      "131: 1.60% | 2.02%\n",
      "132: 28.99% | 47.37%\n",
      "133: 26.79% | 47.16%\n",
      "134: 43.35% | 58.18%\n",
      "135: 34.62% | 43.34%\n",
      "136: 5.68% | 15.75%\n",
      "137: 45.16% | 54.11%\n",
      "138: 4.00% | 16.21%\n",
      "139: 28.19% | 40.36%\n",
      "140: 2.64% | 5.16%\n",
      "141: 24.39% | 53.12%\n",
      "142: 17.06% | 53.38%\n",
      "143: 23.88% | 57.07%\n",
      "144: 26.83% | 36.77%\n",
      "145: 34.99% | 40.24%\n",
      "146: 25.13% | 47.53%\n",
      "147: 63.96% | 70.84%\n",
      "148: 26.14% | 38.23%\n",
      "149: 16.44% | 22.92%\n",
      "150: 29.04% | 53.31%\n",
      "151: 18.05% | 39.02%\n",
      "152: 24.46% | 36.48%\n",
      "153: 10.71% | 20.71%\n",
      "154: 19.79% | 43.22%\n",
      "155: 26.54% | 46.91%\n",
      "156: 41.14% | 60.68%\n"
     ]
    }
   ],
   "source": [
    "for i, ap_i in enumerate(ap):\n",
    "    print('{}: {:.02%} | {:.02%}'.format(i, ap_f[i], ap_i))"
   ]
  },
  {
   "cell_type": "code",
   "execution_count": 16,
   "metadata": {},
   "outputs": [
    {
     "data": {
      "image/png": "[encoded data removed]",
      "text/plain": [
       "<Figure size 1080x432 with 2 Axes>"
      ]
     },
     "metadata": {
      "needs_background": "light"
     },
     "output_type": "display_data"
    }
   ],
   "source": [
    "fig = plt.figure(figsize=(15, 6))\n",
    "ax1 = fig.add_subplot(121)\n",
    "ax2 = fig.add_subplot(122)\n",
    "ax1.hist(ap_mean[0], bins=30)\n",
    "ax2.hist(ap_mean[-1], bins=30)\n",
    "plt.show()"
   ]
  },
  {
   "cell_type": "code",
   "execution_count": 11,
   "metadata": {},
   "outputs": [
    {
     "name": "stdout",
     "output_type": "stream",
     "text": [
      "28.09% - 0: Holding some clothes\n",
      "28.06% - 1: Putting clothes somewhere\n",
      "28.98% - 2: Taking some clothes from somewhere\n",
      "16.96% - 3: Throwing clothes somewhere\n",
      "21.67% - 4: Tidying some clothes\n",
      "18.71% - 5: Washing some clothes\n",
      "16.53% - 6: Closing a door\n",
      " 2.43% - 7: Fixing a door\n",
      "29.01% - 8: Opening a door\n",
      "13.90% - 9: Putting something on a table\n",
      " 6.07% - 10: Sitting on a table\n",
      "60.79% - 11: Sitting at a table\n",
      "33.94% - 12: Tidying up a table\n",
      " 9.55% - 13: Washing a table\n",
      "39.47% - 14: Working at a table\n",
      "46.36% - 15: Holding a phone/camera\n",
      "45.80% - 16: Playing with a phone/camera\n",
      " 2.27% - 17: Putting a phone/camera somewhere\n",
      " 6.45% - 18: Taking a phone/camera from somewhere\n",
      "26.19% - 19: Talking on a phone/camera\n",
      "36.54% - 20: Holding a bag\n",
      "28.75% - 21: Opening a bag\n",
      " 5.83% - 22: Putting a bag somewhere\n",
      " 5.20% - 23: Taking a bag from somewhere\n",
      " 0.78% - 24: Throwing a bag somewhere\n",
      "10.54% - 25: Closing a book\n",
      "55.56% - 26: Holding a book\n",
      "15.45% - 27: Opening a book\n",
      " 8.26% - 28: Putting a book somewhere\n",
      "11.74% - 29: Smiling at a book\n",
      " 7.40% - 30: Taking a book from somewhere\n",
      " 0.67% - 31: Throwing a book somewhere\n",
      "50.43% - 32: Watching/Reading/Looking at a book\n",
      "20.68% - 33: Holding a towel/s\n",
      " 9.27% - 34: Putting a towel/s somewhere\n",
      " 9.52% - 35: Taking a towel/s from somewhere\n",
      " 2.65% - 36: Throwing a towel/s somewhere\n",
      "19.14% - 37: Tidying up a towel/s\n",
      "23.85% - 38: Washing something with a towel\n",
      " 5.43% - 39: Closing a box\n",
      "23.69% - 40: Holding a box\n",
      "11.61% - 41: Opening a box\n",
      " 7.59% - 42: Putting a box somewhere\n",
      "12.84% - 43: Taking a box from somewhere\n",
      " 6.14% - 44: Taking something from a box\n",
      " 0.66% - 45: Throwing a box somewhere\n",
      " 5.31% - 46: Closing a laptop\n",
      "43.87% - 47: Holding a laptop\n",
      " 4.86% - 48: Opening a laptop\n",
      "12.94% - 49: Putting a laptop somewhere\n",
      " 4.13% - 50: Taking a laptop from somewhere\n",
      "52.17% - 51: Watching a laptop or something on a laptop\n",
      "56.17% - 52: Working/Playing on a laptop\n",
      "18.18% - 53: Holding a shoe/shoes\n",
      "15.64% - 54: Putting shoes somewhere\n",
      "25.15% - 55: Putting on shoe/shoes\n",
      "10.72% - 56: Taking shoes from somewhere\n",
      "14.63% - 57: Taking off some shoes\n",
      " 5.06% - 58: Throwing shoes somewhere\n",
      "58.07% - 59: Sitting in a chair\n",
      " 3.74% - 60: Standing on a chair\n",
      "46.17% - 61: Holding some food\n",
      "14.99% - 62: Putting some food somewhere\n",
      "15.74% - 63: Taking food from somewhere\n",
      " 1.16% - 64: Throwing food somewhere\n",
      "26.51% - 65: Eating a sandwich\n",
      " 8.83% - 66: Making a sandwich\n",
      "25.12% - 67: Holding a sandwich\n",
      " 6.09% - 68: Putting a sandwich somewhere\n",
      " 5.88% - 69: Taking a sandwich from somewhere\n",
      "24.38% - 70: Holding a blanket\n",
      "14.38% - 71: Putting a blanket somewhere\n",
      "28.59% - 72: Snuggling with a blanket\n",
      "12.27% - 73: Taking a blanket from somewhere\n",
      " 5.12% - 74: Throwing a blanket somewhere\n",
      "20.35% - 75: Tidying up a blanket/s\n",
      "21.66% - 76: Holding a pillow\n",
      " 8.23% - 77: Putting a pillow somewhere\n",
      "25.46% - 78: Snuggling with a pillow\n",
      " 5.18% - 79: Taking a pillow from somewhere\n",
      " 3.23% - 80: Throwing a pillow somewhere\n",
      "11.91% - 81: Putting something on a shelf\n",
      "16.53% - 82: Tidying a shelf or something on a shelf\n",
      " 2.56% - 83: Reaching for and grabbing a picture\n",
      " 8.38% - 84: Holding a picture\n",
      " 1.51% - 85: Laughing at a picture\n",
      " 4.63% - 86: Putting a picture somewhere\n",
      "10.69% - 87: Taking a picture of something\n",
      " 8.46% - 88: Watching/looking at a picture\n",
      " 3.80% - 89: Closing a window\n",
      " 7.80% - 90: Opening a window\n",
      "20.19% - 91: Washing a window\n",
      "11.74% - 92: Watching/Looking outside of a window\n",
      " 2.96% - 93: Holding a mirror\n",
      " 7.42% - 94: Smiling in a mirror\n",
      " 9.05% - 95: Washing a mirror\n",
      "20.32% - 96: Watching something/someone/themselves in a mirror\n",
      "36.54% - 97: Walking through a doorway\n",
      "59.62% - 98: Holding a broom\n",
      " 7.09% - 99: Putting a broom somewhere\n",
      "11.25% - 100: Taking a broom from somewhere\n",
      " 0.41% - 101: Throwing a broom somewhere\n",
      "67.34% - 102: Tidying up with a broom\n",
      " 5.98% - 103: Fixing a light\n",
      " 6.56% - 104: Turning on a light\n",
      " 3.74% - 105: Turning off a light\n",
      "54.35% - 106: Drinking from a cup/glass/bottle\n",
      "47.78% - 107: Holding a cup/glass/bottle of something\n",
      " 9.97% - 108: Pouring something into a cup/glass/bottle\n",
      "10.94% - 109: Putting a cup/glass/bottle somewhere\n",
      "12.93% - 110: Taking a cup/glass/bottle from somewhere\n",
      "12.22% - 111: Washing a cup/glass/bottle\n",
      " 8.39% - 112: Closing a closet/cabinet\n",
      "18.19% - 113: Opening a closet/cabinet\n",
      "17.36% - 114: Tidying up a closet/cabinet\n",
      "26.52% - 115: Someone is holding a paper/notebook\n",
      " 4.20% - 116: Putting their paper/notebook somewhere\n",
      " 5.26% - 117: Taking paper/notebook from somewhere\n",
      "39.60% - 118: Holding a dish\n",
      "12.33% - 119: Putting a dish/es somewhere\n",
      "16.48% - 120: Taking a dish/es from somewhere\n",
      "27.61% - 121: Wash a dish/dishes\n",
      "41.73% - 122: Lying on a sofa/couch\n",
      "45.08% - 123: Sitting on sofa/couch\n",
      "26.06% - 124: Lying on the floor\n",
      "42.15% - 125: Sitting on the floor\n",
      " 8.69% - 126: Throwing something on the floor\n",
      "55.59% - 127: Tidying something on the floor\n",
      " 7.09% - 128: Holding some medicine\n",
      " 5.20% - 129: Taking/consuming some medicine\n",
      "12.35% - 130: Putting groceries somewhere\n",
      " 1.60% - 131: Laughing at television\n",
      "30.70% - 132: Watching television\n",
      "28.72% - 133: Someone is awakening in bed\n",
      "45.67% - 134: Lying on a bed\n",
      "35.35% - 135: Sitting in a bed\n",
      " 7.57% - 136: Fixing a vacuum\n",
      "50.85% - 137: Holding a vacuum\n",
      " 4.04% - 138: Taking a vacuum from somewhere\n",
      "29.07% - 139: Washing their hands\n",
      " 3.16% - 140: Fixing a doorknob\n",
      "25.54% - 141: Grasping onto a doorknob\n",
      "12.77% - 142: Closing a refrigerator\n",
      "29.69% - 143: Opening a refrigerator\n",
      "35.70% - 144: Fixing their hair\n",
      "36.91% - 145: Working on paper/notebook\n",
      "26.27% - 146: Someone is awakening somewhere\n",
      "67.11% - 147: Someone is cooking something\n",
      "28.37% - 148: Someone is dressing\n",
      "16.67% - 149: Someone is laughing\n",
      "40.80% - 150: Someone is running somewhere\n",
      "18.79% - 151: Someone is going from standing to sitting\n",
      "23.80% - 152: Someone is smiling\n",
      "12.49% - 153: Someone is sneezing\n",
      "18.07% - 154: Someone is standing up from somewhere\n",
      "30.76% - 155: Someone is undressing\n",
      "44.22% - 156: Someone is eating something\n"
     ]
    }
   ],
   "source": [
    "for i, ap_i in enumerate(ap_mean[-1]):\n",
    "    print('{:6.2%} - {}: {}'.format(ap_i, i, classes[i]))"
   ]
  },
  {
   "cell_type": "code",
   "execution_count": 10,
   "metadata": {},
   "outputs": [
    {
     "data": {
      "text/plain": [
       "dict_keys(['class', '#Samples', '#Frames', 'Extent', 'Seq', 'Short', 'Passive', 'AvgMotion', 'PoseVar', 'PoseRatio', 'Obj', '#Obj', '#Verbs', 'Interact', 'Tool'])"
      ]
     },
     "execution_count": 10,
     "metadata": {},
     "output_type": "execute_result"
    }
   ],
   "source": [
    "class_atributes = {}\n",
    "with open(classes_att_file, 'r') as csv_file:\n",
    "    reader = csv.DictReader(csv_file)\n",
    "    for row in reader:\n",
    "        for column, value in row.items():\n",
    "            class_match = re.match('c(\\d*)', value)\n",
    "            if class_match:\n",
    "                value = int(class_match.groups()[0])\n",
    "            else:\n",
    "                value = float(value)\n",
    "            class_atributes.setdefault(column, []).append(value)\n",
    "            \n",
    "class_atributes.keys()"
   ]
  },
  {
   "cell_type": "code",
   "execution_count": 11,
   "metadata": {},
   "outputs": [],
   "source": [
    "class_atributes['ap'] = ap_mean[-1]"
   ]
  },
  {
   "cell_type": "code",
   "execution_count": 12,
   "metadata": {},
   "outputs": [],
   "source": [
    "atributes_array = [\n",
    "    class_atributes['#Samples'],\n",
    "    class_atributes['#Frames'], \n",
    "    class_atributes['Extent'], \n",
    "    class_atributes['Seq'],\n",
    "    class_atributes['Passive'], \n",
    "    class_atributes['AvgMotion'],\n",
    "    class_atributes['PoseVar'], \n",
    "    class_atributes['PoseRatio'], \n",
    "    class_atributes['#Obj'],\n",
    "    class_atributes['#Verbs'],\n",
    "    class_atributes['ap']\n",
    "]"
   ]
  },
  {
   "cell_type": "code",
   "execution_count": 33,
   "metadata": {},
   "outputs": [],
   "source": [
    "corr = np.corrcoef(atributes_array)"
   ]
  },
  {
   "cell_type": "code",
   "execution_count": 35,
   "metadata": {
    "scrolled": true
   },
   "outputs": [
    {
     "data": {
      "image/png": "[encoded data removed]",
      "text/plain": [
       "<Figure size 1080x1080 with 2 Axes>"
      ]
     },
     "metadata": {
      "needs_background": "light"
     },
     "output_type": "display_data"
    }
   ],
   "source": [
    "names = ['#Samples', '#Frames', 'Extent', 'Seq', 'Passive', 'AvgMotion', 'PoseVar', 'PoseRatio', '#Obj', '#Verbs', 'ap']\n",
    "\n",
    "f = plt.figure(figsize=(15, 15))\n",
    "plt.matshow(corr, fignum=f.number)\n",
    "plt.xticks(range(len(names)), names, fontsize=14, rotation=45)\n",
    "plt.yticks(range(len(names)), names, fontsize=14)\n",
    "cb = plt.colorbar()\n",
    "cb.ax.tick_params(labelsize=14)"
   ]
  },
  {
   "cell_type": "code",
   "execution_count": 13,
   "metadata": {},
   "outputs": [],
   "source": [
    "objs = []\n",
    "verbs = []\n",
    "with open(classes_map_file, 'r') as file:\n",
    "    for line in file:\n",
    "        match = re.match('c(\\d*) o(\\d*) v(\\d*)', line)\n",
    "        if match:\n",
    "            c, o, v = match.groups()\n",
    "            objs.append(int(o))\n",
    "            verbs.append(int(v))"
   ]
  },
  {
   "cell_type": "code",
   "execution_count": 14,
   "metadata": {},
   "outputs": [],
   "source": [
    "def load_map_file(file_path, letter):\n",
    "    classes = {}\n",
    "    with open(file_path, 'r') as file:\n",
    "        lines = file.readlines()\n",
    "\n",
    "    for l in lines:\n",
    "        class_match = re.match('{}(\\d*) (.*)'.format(letter), l)\n",
    "        if class_match:\n",
    "            class_id, class_name = class_match.groups()\n",
    "            classes[int(class_id)] = class_name\n",
    "        else:\n",
    "            raise ValueError('Could not match the line: \\\"{}\\\" from classes file!'.format(\n",
    "                             l.strip()))\n",
    "    return classes"
   ]
  },
  {
   "cell_type": "code",
   "execution_count": 15,
   "metadata": {},
   "outputs": [],
   "source": [
    "objs_names = load_map_file('/data/Datasets/Charades/Annotations/Charades_v1_objectclasses.txt', 'o')\n",
    "verbs_names = load_map_file('/data/Datasets/Charades/Annotations/Charades_v1_verbclasses.txt', 'v')"
   ]
  },
  {
   "cell_type": "code",
   "execution_count": 16,
   "metadata": {},
   "outputs": [],
   "source": [
    "o_label, o_ind, o_count = np.unique(objs, return_index=True, return_counts=True)"
   ]
  },
  {
   "cell_type": "code",
   "execution_count": 17,
   "metadata": {},
   "outputs": [],
   "source": [
    "objs_ap = [[] for i in range(max(objs) +1)]\n",
    "verbs_ap = [[] for i in range(max(verbs) +1)]\n",
    "\n",
    "for i, ap_i in enumerate(ap_mean[-1]):\n",
    "    o = objs[i]\n",
    "    v = verbs[i]\n",
    "    objs_ap[o].append(ap_i)\n",
    "    verbs_ap[v].append(ap_i)\n"
   ]
  },
  {
   "cell_type": "code",
   "execution_count": 86,
   "metadata": {},
   "outputs": [
    {
     "name": "stdout",
     "output_type": "stream",
     "text": [
      "22.41% : None\n",
      "15.42% : bag\n",
      "36.58% : bed\n",
      "17.51% : blanket\n",
      "20.01% : book\n",
      " 9.71% : box\n",
      "29.14% : broom\n",
      "30.90% : chair\n",
      "14.65% : closet/cabinet\n",
      "25.20% : clothes\n",
      "24.70% : cup/glass/bottle\n",
      "24.00% : dish\n",
      "15.99% : door\n",
      "14.35% : doorknob\n",
      "36.54% : doorway\n",
      "33.12% : floor\n",
      "31.56% : food\n",
      "12.35% : groceries\n",
      "35.70% : hair\n",
      "29.07% : hands\n",
      "25.64% : laptop\n",
      " 5.43% : light\n",
      " 6.15% : medicine\n",
      " 9.94% : mirror\n",
      "18.22% : paper/notebook\n",
      "22.96% : phone/camera\n",
      " 5.11% : picture\n",
      "12.75% : pillow\n",
      "21.23% : refrigerator\n",
      "14.49% : sandwich\n",
      "14.22% : shelf\n",
      "14.90% : shoe\n",
      "43.40% : sofa/couch\n",
      "27.29% : table\n",
      "16.15% : television\n",
      "14.19% : towel\n",
      "20.82% : vacuum\n",
      "10.88% : window\n"
     ]
    }
   ],
   "source": [
    "# AP per object\n",
    "ap_obj_mean = []\n",
    "for i, l in enumerate(objs_ap):\n",
    "    mean = np.mean(l)\n",
    "    ap_obj_mean.append(mean)\n",
    "    print('{:6.02%} : {}'.format(mean, objs_names[i]))"
   ]
  },
  {
   "cell_type": "code",
   "execution_count": 85,
   "metadata": {},
   "outputs": [
    {
     "name": "stdout",
     "output_type": "stream",
     "text": [
      "27.50% : awaken\n",
      " 8.97% : close\n",
      "67.11% : cook\n",
      "26.76% : dress\n",
      "54.35% : drink\n",
      "25.31% : eat\n",
      "10.97% : fix\n",
      "25.54% : grasp\n",
      "31.66% : hold\n",
      " 6.60% : laugh\n",
      "37.82% : lie\n",
      " 8.83% : make\n",
      "18.17% : open\n",
      "10.69% : photograph\n",
      "50.98% : play\n",
      " 9.97% : pour\n",
      "10.55% : put\n",
      "40.80% : run\n",
      "38.04% : sit\n",
      "14.32% : smile\n",
      "12.49% : sneeze\n",
      "27.02% : snuggle\n",
      "10.90% : stand\n",
      " 9.63% : take\n",
      "26.19% : talk\n",
      " 4.12% : throw\n",
      "31.49% : tidy\n",
      " 5.15% : turn\n",
      "22.69% : undress\n",
      "36.54% : walk\n",
      "18.78% : wash\n",
      "28.97% : watch\n",
      "38.19% : work\n"
     ]
    }
   ],
   "source": [
    "# AP per verb\n",
    "ap_verb_mean = []\n",
    "for i, l in enumerate(verbs_ap):\n",
    "    mean = np.mean(l)\n",
    "    ap_verb_mean.append(mean)\n",
    "    print('{:6.02%} : {}'.format(mean, verbs_names[i]))"
   ]
  },
  {
   "cell_type": "code",
   "execution_count": 90,
   "metadata": {},
   "outputs": [
    {
     "data": {
      "image/png": "[encoded data removed]",
      "text/plain": [
       "<Figure size 1080x432 with 2 Axes>"
      ]
     },
     "metadata": {
      "needs_background": "light"
     },
     "output_type": "display_data"
    }
   ],
   "source": [
    "fig = plt.figure(figsize=(15, 6))\n",
    "ax1 = fig.add_subplot(121)\n",
    "ax2 = fig.add_subplot(122)\n",
    "ax1.hist(ap_obj_mean, bins=15)\n",
    "ax1.set_title('Ap per obj')\n",
    "ax2.hist(ap_verb_mean, bins=15)\n",
    "ax2.set_title('Ap per verb')\n",
    "plt.show()"
   ]
  },
  {
   "cell_type": "code",
   "execution_count": 92,
   "metadata": {},
   "outputs": [],
   "source": [
    "# file_name = '/data/Datasets/Charades/Annotations/Charades_v1_classes_over_01.txt'\n",
    "file_name = '/data/Datasets/Charades/Annotations/Charades_v1_classes_over_03.txt'\n",
    "\n",
    "# t = 0.1\n",
    "t = 0.3\n",
    "\n",
    "with open(file_name, 'w') as file:\n",
    "    for i, c in enumerate(selected_classes[t]):\n",
    "        file.write('{} {} {}\\n'.format(i, c, classes[c]))"
   ]
  },
  {
   "cell_type": "code",
   "execution_count": 16,
   "metadata": {
    "scrolled": false
   },
   "outputs": [
    {
     "name": "stdout",
     "output_type": "stream",
     "text": [
      "0.1 | 0.3 | class\n",
      "------------------\n",
      "x   |     | Holding some clothes\n",
      "x   |     | Putting clothes somewhere\n",
      "x   |     | Taking some clothes from somewhere\n",
      "x   |     | Throwing clothes somewhere\n",
      "x   |     | Tidying some clothes\n",
      "x   |     | Washing some clothes\n",
      "x   |     | Closing a door\n",
      "    |     | Fixing a door\n",
      "x   |     | Opening a door\n",
      "x   |     | Putting something on a table\n",
      "    |     | Sitting on a table\n",
      "x   | x   | Sitting at a table\n",
      "x   | x   | Tidying up a table\n",
      "    |     | Washing a table\n",
      "x   | x   | Working at a table\n",
      "x   | x   | Holding a phone/camera\n",
      "x   | x   | Playing with a phone/camera\n",
      "    |     | Putting a phone/camera somewhere\n",
      "    |     | Taking a phone/camera from somewhere\n",
      "x   |     | Talking on a phone/camera\n",
      "x   | x   | Holding a bag\n",
      "x   |     | Opening a bag\n",
      "    |     | Putting a bag somewhere\n",
      "    |     | Taking a bag from somewhere\n",
      "    |     | Throwing a bag somewhere\n",
      "x   |     | Closing a book\n",
      "x   | x   | Holding a book\n",
      "x   |     | Opening a book\n",
      "    |     | Putting a book somewhere\n",
      "    |     | Smiling at a book\n",
      "    |     | Taking a book from somewhere\n",
      "    |     | Throwing a book somewhere\n",
      "x   | x   | Watching/Reading/Looking at a book\n",
      "x   |     | Holding a towel/s\n",
      "    |     | Putting a towel/s somewhere\n",
      "    |     | Taking a towel/s from somewhere\n",
      "    |     | Throwing a towel/s somewhere\n",
      "x   |     | Tidying up a towel/s\n",
      "x   |     | Washing something with a towel\n",
      "    |     | Closing a box\n",
      "x   |     | Holding a box\n",
      "    |     | Opening a box\n",
      "    |     | Putting a box somewhere\n",
      "    |     | Taking a box from somewhere\n",
      "    |     | Taking something from a box\n",
      "    |     | Throwing a box somewhere\n",
      "    |     | Closing a laptop\n",
      "x   | x   | Holding a laptop\n",
      "    |     | Opening a laptop\n",
      "x   |     | Putting a laptop somewhere\n",
      "    |     | Taking a laptop from somewhere\n",
      "x   | x   | Watching a laptop or something on a laptop\n",
      "x   | x   | Working/Playing on a laptop\n",
      "x   |     | Holding a shoe/shoes\n",
      "x   |     | Putting shoes somewhere\n",
      "x   |     | Putting on shoe/shoes\n",
      "    |     | Taking shoes from somewhere\n",
      "x   |     | Taking off some shoes\n",
      "    |     | Throwing shoes somewhere\n",
      "x   | x   | Sitting in a chair\n",
      "    |     | Standing on a chair\n",
      "x   | x   | Holding some food\n",
      "x   |     | Putting some food somewhere\n",
      "x   |     | Taking food from somewhere\n",
      "    |     | Throwing food somewhere\n",
      "x   |     | Eating a sandwich\n",
      "    |     | Making a sandwich\n",
      "x   |     | Holding a sandwich\n",
      "    |     | Putting a sandwich somewhere\n",
      "    |     | Taking a sandwich from somewhere\n",
      "x   |     | Holding a blanket\n",
      "x   |     | Putting a blanket somewhere\n",
      "x   |     | Snuggling with a blanket\n",
      "    |     | Taking a blanket from somewhere\n",
      "    |     | Throwing a blanket somewhere\n",
      "x   |     | Tidying up a blanket/s\n",
      "x   |     | Holding a pillow\n",
      "    |     | Putting a pillow somewhere\n",
      "x   |     | Snuggling with a pillow\n",
      "    |     | Taking a pillow from somewhere\n",
      "    |     | Throwing a pillow somewhere\n",
      "x   |     | Putting something on a shelf\n",
      "x   |     | Tidying a shelf or something on a shelf\n",
      "    |     | Reaching for and grabbing a picture\n",
      "    |     | Holding a picture\n",
      "    |     | Laughing at a picture\n",
      "    |     | Putting a picture somewhere\n",
      "    |     | Taking a picture of something\n",
      "    |     | Watching/looking at a picture\n",
      "    |     | Closing a window\n",
      "    |     | Opening a window\n",
      "x   |     | Washing a window\n",
      "x   |     | Watching/Looking outside of a window\n",
      "    |     | Holding a mirror\n",
      "    |     | Smiling in a mirror\n",
      "    |     | Washing a mirror\n",
      "x   |     | Watching something/someone/themselves in a mirror\n",
      "x   |     | Walking through a doorway\n",
      "x   | x   | Holding a broom\n",
      "    |     | Putting a broom somewhere\n",
      "    |     | Taking a broom from somewhere\n",
      "    |     | Throwing a broom somewhere\n",
      "x   | x   | Tidying up with a broom\n",
      "    |     | Fixing a light\n",
      "    |     | Turning on a light\n",
      "    |     | Turning off a light\n",
      "x   | x   | Drinking from a cup/glass/bottle\n",
      "x   | x   | Holding a cup/glass/bottle of something\n",
      "    |     | Pouring something into a cup/glass/bottle\n",
      "x   |     | Putting a cup/glass/bottle somewhere\n",
      "    |     | Taking a cup/glass/bottle from somewhere\n",
      "x   |     | Washing a cup/glass/bottle\n",
      "    |     | Closing a closet/cabinet\n",
      "x   |     | Opening a closet/cabinet\n",
      "x   |     | Tidying up a closet/cabinet\n",
      "x   |     | Someone is holding a paper/notebook\n",
      "    |     | Putting their paper/notebook somewhere\n",
      "    |     | Taking paper/notebook from somewhere\n",
      "x   | x   | Holding a dish\n",
      "x   |     | Putting a dish/es somewhere\n",
      "x   |     | Taking a dish/es from somewhere\n",
      "x   |     | Wash a dish/dishes\n",
      "x   | x   | Lying on a sofa/couch\n",
      "x   | x   | Sitting on sofa/couch\n",
      "x   |     | Lying on the floor\n",
      "x   | x   | Sitting on the floor\n",
      "    |     | Throwing something on the floor\n",
      "x   | x   | Tidying something on the floor\n",
      "    |     | Holding some medicine\n",
      "    |     | Taking/consuming some medicine\n",
      "x   |     | Putting groceries somewhere\n",
      "    |     | Laughing at television\n",
      "x   |     | Watching television\n",
      "x   |     | Someone is awakening in bed\n",
      "x   | x   | Lying on a bed\n",
      "x   | x   | Sitting in a bed\n",
      "    |     | Fixing a vacuum\n",
      "x   | x   | Holding a vacuum\n",
      "    |     | Taking a vacuum from somewhere\n",
      "x   |     | Washing their hands\n",
      "    |     | Fixing a doorknob\n",
      "x   |     | Grasping onto a doorknob\n",
      "x   |     | Closing a refrigerator\n",
      "x   |     | Opening a refrigerator\n",
      "x   | x   | Fixing their hair\n",
      "x   | x   | Working on paper/notebook\n",
      "x   |     | Someone is awakening somewhere\n",
      "x   | x   | Someone is cooking something\n",
      "x   |     | Someone is dressing\n",
      "x   |     | Someone is laughing\n",
      "x   | x   | Someone is running somewhere\n",
      "x   |     | Someone is going from standing to sitting\n",
      "x   |     | Someone is smiling\n",
      "x   |     | Someone is sneezing\n",
      "x   |     | Someone is standing up from somewhere\n",
      "x   |     | Someone is undressing\n",
      "x   | x   | Someone is eating something\n"
     ]
    }
   ],
   "source": [
    "print('{:3} | {:3} | {}'.format('0.1', '0.3', 'class'))\n",
    "print('------------------')\n",
    "for i, c in classes.items():\n",
    "    print('{:3} | {:3} | {}'.format(\n",
    "        'x' if i in selected_classes[0.1] else '', \n",
    "        'x' if i in selected_classes[0.3] else '', \n",
    "        c))"
   ]
  },
  {
   "cell_type": "code",
   "execution_count": 66,
   "metadata": {},
   "outputs": [
    {
     "name": "stdout",
     "output_type": "stream",
     "text": [
      "    | #Classes | #Samples %        | #Frames    %   \n",
      "All |      157 |  49809.0          |  643495.00     \n",
      "0.1 |       92 |  40308.0 (80.93%) |  555642.30 (86.35%)\n",
      "0.3 |       30 |  15804.0 (31.73%) |  281749.70 (43.78%)\n"
     ]
    }
   ],
   "source": [
    "sample_array = np.array(class_atributes['#Samples'])\n",
    "frame_array = np.array(class_atributes['#Frames'])\n",
    "\n",
    "print('{:3} | {:8} | {:8} {:8} | {:10} {:4}'.format('', '#Classes', '#Samples', '%', '#Frames', '%'))\n",
    "print('{:3} | {:8} | {:8} {:8} | {:10.2f} {:4}'.format(\n",
    "    'All', len(class_atributes['#Samples']), sum(sample_array), '', sum(frame_array), ''))\n",
    "print('{:3} | {:8} | {:8} ({:.2%}) | {:10.2f} ({:.2%})'.format(\n",
    "    '0.1',\n",
    "    len(sample_array[selected_classes[0.1]]), \n",
    "    sum(sample_array[selected_classes[0.1]]), sum(sample_array[selected_classes[0.1]])/sum(sample_array),\n",
    "    sum(frame_array[selected_classes[0.1]]), sum(frame_array[selected_classes[0.1]])/sum(frame_array)))\n",
    "print('{:3} | {:8} | {:8} ({:.2%}) | {:10.2f} ({:.2%})'.format(\n",
    "    '0.3',\n",
    "    len(sample_array[selected_classes[0.3]]), \n",
    "    sum(sample_array[selected_classes[0.3]]), sum(sample_array[selected_classes[0.3]])/sum(sample_array),\n",
    "    sum(frame_array[selected_classes[0.3]]), sum(frame_array[selected_classes[0.3]])/sum(frame_array)))"
   ]
  },
  {
   "cell_type": "code",
   "execution_count": 93,
   "metadata": {
    "scrolled": false
   },
   "outputs": [
    {
     "name": "stdout",
     "output_type": "stream",
     "text": [
      "Holding some clothes                          | clothes         | hold      \n",
      "Putting clothes somewhere                     | clothes         | put       \n",
      "Taking some clothes from somewhere            | clothes         | take      \n",
      "Throwing clothes somewhere                    | clothes         | throw     \n",
      "Tidying some clothes                          | clothes         | tidy      \n",
      "Washing some clothes                          | clothes         | wash      \n",
      "Closing a door                                | door            | close     \n",
      "Fixing a door                                 | door            | fix       \n",
      "Opening a door                                | door            | open      \n",
      "Putting something on a table                  | table           | put       \n",
      "Sitting on a table                            | table           | sit       \n",
      "Sitting at a table                            | table           | sit       \n",
      "Tidying up a table                            | table           | tidy      \n",
      "Washing a table                               | table           | wash      \n",
      "Working at a table                            | table           | work      \n",
      "Holding a phone/camera                        | phone/camera    | hold      \n",
      "Playing with a phone/camera                   | phone/camera    | play      \n",
      "Putting a phone/camera somewhere              | phone/camera    | put       \n",
      "Taking a phone/camera from somewhere          | phone/camera    | take      \n",
      "Talking on a phone/camera                     | phone/camera    | talk      \n",
      "Holding a bag                                 | bag             | hold      \n",
      "Opening a bag                                 | bag             | open      \n",
      "Putting a bag somewhere                       | bag             | put       \n",
      "Taking a bag from somewhere                   | bag             | take      \n",
      "Throwing a bag somewhere                      | bag             | throw     \n",
      "Closing a book                                | book            | close     \n",
      "Holding a book                                | book            | hold      \n",
      "Opening a book                                | book            | open      \n",
      "Putting a book somewhere                      | book            | put       \n",
      "Smiling at a book                             | book            | smile     \n",
      "Taking a book from somewhere                  | book            | take      \n",
      "Throwing a book somewhere                     | book            | throw     \n",
      "Watching/Reading/Looking at a book            | book            | watch     \n",
      "Holding a towel/s                             | towel           | hold      \n",
      "Putting a towel/s somewhere                   | towel           | put       \n",
      "Taking a towel/s from somewhere               | towel           | take      \n",
      "Throwing a towel/s somewhere                  | towel           | throw     \n",
      "Tidying up a towel/s                          | towel           | tidy      \n",
      "Washing something with a towel                | towel           | wash      \n",
      "Closing a box                                 | box             | close     \n",
      "Holding a box                                 | box             | hold      \n",
      "Opening a box                                 | box             | open      \n",
      "Putting a box somewhere                       | box             | put       \n",
      "Taking a box from somewhere                   | box             | take      \n",
      "Taking something from a box                   | box             | take      \n",
      "Throwing a box somewhere                      | box             | throw     \n",
      "Closing a laptop                              | laptop          | close     \n",
      "Holding a laptop                              | laptop          | hold      \n",
      "Opening a laptop                              | laptop          | open      \n",
      "Putting a laptop somewhere                    | laptop          | put       \n",
      "Taking a laptop from somewhere                | laptop          | take      \n",
      "Watching a laptop or something on a laptop    | laptop          | watch     \n",
      "Working/Playing on a laptop                   | laptop          | play      \n",
      "Holding a shoe/shoes                          | shoe            | hold      \n",
      "Putting shoes somewhere                       | shoe            | put       \n",
      "Putting on shoe/shoes                         | shoe            | dress     \n",
      "Taking shoes from somewhere                   | shoe            | take      \n",
      "Taking off some shoes                         | shoe            | undress   \n",
      "Throwing shoes somewhere                      | shoe            | throw     \n",
      "Sitting in a chair                            | chair           | sit       \n",
      "Standing on a chair                           | chair           | stand     \n",
      "Holding some food                             | food            | hold      \n",
      "Putting some food somewhere                   | food            | put       \n",
      "Taking food from somewhere                    | food            | take      \n",
      "Throwing food somewhere                       | food            | throw     \n",
      "Eating a sandwich                             | sandwich        | eat       \n",
      "Making a sandwich                             | sandwich        | make      \n",
      "Holding a sandwich                            | sandwich        | hold      \n",
      "Putting a sandwich somewhere                  | sandwich        | put       \n",
      "Taking a sandwich from somewhere              | sandwich        | take      \n",
      "Holding a blanket                             | blanket         | hold      \n",
      "Putting a blanket somewhere                   | blanket         | put       \n",
      "Snuggling with a blanket                      | blanket         | snuggle   \n",
      "Taking a blanket from somewhere               | blanket         | take      \n",
      "Throwing a blanket somewhere                  | blanket         | throw     \n",
      "Tidying up a blanket/s                        | blanket         | tidy      \n",
      "Holding a pillow                              | pillow          | hold      \n",
      "Putting a pillow somewhere                    | pillow          | put       \n",
      "Snuggling with a pillow                       | pillow          | snuggle   \n",
      "Taking a pillow from somewhere                | pillow          | take      \n",
      "Throwing a pillow somewhere                   | pillow          | throw     \n",
      "Putting something on a shelf                  | shelf           | put       \n",
      "Tidying a shelf or something on a shelf       | shelf           | tidy      \n",
      "Reaching for and grabbing a picture           | picture         | take      \n",
      "Holding a picture                             | picture         | hold      \n",
      "Laughing at a picture                         | picture         | laugh     \n",
      "Putting a picture somewhere                   | picture         | put       \n",
      "Taking a picture of something                 | phone/camera    | photograph\n",
      "Watching/looking at a picture                 | picture         | watch     \n",
      "Closing a window                              | window          | close     \n",
      "Opening a window                              | window          | open      \n",
      "Washing a window                              | window          | wash      \n",
      "Watching/Looking outside of a window          | window          | watch     \n",
      "Holding a mirror                              | mirror          | hold      \n",
      "Smiling in a mirror                           | mirror          | smile     \n",
      "Washing a mirror                              | mirror          | wash      \n",
      "Watching something/someone/themselves in a mirror | mirror          | watch     \n",
      "Walking through a doorway                     | doorway         | walk      \n",
      "Holding a broom                               | broom           | hold      \n",
      "Putting a broom somewhere                     | broom           | put       \n",
      "Taking a broom from somewhere                 | broom           | take      \n",
      "Throwing a broom somewhere                    | broom           | throw     \n",
      "Tidying up with a broom                       | broom           | tidy      \n",
      "Fixing a light                                | light           | fix       \n",
      "Turning on a light                            | light           | turn      \n",
      "Turning off a light                           | light           | turn      \n",
      "Drinking from a cup/glass/bottle              | cup/glass/bottle | drink     \n",
      "Holding a cup/glass/bottle of something       | cup/glass/bottle | hold      \n",
      "Pouring something into a cup/glass/bottle     | cup/glass/bottle | pour      \n",
      "Putting a cup/glass/bottle somewhere          | cup/glass/bottle | put       \n",
      "Taking a cup/glass/bottle from somewhere      | cup/glass/bottle | take      \n",
      "Washing a cup/glass/bottle                    | cup/glass/bottle | wash      \n",
      "Closing a closet/cabinet                      | closet/cabinet  | close     \n",
      "Opening a closet/cabinet                      | closet/cabinet  | open      \n",
      "Tidying up a closet/cabinet                   | closet/cabinet  | tidy      \n",
      "Someone is holding a paper/notebook           | paper/notebook  | hold      \n",
      "Putting their paper/notebook somewhere        | paper/notebook  | put       \n",
      "Taking paper/notebook from somewhere          | paper/notebook  | take      \n",
      "Holding a dish                                | dish            | hold      \n",
      "Putting a dish/es somewhere                   | dish            | put       \n",
      "Taking a dish/es from somewhere               | dish            | take      \n",
      "Wash a dish/dishes                            | dish            | wash      \n",
      "Lying on a sofa/couch                         | sofa/couch      | lie       \n",
      "Sitting on sofa/couch                         | sofa/couch      | sit       \n",
      "Lying on the floor                            | floor           | lie       \n",
      "Sitting on the floor                          | floor           | sit       \n",
      "Throwing something on the floor               | floor           | throw     \n",
      "Tidying something on the floor                | floor           | tidy      \n",
      "Holding some medicine                         | medicine        | hold      \n",
      "Taking/consuming some medicine                | medicine        | eat       \n",
      "Putting groceries somewhere                   | groceries       | put       \n",
      "Laughing at television                        | television      | laugh     \n",
      "Watching television                           | television      | watch     \n",
      "Someone is awakening in bed                   | bed             | awaken    \n",
      "Lying on a bed                                | bed             | lie       \n",
      "Sitting in a bed                              | bed             | sit       \n",
      "Fixing a vacuum                               | vacuum          | fix       \n",
      "Holding a vacuum                              | vacuum          | hold      \n",
      "Taking a vacuum from somewhere                | vacuum          | take      \n",
      "Washing their hands                           | hands           | wash      \n",
      "Fixing a doorknob                             | doorknob        | fix       \n",
      "Grasping onto a doorknob                      | doorknob        | grasp     \n",
      "Closing a refrigerator                        | refrigerator    | close     \n",
      "Opening a refrigerator                        | refrigerator    | open      \n",
      "Fixing their hair                             | hair            | fix       \n",
      "Working on paper/notebook                     | paper/notebook  | work      \n",
      "Someone is awakening somewhere                | None            | awaken    \n",
      "Someone is cooking something                  | food            | cook      \n",
      "Someone is dressing                           | clothes         | dress     \n",
      "Someone is laughing                           | None            | laugh     \n",
      "Someone is running somewhere                  | None            | run       \n",
      "Someone is going from standing to sitting     | None            | sit       \n",
      "Someone is smiling                            | None            | smile     \n",
      "Someone is sneezing                           | None            | sneeze    \n",
      "Someone is standing up from somewhere         | None            | stand     \n",
      "Someone is undressing                         | clothes         | undress   \n",
      "Someone is eating something                   | food            | eat       \n"
     ]
    }
   ],
   "source": [
    "for i, c in enumerate(classes):\n",
    "    o = objs[i]\n",
    "    v = verbs[i]\n",
    "    print('{:45} | {:15} | {:10}'.format(classes[i], objs_names[o], verbs_names[v]))"
   ]
  },
  {
   "cell_type": "code",
   "execution_count": 94,
   "metadata": {},
   "outputs": [],
   "source": [
    "file_name = '/data/Datasets/Charades/Annotations/Charades_v1_classes_by_verb.txt'\n",
    "\n",
    "with open(file_name, 'w') as file:\n",
    "    for i, c in enumerate(classes):\n",
    "        v = verbs[i]\n",
    "        file.write('{} {} {}\\n'.format(i, v, verbs_names[v]))"
   ]
  },
  {
   "cell_type": "code",
   "execution_count": 99,
   "metadata": {},
   "outputs": [],
   "source": [
    "class_to_verb = {}\n",
    "with open(file_name, 'r') as file:\n",
    "    for line in file:\n",
    "        class_match = re.match('(\\d*) (.*) (\\d*)', line)\n",
    "        if class_match:\n",
    "            old_class_id, new_class_id, new_class_name = class_match.groups()\n",
    "        class_to_verb[int(old_class_id)] = int(new_class_id)"
   ]
  },
  {
   "cell_type": "code",
   "execution_count": 33,
   "metadata": {},
   "outputs": [],
   "source": [
    "# Compare pos_weight\n",
    "\n",
    "frame_array = np.array(class_atributes['#Frames'])\n",
    "total_frames = sum(frame_array)\n",
    "\n",
    "per_class_pos_w = torch.FloatTensor([(total_frames-p)/p for p in frame_array])\n",
    "torch.save(per_class_pos_w, '/data/Datasets/Charades/charades_pos_weight2.pt')"
   ]
  },
  {
   "cell_type": "code",
   "execution_count": 31,
   "metadata": {},
   "outputs": [
    {
     "data": {
      "text/plain": [
       "tensor([  73.8929,   92.3372,  135.7480,  263.8237,  143.2620,  494.6443,\n",
       "         146.4993, 1232.2216,  116.0523,   96.4904,  671.5491,   36.8393,\n",
       "         194.8233, 1010.1486,  115.5287,   30.1982,   51.6032,  404.3767,\n",
       "         264.3369,  138.1461,   58.5167,  223.3785,  297.3564,  283.8331,\n",
       "        1143.8052,  581.5593,   54.8589,  259.5665,  330.3057,  525.2471,\n",
       "         294.0053, 1737.2361,   73.9924,   68.3990,  276.3207,  297.0661,\n",
       "         635.6195,  355.6848,  189.6991,  777.2017,  125.7146,  415.8254,\n",
       "         377.9277,  411.7879,  407.3349, 2968.5200,  974.7316,  131.3356,\n",
       "         873.9082,  985.8042,  958.8672,   93.5218,   92.8053,  196.1794,\n",
       "         396.6118,  271.6789,  422.1293,  322.6734, 1099.7441,   22.1698,\n",
       "         792.8502,   32.8468,  125.9246,   95.9586, 1491.3353,   92.8327,\n",
       "        1153.4583,   85.7887,  578.9342,  501.7305,   81.2705,  341.5032,\n",
       "         102.0317,  372.7990,  905.4587,  341.1572,   99.8423,  480.9826,\n",
       "         243.4890,  529.4988,  684.1523,  147.4383,  173.1765, 1059.6478,\n",
       "         271.9565, 1651.9540, 1138.3325,  226.3352,  205.0305, 1288.3108,\n",
       "         745.9472, 1105.0416,  159.0813,  364.4146,  476.7955, 1102.7650,\n",
       "          93.4899,   66.8206,   95.0813,  879.4146,  580.1913, 4352.8228,\n",
       "         150.0020, 1145.2327,  439.9916,  519.9221,   50.7987,   36.0976,\n",
       "         215.5046,  170.8094,  144.7949,  799.8650,  226.7455,  152.2678,\n",
       "         166.5419,  102.6257,  453.8632,  384.4879,   49.5376,  162.2614,\n",
       "         166.7953,  331.1093,  242.4530,   62.6745,  215.3954,   70.3235,\n",
       "         305.7183,   87.1500,  159.6488,  384.1188,  225.0336, 1076.7006,\n",
       "          89.4853,  637.3246,  137.4843,   99.0350,  806.7005,  156.6768,\n",
       "        1040.4226,  603.7885, 1081.2318,  156.2761,  536.2308,  354.9941,\n",
       "         378.2180,  137.8788,  275.0833,  107.9801,  120.8048,   85.9306,\n",
       "         212.7644,   89.2631,   50.4796,  109.2970,   58.4288,  130.2345,\n",
       "          45.2613])"
      ]
     },
     "execution_count": 31,
     "metadata": {},
     "output_type": "execute_result"
    }
   ],
   "source": [
    "per_class_pos_w"
   ]
  },
  {
   "cell_type": "code",
   "execution_count": 24,
   "metadata": {},
   "outputs": [],
   "source": [
    "pos_w = torch.load('/data/Datasets/Charades/charades_pos_weight.pt')"
   ]
  },
  {
   "cell_type": "code",
   "execution_count": 25,
   "metadata": {},
   "outputs": [
    {
     "data": {
      "text/plain": [
       "tensor([  27.0113,   33.4677,   49.9477,   97.6062,   52.7059,  176.4791,\n",
       "          54.9476,  432.8925,   43.2456,   34.3418,  242.4513,   12.5238,\n",
       "          70.4935,  405.2042,   40.4424,   10.5810,   18.7631,  149.8074,\n",
       "          96.1049,   50.4085,   20.8376,   80.5009,  108.3773,  103.9632,\n",
       "         435.1042,  213.2371,   19.7877,   94.0198,  121.5721,  191.1769,\n",
       "         109.8110,  666.2631,   26.5684,   25.5383,  102.9363,  111.4678,\n",
       "         245.2827,  137.2398,   71.8954,  278.3262,   44.7165,  153.9107,\n",
       "         134.8831,  147.9692,  148.4654, 1117.8147,  355.9427,   47.2803,\n",
       "         329.6401,  361.2425,  359.1281,   33.8377,   32.7294,   70.0400,\n",
       "         142.8881,   98.4205,  151.1845,  114.9891,  392.6926,    7.4400,\n",
       "         274.6897,   11.2582,   45.2557,   34.8757,  561.3490,   32.3112,\n",
       "         423.1969,   29.7527,  207.4127,  179.6216,   28.7536,  126.9901,\n",
       "          35.8577,  137.7840,  335.2013,  132.1591,   36.8172,  185.3337,\n",
       "          88.3986,  204.2657,  251.2468,   53.2256,   62.1716,  385.6467,\n",
       "          98.7792,  651.4713,  420.2449,   85.2327,   74.4108,  488.7643,\n",
       "         273.9808,  411.4182,   58.6869,  129.0262,  180.1878,  406.0546,\n",
       "          35.4086,   24.0457,   35.6637,  327.8776,  213.8900, 1596.3119,\n",
       "          56.7196,  410.9680,  165.2539,  192.3816,   18.1522,   12.6166,\n",
       "          77.0641,   62.6175,   52.2318,  285.6769,   83.6190,   55.4466,\n",
       "          59.3442,   36.6104,  160.7363,  136.5435,   17.3869,   58.9563,\n",
       "          59.9936,  118.7380,   86.4574,   21.9002,   77.9206,   25.8472,\n",
       "         112.2479,   32.6226,   58.5407,  146.5985,   82.0473,  385.6001,\n",
       "          32.0776,  224.2792,   49.3101,   37.6281,  297.4095,   57.8229,\n",
       "         382.1603,  215.3245,  403.0047,   57.5139,  199.5752,  133.4002,\n",
       "         143.7026,   48.5196,   98.2069,   38.6694,   45.8730,   30.7707,\n",
       "          78.6020,   32.2996,   17.7495,   40.4732,   21.2881,   47.7435,\n",
       "          15.7974])"
      ]
     },
     "execution_count": 25,
     "metadata": {},
     "output_type": "execute_result"
    }
   ],
   "source": [
    "pos_w"
   ]
  },
  {
   "cell_type": "code",
   "execution_count": 32,
   "metadata": {},
   "outputs": [
    {
     "data": {
      "text/plain": [
       "tensor([2.7356, 2.7590, 2.7178, 2.7029, 2.7181, 2.8028, 2.6662, 2.8465, 2.6836,\n",
       "        2.8097, 2.7698, 2.9415, 2.7637, 2.4929, 2.8566, 2.8540, 2.7503, 2.6993,\n",
       "        2.7505, 2.7405, 2.8082, 2.7749, 2.7437, 2.7301, 2.6288, 2.7273, 2.7724,\n",
       "        2.7608, 2.7170, 2.7474, 2.6774, 2.6074, 2.7850, 2.6783, 2.6844, 2.6650,\n",
       "        2.5914, 2.5917, 2.6385, 2.7924, 2.8114, 2.7017, 2.8019, 2.7829, 2.7436,\n",
       "        2.6556, 2.7385, 2.7778, 2.6511, 2.7289, 2.6700, 2.7638, 2.8355, 2.8010,\n",
       "        2.7757, 2.7604, 2.7921, 2.8061, 2.8005, 2.9798, 2.8863, 2.9176, 2.7825,\n",
       "        2.7514, 2.6567, 2.8731, 2.7256, 2.8834, 2.7912, 2.7933, 2.8264, 2.6892,\n",
       "        2.8455, 2.7057, 2.7012, 2.5814, 2.7118, 2.5952, 2.7544, 2.5922, 2.7230,\n",
       "        2.7701, 2.7855, 2.7477, 2.7532, 2.5357, 2.7087, 2.6555, 2.7554, 2.6359,\n",
       "        2.7226, 2.6859, 2.7107, 2.8243, 2.6461, 2.7158, 2.6403, 2.7789, 2.6661,\n",
       "        2.6821, 2.7126, 2.7268, 2.6446, 2.7867, 2.6625, 2.7026, 2.7985, 2.8611,\n",
       "        2.7964, 2.7278, 2.7722, 2.7999, 2.7117, 2.7462, 2.8064, 2.8032, 2.8237,\n",
       "        2.8159, 2.8491, 2.7522, 2.7802, 2.7886, 2.8043, 2.8618, 2.7643, 2.7207,\n",
       "        2.7236, 2.6715, 2.7271, 2.6202, 2.7427, 2.7923, 2.7896, 2.8417, 2.7882,\n",
       "        2.6319, 2.7124, 2.7096, 2.7225, 2.8041, 2.6829, 2.7172, 2.6869, 2.6611,\n",
       "        2.6319, 2.8417, 2.8011, 2.7924, 2.6335, 2.7926, 2.7069, 2.7636, 2.8440,\n",
       "        2.7005, 2.7447, 2.7278, 2.8651])"
      ]
     },
     "execution_count": 32,
     "metadata": {},
     "output_type": "execute_result"
    }
   ],
   "source": [
    "per_class_pos_w / pos_w"
   ]
  },
  {
   "cell_type": "code",
   "execution_count": 41,
   "metadata": {},
   "outputs": [],
   "source": [
    "by_verb_pos_frames = np.zeros((len(verbs_names)))\n",
    "for i, c in enumerate(classes):\n",
    "    v = verbs[i]\n",
    "    class_frame_count = frame_array[i]\n",
    "    by_verb_pos_frames[v] += class_frame_count\n",
    "    \n",
    "per_verb_pos_w = torch.FloatTensor([(total_frames-p)/p for p in by_verb_pos_frames])\n",
    "torch.save(per_verb_pos_w, '/data/Datasets/Charades/charades_pos_weight_by_verb.pt')"
   ]
  },
  {
   "cell_type": "code",
   "execution_count": null,
   "metadata": {},
   "outputs": [],
   "source": []
  }
 ],
 "metadata": {
  "kernelspec": {
   "display_name": "Python 3",
   "language": "python",
   "name": "python3"
  },
  "language_info": {
   "codemirror_mode": {
    "name": "ipython",
    "version": 3
   },
   "file_extension": ".py",
   "mimetype": "text/x-python",
   "name": "python",
   "nbconvert_exporter": "python",
   "pygments_lexer": "ipython3",
   "version": "3.7.5"
  }
 },
 "nbformat": 4,
 "nbformat_minor": 4
}
