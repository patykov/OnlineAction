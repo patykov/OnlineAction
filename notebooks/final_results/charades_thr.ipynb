{
 "cells": [
  {
   "cell_type": "code",
   "execution_count": 2,
   "metadata": {},
   "outputs": [],
   "source": [
    "import os\n",
    "import re\n",
    "\n",
    "import numpy as np\n",
    "import torch\n",
    "\n",
    "import sys\n",
    "sys.path.insert(0, '../..')\n",
    "import metrics.charades_classify as cc"
   ]
  },
  {
   "cell_type": "code",
   "execution_count": 5,
   "metadata": {},
   "outputs": [],
   "source": [
    "dir_name = '/Volumes/UBUNTU 18_0/PAKOVA/outputs/Charades/'\n",
    "file_name = 'causal_eval_charades_r50_i3d_nl_8x8_stream_centerCrop'\n",
    "output_path = os.path.join(dir_name, file_name)\n",
    "\n",
    "ids_file = output_path + '_ids.npy'\n",
    "preds_file = output_path + '_preds.npy'\n",
    "\n",
    "test_ids = np.load(ids_file)\n",
    "test_classes = np.load(preds_file)"
   ]
  },
  {
   "cell_type": "code",
   "execution_count": 7,
   "metadata": {},
   "outputs": [
    {
     "ename": "KeyboardInterrupt",
     "evalue": "",
     "output_type": "error",
     "traceback": [
      "\u001b[0;31m---------------------------------------------------------------------------\u001b[0m",
      "\u001b[0;31mKeyboardInterrupt\u001b[0m                         Traceback (most recent call last)",
      "\u001b[0;32m<ipython-input-7-587cc23125ea>\u001b[0m in \u001b[0;36m<module>\u001b[0;34m\u001b[0m\n\u001b[1;32m      9\u001b[0m \u001b[0;31m# Check if there are duplicate items and SORT items\u001b[0m\u001b[0;34m\u001b[0m\u001b[0;34m\u001b[0m\u001b[0;34m\u001b[0m\u001b[0m\n\u001b[1;32m     10\u001b[0m \u001b[0mtest_ids\u001b[0m\u001b[0;34m,\u001b[0m \u001b[0mtest_index_order\u001b[0m \u001b[0;34m=\u001b[0m \u001b[0mnp\u001b[0m\u001b[0;34m.\u001b[0m\u001b[0munique\u001b[0m\u001b[0;34m(\u001b[0m\u001b[0mtest_ids\u001b[0m\u001b[0;34m,\u001b[0m \u001b[0mreturn_index\u001b[0m\u001b[0;34m=\u001b[0m\u001b[0;32mTrue\u001b[0m\u001b[0;34m)\u001b[0m\u001b[0;34m\u001b[0m\u001b[0;34m\u001b[0m\u001b[0m\n\u001b[0;32m---> 11\u001b[0;31m \u001b[0mtest_classes\u001b[0m \u001b[0;34m=\u001b[0m \u001b[0mnp\u001b[0m\u001b[0;34m.\u001b[0m\u001b[0marray\u001b[0m\u001b[0;34m(\u001b[0m\u001b[0mtest_classes\u001b[0m\u001b[0;34m)\u001b[0m\u001b[0;34m[\u001b[0m\u001b[0mtest_index_order\u001b[0m\u001b[0;34m]\u001b[0m\u001b[0;34m\u001b[0m\u001b[0;34m\u001b[0m\u001b[0m\n\u001b[0m\u001b[1;32m     12\u001b[0m \u001b[0;34m\u001b[0m\u001b[0m\n\u001b[1;32m     13\u001b[0m \u001b[0;31m# Asserting same lenght in gt and test\u001b[0m\u001b[0;34m\u001b[0m\u001b[0;34m\u001b[0m\u001b[0;34m\u001b[0m\u001b[0m\n",
      "\u001b[0;31mKeyboardInterrupt\u001b[0m: "
     ]
    }
   ],
   "source": [
    "gt_file = '/Volumes/UBUNTU 18_0/PAKOVA/data/Charades_v1_causal_test.txt'\n",
    "\n",
    "# Reading GT file\n",
    "gt_ids, gt_classes = cc.read_file(gt_file)\n",
    "gt_classes = np.array(gt_classes)\n",
    "n_test = len(gt_ids)\n",
    "num_classes = gt_classes.shape[1]\n",
    "\n",
    "# Check if there are duplicate items and SORT items\n",
    "test_ids, test_index_order = np.unique(test_ids, return_index=True)\n",
    "test_classes = np.array(test_classes)[test_index_order]\n",
    "\n",
    "# Asserting same lenght in gt and test\n",
    "if n_test != len(test_ids):\n",
    "    print('Wrong number of samples! Expected {} frames, found {}'.format(\n",
    "        n_test, len(test_ids)))\n",
    "\n",
    "    # Exclude missing frames from gt\n",
    "    equal = set(test_ids)\n",
    "    missing_ids = [i for i, x in enumerate(gt_ids) if x not in equal]\n",
    "    for m_id in sorted(missing_ids, reverse=True):\n",
    "        del gt_ids[m_id]\n",
    "    gt_classes = np.delete(gt_classes, missing_ids, axis=0)\n",
    "    print('Removed {} frames from GT'.format(len(missing_ids)))\n",
    "    print('GT ids: {}, GT classes: {}, test ids: {}, test classes: {}'.format(\n",
    "        len(gt_ids), gt_classes.shape, len(test_ids), test_classes.shape\n",
    "    ))\n",
    "\n",
    "assert np.all(gt_ids == test_ids)"
   ]
  },
  {
   "cell_type": "code",
   "execution_count": null,
   "metadata": {},
   "outputs": [],
   "source": []
  }
 ],
 "metadata": {
  "kernelspec": {
   "display_name": "Python 3",
   "language": "python",
   "name": "python3"
  },
  "language_info": {
   "codemirror_mode": {
    "name": "ipython",
    "version": 3
   },
   "file_extension": ".py",
   "mimetype": "text/x-python",
   "name": "python",
   "nbconvert_exporter": "python",
   "pygments_lexer": "ipython3",
   "version": "3.6.10"
  }
 },
 "nbformat": 4,
 "nbformat_minor": 4
}
