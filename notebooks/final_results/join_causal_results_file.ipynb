{
 "cells": [
  {
   "cell_type": "code",
   "execution_count": 2,
   "metadata": {},
   "outputs": [],
   "source": [
    "import os"
   ]
  },
  {
   "cell_type": "code",
   "execution_count": null,
   "metadata": {},
   "outputs": [
    {
     "name": "stdout",
     "output_type": "stream",
     "text": [
      "/data/OnlineActionRecognition/outputs/causal_eval_kinetics_r50_i3d_baseline_32x2_valFullyConv/causal_eval_kinetics_r50_i3d_baseline_32x2_valFullyConv_0.txt\n",
      "/data/OnlineActionRecognition/outputs/causal_eval_kinetics_r50_i3d_baseline_32x2_valFullyConv/causal_eval_kinetics_r50_i3d_baseline_32x2_valFullyConv_1.txt\n",
      "/data/OnlineActionRecognition/outputs/causal_eval_kinetics_r50_i3d_baseline_32x2_valFullyConv/causal_eval_kinetics_r50_i3d_baseline_32x2_valFullyConv_2.txt\n",
      "/data/OnlineActionRecognition/outputs/causal_eval_kinetics_r50_i3d_baseline_32x2_valFullyConv/causal_eval_kinetics_r50_i3d_baseline_32x2_valFullyConv_3.txt\n",
      "/data/OnlineActionRecognition/outputs/causal_eval_kinetics_r50_i3d_baseline_32x2_valFullyConv/causal_eval_kinetics_r50_i3d_baseline_32x2_valFullyConv_4.txt\n",
      "/data/OnlineActionRecognition/outputs/causal_eval_kinetics_r50_i3d_baseline_32x2_valFullyConv/causal_eval_kinetics_r50_i3d_baseline_32x2_valFullyConv_5.txt\n",
      "/data/OnlineActionRecognition/outputs/causal_eval_kinetics_r50_i3d_baseline_32x2_valFullyConv/causal_eval_kinetics_r50_i3d_baseline_32x2_valFullyConv_6.txt\n",
      "/data/OnlineActionRecognition/outputs/causal_eval_kinetics_r50_i3d_baseline_32x2_valFullyConv/causal_eval_kinetics_r50_i3d_baseline_32x2_valFullyConv_7.txt\n",
      "/data/OnlineActionRecognition/outputs/causal_eval_kinetics_r50_i3d_baseline_32x2_valFullyConv/causal_eval_kinetics_r50_i3d_baseline_32x2_valFullyConv_joined.txt\n"
     ]
    }
   ],
   "source": [
    "files_dir = '/data/OnlineActionRecognition/outputs/causal_eval_kinetics_r50_i3d_baseline_32x2_valFullyConv'\n",
    "\n",
    "\n",
    "result_files = sorted([os.path.join(files_dir, f) for f in os.listdir(files_dir) if f.endswith('.txt')])\n",
    "joined_file = os.path.join(files_dir, os.path.basename(files_dir) + '_joined.txt')\n",
    "\n",
    "with open(joined_file, 'w') as outfile:\n",
    "    for fid, fname in enumerate(result_files):\n",
    "        print(fname)\n",
    "        with open(fname) as infile:\n",
    "            if (fid > 0) and ('kinetics' in fname): # remove header for kinetics files\n",
    "                infile.readline()\n",
    "            for line in infile:\n",
    "                outfile.write(line)"
   ]
  },
  {
   "cell_type": "code",
   "execution_count": 1,
   "metadata": {},
   "outputs": [],
   "source": [
    "import numpy as np\n",
    "from scipy.special import softmax"
   ]
  },
  {
   "cell_type": "code",
   "execution_count": 2,
   "metadata": {},
   "outputs": [],
   "source": [
    "a = np.random.rand(5, 10)"
   ]
  },
  {
   "cell_type": "code",
   "execution_count": 4,
   "metadata": {},
   "outputs": [],
   "source": [
    "b = a.mean(axis=0)"
   ]
  },
  {
   "cell_type": "code",
   "execution_count": 12,
   "metadata": {},
   "outputs": [],
   "source": [
    "a_soft = softmax(a, axis=1).mean(0)\n",
    "b_soft = softmax(b)"
   ]
  },
  {
   "cell_type": "code",
   "execution_count": 14,
   "metadata": {},
   "outputs": [
    {
     "data": {
      "text/plain": [
       "array([0.10497911, 0.09848691, 0.10228293, 0.08736629, 0.09609432,\n",
       "       0.11584752, 0.10178227, 0.10740883, 0.10631441, 0.0794374 ])"
      ]
     },
     "execution_count": 14,
     "metadata": {},
     "output_type": "execute_result"
    }
   ],
   "source": [
    "a_soft"
   ]
  },
  {
   "cell_type": "code",
   "execution_count": 8,
   "metadata": {},
   "outputs": [
    {
     "data": {
      "text/plain": [
       "array([0.10132903, 0.09769313, 0.10253735, 0.08902716, 0.09676436,\n",
       "       0.11722122, 0.103152  , 0.1074683 , 0.10450172, 0.08030573])"
      ]
     },
     "execution_count": 8,
     "metadata": {},
     "output_type": "execute_result"
    }
   ],
   "source": [
    "b_soft"
   ]
  },
  {
   "cell_type": "code",
   "execution_count": null,
   "metadata": {},
   "outputs": [],
   "source": []
  }
 ],
 "metadata": {
  "kernelspec": {
   "display_name": "Python 3",
   "language": "python",
   "name": "python3"
  },
  "language_info": {
   "codemirror_mode": {
    "name": "ipython",
    "version": 3
   },
   "file_extension": ".py",
   "mimetype": "text/x-python",
   "name": "python",
   "nbconvert_exporter": "python",
   "pygments_lexer": "ipython3",
   "version": "3.6.10"
  }
 },
 "nbformat": 4,
 "nbformat_minor": 2
}
