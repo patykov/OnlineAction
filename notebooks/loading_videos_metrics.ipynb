{
 "cells": [
  {
   "cell_type": "code",
   "execution_count": 1,
   "metadata": {},
   "outputs": [],
   "source": [
    "import os\n",
    "import csv\n",
    "import torch\n",
    "import time\n",
    "import numpy as np\n",
    "\n",
    "import cv2\n",
    "from PIL import Image\n",
    "\n",
    "import matplotlib.pyplot as plt"
   ]
  },
  {
   "cell_type": "code",
   "execution_count": 41,
   "metadata": {},
   "outputs": [],
   "source": [
    "class VideoRecord(object):\n",
    "    def __init__(self, video_path, label):\n",
    "        self.path = video_path\n",
    "        self.video = cv2.VideoCapture(self.path)\n",
    "        # Getting some properties after the first frame\n",
    "        self.num_frames = self._get_num_frames()\n",
    "        self.fps = self.video.get(cv2.CAP_PROP_FPS)\n",
    "        self.label = label\n",
    "\n",
    "    def _get_num_frames(self):\n",
    "        count = 0\n",
    "        success, frame = self.video.read()\n",
    "        if not success:\n",
    "            print('Failed to load video {}'.format(self.path))\n",
    "            \n",
    "        self.cv2_num_frames = self.video.get(cv2.CAP_PROP_FRAME_COUNT)\n",
    "        while(success):\n",
    "            success, frame = self.video.read()\n",
    "            count += 1\n",
    "        self.video.set(2, 0)\n",
    "\n",
    "        return count\n",
    "\n",
    "    def get_frames(self, indices):\n",
    "        \"\"\"\n",
    "        Argument:\n",
    "            indices : Sorted list of frames indices\n",
    "        Returns:\n",
    "            images : Dictionary in format {frame_id: PIL Image}\n",
    "        \"\"\"\n",
    "        images = dict()\n",
    "        self.video.set(cv2.CAP_PROP_POS_FRAMES, min(indices))\n",
    "        for count in range(min(indices), max(indices)+1):\n",
    "            success, frame = self.video.read()\n",
    "            if success is False:\n",
    "                print('\\nCould not load frame {} from video {}\\n'.format(count, self.path))\n",
    "                return None\n",
    "\n",
    "            frame = cv2.cvtColor(frame, cv2.COLOR_BGR2RGB)\n",
    "            if count in indices:\n",
    "                images[count] = Image.fromarray(frame)\n",
    "\n",
    "        return images\n"
   ]
  },
  {
   "cell_type": "code",
   "execution_count": 40,
   "metadata": {},
   "outputs": [],
   "source": [
    "def parse_list(list_file):\n",
    "        video_list = []\n",
    "        with open(list_file) as f:\n",
    "            reader = csv.DictReader(f)\n",
    "            for row in reader:\n",
    "                vid = row['id']\n",
    "                actions = row['actions']\n",
    "                length = row['length']\n",
    "                if actions == '':\n",
    "                    actions = []\n",
    "                else:\n",
    "                    actions = [a.split(' ') for a in actions.split(';')]\n",
    "                    actions = [{'class': x, 'start': float(\n",
    "                        y), 'end': float(z)} for x, y, z in actions]\n",
    "                video_list.append([actions, vid, length])\n",
    "                \n",
    "        return video_list\n",
    "\n",
    "train_file = '/media/v-pakova/Datasets/Charades/Annotations/Charades_v1_train.csv'\n",
    "test_file = '/media/v-pakova/Datasets/Charades/Annotations/Charades_v1_test.csv'\n",
    "root_path = '/media/v-pakova/Datasets/Charades/Charades_v1_480'\n",
    "num_classes = 157\n",
    "FPS = 24\n",
    "\n",
    "train_list = parse_list(train_file)\n",
    "test_list = parse_list(test_file)"
   ]
  },
  {
   "cell_type": "code",
   "execution_count": 48,
   "metadata": {
    "scrolled": true
   },
   "outputs": [],
   "source": [
    "def get_fps_dict(video_list):\n",
    "    fps_dict = {}\n",
    "    for i, (label, vid, length) in enumerate(video_list):\n",
    "        if i%100 == 0:\n",
    "            print(i)\n",
    "\n",
    "        record = VideoRecord(os.path.join(root_path, vid+'.mp4'), label)\n",
    "        if record.fps in fps_dict:\n",
    "            fps_dict[record.fps] += 1\n",
    "        else:\n",
    "            fps_dict[record.fps] = 1\n",
    "            \n",
    "    return fps_dict\n",
    "    "
   ]
  },
  {
   "cell_type": "code",
   "execution_count": null,
   "metadata": {},
   "outputs": [
    {
     "name": "stdout",
     "output_type": "stream",
     "text": [
      "0\n"
     ]
    }
   ],
   "source": [
    "train_fps = get_fps_dict(train_list)\n",
    "test_fps = get_fps_dict(test_list)"
   ]
  },
  {
   "cell_type": "code",
   "execution_count": 113,
   "metadata": {},
   "outputs": [],
   "source": [
    "def print_fps(fps_list, mode='training'):\n",
    "    plt.figure(figsize=(20,10))\n",
    "    x = range(len(fps_list[:,0]))\n",
    "    plt.bar(x, fps_list[:,1])\n",
    "    plt.xticks(x, fps_list[:,0])\n",
    "\n",
    "    plt.axhline(max(fps_list[:,1]), linestyle='--', color='r')\n",
    "\n",
    "    l, r = plt.xlim()\n",
    "    plt.text(r+.5, max(fps_list[:,1]), int(max(fps_list[:,1])), va='center', ha=\"left\")\n",
    "    plt.text(r+.5, min(fps_list[:,1]), int(min(fps_list[:,1])), va='center', ha=\"left\")\n",
    "\n",
    "    plt.title('Quantity of videos per fps in {} data'.format(mode), fontsize=20)\n",
    "    plt.tick_params(labelsize=14)\n",
    "\n",
    "    plt.show()\n",
    "\n",
    "    \n",
    "def rounded_fps(fps_dict):\n",
    "    rounded = {}\n",
    "    for fps, count in fps_dict.items():\n",
    "        fps = round(fps)\n",
    "        if fps in rounded:\n",
    "            rounded[fps] += count\n",
    "        else:\n",
    "            rounded[fps] = count\n",
    "    return rounded"
   ]
  },
  {
   "cell_type": "code",
   "execution_count": 114,
   "metadata": {
    "scrolled": false
   },
   "outputs": [
    {
     "data": {
      "image/png": "[encoded data removed]",
      "text/plain": [
       "<Figure size 1440x720 with 1 Axes>"
      ]
     },
     "metadata": {
      "needs_background": "light"
     },
     "output_type": "display_data"
    },
    {
     "data": {
      "image/png": "[encoded data removed]",
      "text/plain": [
       "<Figure size 1440x720 with 1 Axes>"
      ]
     },
     "metadata": {
      "needs_background": "light"
     },
     "output_type": "display_data"
    }
   ],
   "source": [
    "rounded_train = rounded_fps(train_fps)\n",
    "rounded_test = rounded_fps(test_fps)\n",
    "\n",
    "train_fps_list = np.array(sorted([[f[0], f[1]] for f in rounded_train.items()], key=lambda x: x[0]))\n",
    "test_fps_list = np.array(sorted([[f[0], f[1]] for f in rounded_test.items()], key=lambda x: x[0]))\n",
    "\n",
    "print_fps(train_fps_list, 'training')\n",
    "print_fps(test_fps_list, 'testing')"
   ]
  },
  {
   "cell_type": "code",
   "execution_count": 82,
   "metadata": {},
   "outputs": [
    {
     "data": {
      "text/plain": [
       "array([ 24,  25,  29,  30,  20,  17,  10,  21,  15,  60,  18,  16,   9,\n",
       "        27,  26,  11,  12, 120,  19,  14,  13,  28,   8,  23,  22,   7,\n",
       "         6,  43,  50,  57])"
      ]
     },
     "execution_count": 82,
     "metadata": {},
     "output_type": "execute_result"
    }
   ],
   "source": [
    "train_fps_list[:,0]"
   ]
  },
  {
   "cell_type": "code",
   "execution_count": null,
   "metadata": {},
   "outputs": [
    {
     "name": "stdout",
     "output_type": "stream",
     "text": [
      "Failed to load video /media/v-pakova/Datasets/Kinetics/400/train_clips_256/air_drumming/CUxsn4YXksI_000119_000129.mp4\n",
      "Failed to load video /media/v-pakova/Datasets/Kinetics/400/train_clips_256/assembling_computer/xxUezLcXkDs_000256_000266.mp4\n"
     ]
    }
   ],
   "source": [
    "kinetics_file =  '/media/v-pakova/Datasets/Kinetics/400/Annotation/train_clips_256_list.txt'\n",
    "kinetics_root_path =  '/media/v-pakova/Datasets/Kinetics/400/train_clips_256'\n",
    "\n",
    "kinetics_list = [x.strip().split(' ') for x in open(kinetics_file)]\n",
    "\n",
    "kinetics_fps_dict = {}\n",
    "for i, (label, vid) in enumerate(kinetics_list):\n",
    "\n",
    "    record = VideoRecord(os.path.join(kinetics_root_path, vid), label)\n",
    "    if record.fps in kinetics_fps_dict:\n",
    "            kinetics_fps_dict[record.fps] += 1\n",
    "    else:\n",
    "            kinetics_fps_dict[record.fps] = 1\n"
   ]
  },
  {
   "cell_type": "code",
   "execution_count": 36,
   "metadata": {},
   "outputs": [
    {
     "data": {
      "text/plain": [
       "2"
      ]
     },
     "execution_count": 36,
     "metadata": {},
     "output_type": "execute_result"
    }
   ],
   "source": [
    "cv2.CAP_PROP_POS_AVI_RATIO "
   ]
  },
  {
   "cell_type": "code",
   "execution_count": 123,
   "metadata": {},
   "outputs": [
    {
     "data": {
      "text/plain": [
       "array([ 0,  1,  2,  3,  4,  5,  6,  7,  8,  9, 10, 11, 12, 13, 14, 15, 16,\n",
       "       17, 18, 19, 20, 21, 22, 23, 24, 25, 26, 27, 28, 29, 30, 32])"
      ]
     },
     "execution_count": 123,
     "metadata": {},
     "output_type": "execute_result"
    }
   ],
   "source": [
    "np.linspace(0, 32, 32, dtype=int)"
   ]
  },
  {
   "cell_type": "code",
   "execution_count": 8,
   "metadata": {},
   "outputs": [
    {
     "name": "stdout",
     "output_type": "stream",
     "text": [
      "Open a video:     0.002869129180908203\n",
      "Set a pos:        0.018662691116333008\n",
      "Read until a pos: 0.000576019287109375\n",
      "Set begin:        0.029413461685180664\n",
      "Release a video:  0.0007104873657226562\n"
     ]
    }
   ],
   "source": [
    "video_path = '/data/Datasets/Charades/Charades_v1_480/U08M9.mp4'\n",
    "\n",
    "t1 = time.time()\n",
    "\n",
    "v = cv2.VideoCapture(video_path)\n",
    "t2 = time.time()\n",
    "\n",
    "v.set(cv2.CAP_PROP_POS_FRAMES, 100)\n",
    "t3 = time.time()\n",
    "\n",
    "v.set(2, 0)\n",
    "t4 = time.time()\n",
    "\n",
    "for i in range(100):\n",
    "    success, frame = v.read()\n",
    "t5 = time.time()\n",
    "\n",
    "v.release()\n",
    "t6 = time.time()\n",
    "\n",
    "print('Open a video:     {}'.format(t2-t1))\n",
    "print('Set a pos:        {}'.format(t3-t2))\n",
    "print('Read until a pos: {}'.format(t4-t3))\n",
    "print('Set begin:        {}'.format(t5-t4))\n",
    "print('Release a video:  {}'.format(t6-t5))"
   ]
  },
  {
   "cell_type": "code",
   "execution_count": null,
   "metadata": {},
   "outputs": [],
   "source": []
  },
  {
   "cell_type": "code",
   "execution_count": 10,
   "metadata": {},
   "outputs": [],
   "source": [
    "import sys\n",
    "sys.path.insert(0, '..')\n",
    "from datasets.video_record import VideoRecord\n",
    "\n",
    "import os\n",
    "import csv"
   ]
  },
  {
   "cell_type": "code",
   "execution_count": 6,
   "metadata": {},
   "outputs": [],
   "source": [
    "train_file = '/data/Datasets/Charades/Annotations/Charades_v1_train.csv'\n",
    "test_file = '/data/Datasets/Charades/Annotations/Charades_v1_test.csv'\n",
    "root_path = '/data/Datasets/Charades/Charades_v1_480'"
   ]
  },
  {
   "cell_type": "code",
   "execution_count": 4,
   "metadata": {},
   "outputs": [],
   "source": [
    "def _parse_list(list_file):\n",
    "    video_list = []\n",
    "    with open(list_file) as f:\n",
    "        reader = csv.DictReader(f)\n",
    "        for row in reader:\n",
    "            vid = row['id'] + '.mp4'\n",
    "            actions = row['actions']\n",
    "            if actions == '':\n",
    "                actions = []\n",
    "            else:\n",
    "                actions = [a.split(' ') for a in actions.split(';')]\n",
    "                actions = [{\n",
    "                    'class': x,\n",
    "                    'start': float(y),\n",
    "                    'end': float(z)\n",
    "                } for x, y, z in actions]\n",
    "            video_list.append([actions, vid])\n",
    "\n",
    "    return video_list"
   ]
  },
  {
   "cell_type": "code",
   "execution_count": 7,
   "metadata": {},
   "outputs": [],
   "source": [
    "train_list = _parse_list(train_file)\n",
    "test_list = _parse_list(test_file)"
   ]
  },
  {
   "cell_type": "code",
   "execution_count": 11,
   "metadata": {},
   "outputs": [],
   "source": [
    "def load_videos(video_list):\n",
    "    for index, (label, video_path) in enumerate(video_list):\n",
    "        try:\n",
    "            record = VideoRecord(os.path.join(root_path, video_path), label)\n",
    "\n",
    "        except ValueError as e:\n",
    "            print(e)"
   ]
  },
  {
   "cell_type": "code",
   "execution_count": 12,
   "metadata": {},
   "outputs": [
    {
     "name": "stdout",
     "output_type": "stream",
     "text": [
      "Training videos....\n",
      "Testing videos....\n"
     ]
    }
   ],
   "source": [
    "print('Training videos....')\n",
    "load_videos(train_list)\n",
    "print('Testing videos....')\n",
    "load_videos(test_list)"
   ]
  },
  {
   "cell_type": "code",
   "execution_count": null,
   "metadata": {},
   "outputs": [],
   "source": []
  }
 ],
 "metadata": {
  "kernelspec": {
   "display_name": "Python 3",
   "language": "python",
   "name": "python3"
  },
  "language_info": {
   "codemirror_mode": {
    "name": "ipython",
    "version": 3
   },
   "file_extension": ".py",
   "mimetype": "text/x-python",
   "name": "python",
   "nbconvert_exporter": "python",
   "pygments_lexer": "ipython3",
   "version": "3.7.3"
  }
 },
 "nbformat": 4,
 "nbformat_minor": 2
}
