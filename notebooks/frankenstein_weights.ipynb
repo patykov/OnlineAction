{
 "cells": [
  {
   "cell_type": "code",
   "execution_count": 27,
   "metadata": {},
   "outputs": [],
   "source": [
    "import torch\n",
    "import torch.nn as nn\n",
    "from torch.nn import functional as F\n",
    "import numpy as np\n",
    "import pickle\n",
    "import re"
   ]
  },
  {
   "cell_type": "code",
   "execution_count": 31,
   "metadata": {},
   "outputs": [],
   "source": [
    "baseline_path = (\"/media/v-pakova/New Volume1/OnlineActionRecognition/models/pre-trained/\"\n",
    "                 \"non-local/i3d_baseline_32x2_IN_pretrain_400k.pkl\")\n",
    "nonlocal_path = (\"/media/v-pakova/New Volume1/OnlineActionRecognition/models/pre-trained/\"\n",
    "                 \"non-local/i3d_nonlocal_32x2_IN_pretrain_400k.pkl\")\n",
    "nonlocal2_path = (\"/media/v-pakova/New Volume1/OnlineActionRecognition/models/pre-trained/\"\n",
    "                 \"non-local/i3d_nonlocal_128x1_I3D_pretrain_400k.pkl\")\n",
    "\n",
    "baseline_data = pickle.load(open(baseline_path, 'rb'), encoding='latin')['blobs']\n",
    "baseline_data = {k: v for k, v in sorted(baseline_data.items()) if 'momentum' not in k}\n",
    "nonlocal_data = pickle.load(open(nonlocal_path, 'rb'), encoding='latin')['blobs']\n",
    "nonlocal_data = {k: v for k, v in sorted(nonlocal_data.items()) if 'momentum' not in k}\n",
    "nonlocal2_data = pickle.load(open(nonlocal2_path, 'rb'), encoding='latin')['blobs']\n",
    "nonlocal2_data = {k: v for k, v in sorted(nonlocal2_data.items()) if 'momentum' not in k}"
   ]
  },
  {
   "cell_type": "code",
   "execution_count": 40,
   "metadata": {},
   "outputs": [],
   "source": [
    "new_baseline_data = nonlocal_data.copy()\n",
    "new_baseline_data.update(baseline_data)\n",
    "new_data = {'blobs': new_baseline_data}"
   ]
  },
  {
   "cell_type": "code",
   "execution_count": 41,
   "metadata": {},
   "outputs": [],
   "source": [
    "output_file = (\"/media/v-pakova/New Volume1/OnlineActionRecognition/models/pre-trained/\"\n",
    "               \"non-local/i3d_baseline_w_nl_32x2.pkl\")\n",
    "with open(output_file, 'wb') as handle:\n",
    "    pickle.dump(new_data, handle, protocol=pickle.HIGHEST_PROTOCOL)"
   ]
  },
  {
   "cell_type": "code",
   "execution_count": null,
   "metadata": {},
   "outputs": [],
   "source": []
  }
 ],
 "metadata": {
  "kernelspec": {
   "display_name": "Python 3",
   "language": "python",
   "name": "python3"
  },
  "language_info": {
   "codemirror_mode": {
    "name": "ipython",
    "version": 3
   },
   "file_extension": ".py",
   "mimetype": "text/x-python",
   "name": "python",
   "nbconvert_exporter": "python",
   "pygments_lexer": "ipython3",
   "version": "3.7.1"
  }
 },
 "nbformat": 4,
 "nbformat_minor": 2
}
