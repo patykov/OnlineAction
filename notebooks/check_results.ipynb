{
 "cells": [
  {
   "cell_type": "code",
   "execution_count": 2,
   "metadata": {},
   "outputs": [],
   "source": [
    "import os\n",
    "import numpy as np\n",
    "from sklearn.metrics import confusion_matrix, accuracy_score, classification_report"
   ]
  },
  {
   "cell_type": "code",
   "execution_count": 7,
   "metadata": {},
   "outputs": [],
   "source": [
    "file_path = '/media/v-pakova/New Volume/OnlineActionRecognition/outputs/val_short_fullyconv.txt'\n",
    "with open(file_path, 'r') as file:\n",
    "    file.readline() # removing header\n",
    "    text = file.readlines()\n",
    "    \n",
    "split_text = [t.replace('\\n', '').split('|') for t in text]\n",
    "labels = [int(st[0]) for st in split_text]\n",
    "preds = [np.fromstring(st[1], dtype=int, sep=', ') for st in split_text]\n",
    "\n",
    "need_correction = True"
   ]
  },
  {
   "cell_type": "code",
   "execution_count": 59,
   "metadata": {},
   "outputs": [],
   "source": [
    "# labels = labels[::9]\n",
    "# preds = preds[::9]"
   ]
  },
  {
   "cell_type": "code",
   "execution_count": 8,
   "metadata": {},
   "outputs": [],
   "source": [
    "top1_pred = [p[0] for p in preds]\n",
    "top5_pred = []\n",
    "for l, p in zip(labels, preds):\n",
    "    if l in p:\n",
    "        top5_pred.append(l)\n",
    "    else:\n",
    "        top5_pred.append(p[0])"
   ]
  },
  {
   "cell_type": "code",
   "execution_count": 9,
   "metadata": {
    "scrolled": true
   },
   "outputs": [
    {
     "name": "stdout",
     "output_type": "stream",
     "text": [
      "\n",
      "Accuracy 0.00%\n",
      "\n",
      "              precision    recall  f1-score   support\n",
      "\n",
      "           0       0.00      0.00      0.00         7\n",
      "           1       0.00      0.00      0.00         5\n",
      "           2       0.00      0.00      0.00         6\n",
      "           3       0.00      0.00      0.00         5\n",
      "           4       0.00      0.00      0.00         6\n",
      "           5       0.00      0.00      0.00         6\n",
      "           6       0.00      0.00      0.00         5\n",
      "           7       0.00      0.00      0.00         6\n",
      "           8       0.00      0.00      0.00         5\n",
      "           9       0.00      0.00      0.00         6\n",
      "          10       0.00      0.00      0.00         5\n",
      "          11       0.00      0.00      0.00         6\n",
      "          12       0.00      0.00      0.00         5\n",
      "          13       0.00      0.00      0.00         6\n",
      "          14       0.00      0.00      0.00         5\n",
      "          15       0.00      0.00      0.00         6\n",
      "          16       0.00      0.00      0.00         5\n",
      "          17       0.00      0.00      0.00         5\n",
      "          36       0.00      0.00      0.00         0\n",
      "          50       0.00      0.00      0.00         0\n",
      "          52       0.00      0.00      0.00         0\n",
      "         130       0.00      0.00      0.00         0\n",
      "         145       0.00      0.00      0.00         0\n",
      "         162       0.00      0.00      0.00         0\n",
      "         167       0.00      0.00      0.00         0\n",
      "         175       0.00      0.00      0.00         0\n",
      "         264       0.00      0.00      0.00         0\n",
      "         267       0.00      0.00      0.00         0\n",
      "         318       0.00      0.00      0.00         0\n",
      "         328       0.00      0.00      0.00         0\n",
      "         337       0.00      0.00      0.00         0\n",
      "         362       0.00      0.00      0.00         0\n",
      "         398       0.00      0.00      0.00         0\n",
      "\n",
      "   micro avg       0.00      0.00      0.00       100\n",
      "   macro avg       0.00      0.00      0.00       100\n",
      "weighted avg       0.00      0.00      0.00       100\n",
      "\n"
     ]
    }
   ],
   "source": [
    "# TOP1 RESULTS\n",
    "\n",
    "cf = confusion_matrix(labels, top1_pred).astype(float)\n",
    "\n",
    "cls_cnt = cf.sum(axis=1)\n",
    "cls_hit = np.diag(cf)\n",
    "\n",
    "cls_acc = [h/c if c > 0 else None for (h, c) in zip(cls_hit, cls_cnt)]\n",
    "cls_acc1 = [x for x in cls_acc if x is not None]\n",
    "\n",
    "print('\\nAccuracy {:.02f}%\\n'.format(np.mean(cls_acc1) * 100))\n",
    "\n",
    "report1 = classification_report(labels, top1_pred)\n",
    "print(report1)"
   ]
  },
  {
   "cell_type": "code",
   "execution_count": 10,
   "metadata": {
    "scrolled": true
   },
   "outputs": [
    {
     "name": "stdout",
     "output_type": "stream",
     "text": [
      "\n",
      "Accuracy 1.11%\n",
      "\n",
      "              precision    recall  f1-score   support\n",
      "\n",
      "           0       0.00      0.00      0.00         7\n",
      "           1       0.00      0.00      0.00         5\n",
      "           2       0.00      0.00      0.00         6\n",
      "           3       0.00      0.00      0.00         5\n",
      "           4       0.00      0.00      0.00         6\n",
      "           5       0.00      0.00      0.00         6\n",
      "           6       0.00      0.00      0.00         5\n",
      "           7       0.00      0.00      0.00         6\n",
      "           8       0.00      0.00      0.00         5\n",
      "           9       0.00      0.00      0.00         6\n",
      "          10       0.00      0.00      0.00         5\n",
      "          11       0.00      0.00      0.00         6\n",
      "          12       0.00      0.00      0.00         5\n",
      "          13       0.00      0.00      0.00         6\n",
      "          14       0.00      0.00      0.00         5\n",
      "          15       0.00      0.00      0.00         6\n",
      "          16       0.17      0.20      0.18         5\n",
      "          17       0.00      0.00      0.00         5\n",
      "          36       0.00      0.00      0.00         0\n",
      "          50       0.00      0.00      0.00         0\n",
      "          52       0.00      0.00      0.00         0\n",
      "         130       0.00      0.00      0.00         0\n",
      "         145       0.00      0.00      0.00         0\n",
      "         162       0.00      0.00      0.00         0\n",
      "         167       0.00      0.00      0.00         0\n",
      "         175       0.00      0.00      0.00         0\n",
      "         264       0.00      0.00      0.00         0\n",
      "         267       0.00      0.00      0.00         0\n",
      "         318       0.00      0.00      0.00         0\n",
      "         328       0.00      0.00      0.00         0\n",
      "         337       0.00      0.00      0.00         0\n",
      "         362       0.00      0.00      0.00         0\n",
      "         398       0.00      0.00      0.00         0\n",
      "\n",
      "   micro avg       0.01      0.01      0.01       100\n",
      "   macro avg       0.01      0.01      0.01       100\n",
      "weighted avg       0.01      0.01      0.01       100\n",
      "\n"
     ]
    }
   ],
   "source": [
    "# TOP5 RESULTS\n",
    "\n",
    "cf = confusion_matrix(labels, top5_pred).astype(float)\n",
    "\n",
    "cls_cnt = cf.sum(axis=1)\n",
    "cls_hit = np.diag(cf)\n",
    "\n",
    "cls_acc = [h/c if c > 0 else None for (h, c) in zip(cls_hit, cls_cnt)]\n",
    "cls_acc5 = [x for x in cls_acc if x is not None]\n",
    "\n",
    "print('\\nAccuracy {:.02f}%\\n'.format(np.mean(cls_acc5) * 100))\n",
    "\n",
    "report5 = classification_report(labels, top5_pred)\n",
    "print(report5)"
   ]
  },
  {
   "cell_type": "code",
   "execution_count": 74,
   "metadata": {},
   "outputs": [],
   "source": [
    "base, file_name = os.path.split(file_path)\n",
    "name, ext = os.path.splitext(file_name)\n",
    "new_file = os.path.join(base, name+'_results'+ext)\n",
    "\n",
    "with open(new_file, 'w') as file:\n",
    "    file.write('Accuracy:\\n')\n",
    "    file.write('Top1: {:.02f}% | Top5: {:.02f}%\\n'.format(np.mean(cls_acc1) * 100, np.mean(cls_acc5) * 100))\n",
    "    file.write('\\n\\n-----------------------------------------------------\\nTop1 classification report:\\n')\n",
    "    file.write(report1)\n",
    "    file.write('\\n\\n-----------------------------------------------------\\nTop5 classification report:\\n')\n",
    "    file.write(report5)"
   ]
  },
  {
   "cell_type": "code",
   "execution_count": null,
   "metadata": {},
   "outputs": [],
   "source": []
  },
  {
   "cell_type": "code",
   "execution_count": null,
   "metadata": {},
   "outputs": [],
   "source": []
  }
 ],
 "metadata": {
  "kernelspec": {
   "display_name": "Python 3",
   "language": "python",
   "name": "python3"
  },
  "language_info": {
   "codemirror_mode": {
    "name": "ipython",
    "version": 3
   },
   "file_extension": ".py",
   "mimetype": "text/x-python",
   "name": "python",
   "nbconvert_exporter": "python",
   "pygments_lexer": "ipython3",
   "version": "3.7.1"
  }
 },
 "nbformat": 4,
 "nbformat_minor": 2
}
