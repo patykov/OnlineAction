{
 "cells": [
  {
   "cell_type": "code",
   "execution_count": 1,
   "metadata": {},
   "outputs": [],
   "source": [
    "import os\n",
    "import numpy as np\n",
    "from sklearn.metrics import confusion_matrix, accuracy_score, classification_report"
   ]
  },
  {
   "cell_type": "code",
   "execution_count": 47,
   "metadata": {},
   "outputs": [],
   "source": [
    "file_path = '/media/v-pakova/New Volume/OnlineActionRecognition/outputs/teste-gpu3.txt'\n",
    "with open(file_path, 'r') as file:\n",
    "    file.readline() # removing header\n",
    "    text = file.readlines()"
   ]
  },
  {
   "cell_type": "code",
   "execution_count": 48,
   "metadata": {},
   "outputs": [],
   "source": [
    "split_text = [t.replace('\\n', '').split('|') for t in text]\n",
    "labels = [int(st[0]) for st in split_text]\n",
    "preds = [np.fromstring(st[1], dtype=int, sep=', ') for st in split_text]"
   ]
  },
  {
   "cell_type": "code",
   "execution_count": 49,
   "metadata": {},
   "outputs": [],
   "source": [
    "top1_pred = [p[0] for p in preds]\n",
    "top5_pred = []\n",
    "for l, p in zip(labels, preds):\n",
    "    if l in p:\n",
    "        top5_pred.append(l)\n",
    "    else:\n",
    "        top5_pred.append(p[0])"
   ]
  },
  {
   "cell_type": "code",
   "execution_count": 50,
   "metadata": {},
   "outputs": [
    {
     "name": "stdout",
     "output_type": "stream",
     "text": [
      "\n",
      "Accuracy 60.81%\n",
      "\n",
      "              precision    recall  f1-score   support\n",
      "\n",
      "           0       1.00      0.70      0.82        50\n",
      "           1       1.00      0.52      0.68        31\n",
      "           5       0.00      0.00      0.00         0\n",
      "          34       0.00      0.00      0.00         0\n",
      "          40       0.00      0.00      0.00         0\n",
      "          41       0.00      0.00      0.00         0\n",
      "          47       0.00      0.00      0.00         0\n",
      "          65       0.00      0.00      0.00         0\n",
      "          67       0.00      0.00      0.00         0\n",
      "          68       0.00      0.00      0.00         0\n",
      "         100       0.00      0.00      0.00         0\n",
      "         109       0.00      0.00      0.00         0\n",
      "         130       0.00      0.00      0.00         0\n",
      "         149       0.00      0.00      0.00         0\n",
      "         212       0.00      0.00      0.00         0\n",
      "         219       0.00      0.00      0.00         0\n",
      "         240       0.00      0.00      0.00         0\n",
      "         256       0.00      0.00      0.00         0\n",
      "         278       0.00      0.00      0.00         0\n",
      "         288       0.00      0.00      0.00         0\n",
      "         306       0.00      0.00      0.00         0\n",
      "         325       0.00      0.00      0.00         0\n",
      "         344       0.00      0.00      0.00         0\n",
      "\n",
      "   micro avg       0.63      0.63      0.63        81\n",
      "   macro avg       0.09      0.05      0.07        81\n",
      "weighted avg       1.00      0.63      0.77        81\n",
      "\n"
     ]
    }
   ],
   "source": [
    "# TOP1 RESULTS\n",
    "\n",
    "cf = confusion_matrix(labels, top1_pred).astype(float)\n",
    "\n",
    "cls_cnt = cf.sum(axis=1)\n",
    "cls_hit = np.diag(cf)\n",
    "\n",
    "cls_acc = [h/c if c > 0 else None for (h, c) in zip(cls_hit, cls_cnt)]\n",
    "cls_acc = [x for x in cls_acc if x is not None]\n",
    "\n",
    "print('\\nAccuracy {:.02f}%\\n'.format(np.mean(cls_acc) * 100))\n",
    "\n",
    "report = classification_report(labels, top1_pred)\n",
    "print(report)"
   ]
  },
  {
   "cell_type": "code",
   "execution_count": 51,
   "metadata": {},
   "outputs": [
    {
     "name": "stdout",
     "output_type": "stream",
     "text": [
      "\n",
      "Accuracy 89.94%\n",
      "\n",
      "              precision    recall  f1-score   support\n",
      "\n",
      "           0       1.00      0.96      0.98        50\n",
      "           1       1.00      0.84      0.91        31\n",
      "          34       0.00      0.00      0.00         0\n",
      "          41       0.00      0.00      0.00         0\n",
      "          47       0.00      0.00      0.00         0\n",
      "          67       0.00      0.00      0.00         0\n",
      "         100       0.00      0.00      0.00         0\n",
      "         219       0.00      0.00      0.00         0\n",
      "         306       0.00      0.00      0.00         0\n",
      "\n",
      "   micro avg       0.91      0.91      0.91        81\n",
      "   macro avg       0.22      0.20      0.21        81\n",
      "weighted avg       1.00      0.91      0.95        81\n",
      "\n"
     ]
    }
   ],
   "source": [
    "# TOP5 RESULTS\n",
    "\n",
    "cf = confusion_matrix(labels, top5_pred).astype(float)\n",
    "\n",
    "cls_cnt = cf.sum(axis=1)\n",
    "cls_hit = np.diag(cf)\n",
    "\n",
    "cls_acc = [h/c if c > 0 else None for (h, c) in zip(cls_hit, cls_cnt)]\n",
    "cls_acc = [x for x in cls_acc if x is not None]\n",
    "\n",
    "print('\\nAccuracy {:.02f}%\\n'.format(np.mean(cls_acc) * 100))\n",
    "\n",
    "report = classification_report(labels, top5_pred)\n",
    "print(report)"
   ]
  },
  {
   "cell_type": "code",
   "execution_count": null,
   "metadata": {},
   "outputs": [],
   "source": []
  }
 ],
 "metadata": {
  "kernelspec": {
   "display_name": "Python 3",
   "language": "python",
   "name": "python3"
  },
  "language_info": {
   "codemirror_mode": {
    "name": "ipython",
    "version": 3
   },
   "file_extension": ".py",
   "mimetype": "text/x-python",
   "name": "python",
   "nbconvert_exporter": "python",
   "pygments_lexer": "ipython3",
   "version": "3.7.1"
  }
 },
 "nbformat": 4,
 "nbformat_minor": 2
}
