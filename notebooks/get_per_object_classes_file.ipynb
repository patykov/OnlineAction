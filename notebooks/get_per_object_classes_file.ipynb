{
 "cells": [
  {
   "cell_type": "code",
   "execution_count": 1,
   "metadata": {},
   "outputs": [],
   "source": [
    "import os\n",
    "import re"
   ]
  },
  {
   "cell_type": "code",
   "execution_count": 25,
   "metadata": {},
   "outputs": [],
   "source": [
    "dir_path = '/Volumes/UBUNTU 18_0/PAKOVA/data/'\n",
    "\n",
    "map_file = dir_path + 'Charades_v1_mapping.txt'\n",
    "obj_classes = dir_path + 'Charades_v1_objectclasses.txt'\n",
    "new_file = dir_path + 'Charades_v1_classes_by_object.txt'"
   ]
  },
  {
   "cell_type": "code",
   "execution_count": 15,
   "metadata": {},
   "outputs": [],
   "source": [
    "class_to_new = {}\n",
    "with open(map_file, 'r') as file:\n",
    "    for line in file:\n",
    "        class_match = re.match(r'c(\\d*) o(\\d*) v(\\d*)', line)\n",
    "        if class_match:\n",
    "            old_class_id, new_class_id, _ = class_match.groups()\n",
    "            class_to_new[int(old_class_id)] = int(new_class_id)"
   ]
  },
  {
   "cell_type": "code",
   "execution_count": 21,
   "metadata": {},
   "outputs": [],
   "source": [
    "new_class_name = {}\n",
    "with open(obj_classes, 'r') as file:\n",
    "    for line in file:\n",
    "        class_match = re.match(r'o(\\d*) (.*)', line)\n",
    "        if class_match:\n",
    "            class_id, class_name = class_match.groups()\n",
    "            new_class_name[int(class_id)] = class_name"
   ]
  },
  {
   "cell_type": "code",
   "execution_count": 30,
   "metadata": {},
   "outputs": [],
   "source": [
    "with open(new_file, 'w') as file:\n",
    "    for old_class, new_class in class_to_new.items():\n",
    "        line = '{} {} {}\\n'.format(old_class, new_class, new_class_name[new_class])\n",
    "        file.write(line)"
   ]
  },
  {
   "cell_type": "code",
   "execution_count": null,
   "metadata": {},
   "outputs": [],
   "source": []
  }
 ],
 "metadata": {
  "kernelspec": {
   "display_name": "Python 3",
   "language": "python",
   "name": "python3"
  },
  "language_info": {
   "codemirror_mode": {
    "name": "ipython",
    "version": 3
   },
   "file_extension": ".py",
   "mimetype": "text/x-python",
   "name": "python",
   "nbconvert_exporter": "python",
   "pygments_lexer": "ipython3",
   "version": "3.6.10"
  }
 },
 "nbformat": 4,
 "nbformat_minor": 4
}
