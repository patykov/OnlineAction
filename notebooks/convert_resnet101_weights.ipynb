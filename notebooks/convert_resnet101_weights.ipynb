{
 "cells": [
  {
   "cell_type": "code",
   "execution_count": 2,
   "metadata": {},
   "outputs": [],
   "source": [
    "import torch\n",
    "import sys\n",
    "sys.path.insert(0, '..')\n",
    "from models.baselines.nonlocal_net import resnet101"
   ]
  },
  {
   "cell_type": "code",
   "execution_count": 61,
   "metadata": {},
   "outputs": [],
   "source": [
    "model_101 = resnet101()\n",
    "weights_50 = torch.load('/data/OnlineActionRecognition/models/pre-trained/resnet50_nonlocal_i3d_kinetics_32x2.pth')"
   ]
  },
  {
   "cell_type": "code",
   "execution_count": 62,
   "metadata": {},
   "outputs": [],
   "source": [
    "weights_101 = model_101.state_dict()\n",
    "model_101_k = weights_101.keys()\n",
    "\n",
    "for k50, w50 in weights_50.items():\n",
    "    if k50 in model_101_k:\n",
    "        assert model_101.state_dict()[k50].shape == w50.shape\n",
    "        weights_101[k50] = w50"
   ]
  },
  {
   "cell_type": "code",
   "execution_count": 63,
   "metadata": {},
   "outputs": [],
   "source": [
    "new_path = '/data/OnlineActionRecognition/models/pre-trained/resnet101_nonlocal_i3d_kinetics_32x2_partial.pth'\n",
    "torch.save(weights_101, new_path)"
   ]
  },
  {
   "cell_type": "code",
   "execution_count": 65,
   "metadata": {},
   "outputs": [
    {
     "data": {
      "text/plain": [
       "<All keys matched successfully>"
      ]
     },
     "execution_count": 65,
     "metadata": {},
     "output_type": "execute_result"
    }
   ],
   "source": [
    "partial_weights_101 = torch.load('/data/OnlineActionRecognition/models/pre-trained/resnet101_nonlocal_i3d_kinetics_32x2_partial.pth')\n",
    "    \n",
    "model = resnet101()\n",
    "model.load_state_dict(partial_weights_101, strict=True)"
   ]
  },
  {
   "cell_type": "code",
   "execution_count": null,
   "metadata": {},
   "outputs": [],
   "source": []
  }
 ],
 "metadata": {
  "kernelspec": {
   "display_name": "Python 3",
   "language": "python",
   "name": "python3"
  },
  "language_info": {
   "codemirror_mode": {
    "name": "ipython",
    "version": 3
   },
   "file_extension": ".py",
   "mimetype": "text/x-python",
   "name": "python",
   "nbconvert_exporter": "python",
   "pygments_lexer": "ipython3",
   "version": "3.7.3"
  }
 },
 "nbformat": 4,
 "nbformat_minor": 2
}
