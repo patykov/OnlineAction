{
 "cells": [
  {
   "cell_type": "code",
   "execution_count": 1,
   "metadata": {},
   "outputs": [],
   "source": [
    "import os\n",
    "import numpy as np\n",
    "import re\n",
    "\n",
    "import sys\n",
    "sys.path.insert(0, '..')\n",
    "import metrics.charades_classify as cc\n",
    "\n",
    "import matplotlib.pyplot as plt\n",
    "from inspect import signature\n",
    "\n",
    "from scipy import signal\n",
    "from torch.nn import MaxPool1d\n",
    "\n",
    "import torch"
   ]
  },
  {
   "cell_type": "code",
   "execution_count": 2,
   "metadata": {},
   "outputs": [],
   "source": [
    "# gt_path = '/data/Datasets/Charades/Annotations/Charades_v1_causal_clip_test.txt'\n",
    "gt_path = '/data/Datasets/Charades/Annotations/Charades_v1_causal_allFrames_test.txt'\n",
    "cls_file = '/data/OnlineActionRecognition/outputs/causal_eval_charades_r50_i3d_nl_32x2/causal_eval_charades_r50_i3d_nl_32x2_4gpus_full_clip_joined.txt'\n",
    "per_frame = True\n",
    "calibrated = False"
   ]
  },
  {
   "cell_type": "code",
   "execution_count": 3,
   "metadata": {},
   "outputs": [],
   "source": [
    "def map_func(submission_array, gt_array, w_array):\n",
    "    m_aps = []\n",
    "    a_prec = np.zeros(submission_array.shape)\n",
    "    a_recall = np.zeros(submission_array.shape)\n",
    "    n_classes = submission_array.shape[1]\n",
    "    for oc_i in range(n_classes):\n",
    "        sorted_idxs = np.argsort(-submission_array[:, oc_i])\n",
    "        sorted_gt = gt_array[:, oc_i][sorted_idxs]\n",
    "        tp = sorted_gt == 1\n",
    "        fp = np.invert(tp)\n",
    "        n_pos = tp.sum()\n",
    "        n_gt = sorted_gt.sum()\n",
    "\n",
    "        t_pcs = np.cumsum(tp)\n",
    "        f_pcs = np.cumsum(fp)\n",
    "\n",
    "        w_t_pcs = t_pcs * w_array[oc_i]\n",
    "        prec = w_t_pcs / (f_pcs + w_t_pcs).astype(float)\n",
    "        recall = t_pcs / n_gt.astype(float)\n",
    "        avg_prec = 0\n",
    "        for i in range(submission_array.shape[0]):\n",
    "            if tp[i]:\n",
    "                avg_prec += prec[i]\n",
    "        m_aps.append(avg_prec / n_pos.astype(float))\n",
    "        a_prec[:, oc_i] = prec\n",
    "        a_recall[:, oc_i] = recall\n",
    "    m_aps = np.array(m_aps)\n",
    "    m_ap = np.nanmean(m_aps)\n",
    "    w_ap = np.nansum(m_aps * gt_array.sum(axis=0) / gt_array.sum().astype(float))\n",
    "         \n",
    "    return m_ap, w_ap, m_aps, a_prec, a_recall\n",
    "\n",
    "def charades_map(submission_array, gt_array, w_array=None):    \n",
    "    fix = submission_array.copy()\n",
    "    empty = np.sum(gt_array, axis=1) == 0\n",
    "    fix[empty, :] = np.NINF\n",
    "    if w_array is None:\n",
    "        w_array = np.ones(submission_array.shape[1])\n",
    "\n",
    "    return map_func(fix, gt_array, w_array) \n",
    "\n",
    "def plot_pr_curve(p, r, a):\n",
    "    step_kwargs = ({'step': 'post'}\n",
    "                   if 'step' in signature(plt.fill_between).parameters\n",
    "                   else {})\n",
    "    plt.step(r, p, color='b', alpha=0.2, where='post')\n",
    "    plt.fill_between(r, p, alpha=0.2, color='b', **step_kwargs)\n",
    "    \n",
    "    plt.axhline(a)\n",
    "\n",
    "    plt.xlabel('Recall')\n",
    "    plt.ylabel('Precision')\n",
    "    plt.ylim([0.0, 1.05])\n",
    "    plt.xlim([0.0, 1.0])\n",
    "    plt.title('2-class Precision-Recall curve: AP={0:0.2f}'.format(a))\n",
    "    plt.show()"
   ]
  },
  {
   "cell_type": "code",
   "execution_count": 4,
   "metadata": {},
   "outputs": [],
   "source": [
    "def divide_per_clip(ids, classes):\n",
    "    clips_ids = []\n",
    "    clips_classes = []\n",
    "\n",
    "    video_name = None\n",
    "    for i, video_frame in enumerate(ids):\n",
    "        name = video_frame.split('_')[0]\n",
    "        if name != video_name:\n",
    "            # new video! But first, save old video\n",
    "            if i > 0:\n",
    "                clips_ids.append(np.array(video_ids))\n",
    "                clips_classes.append(np.array(video_classes))\n",
    "            # star new one\n",
    "            video_ids = []\n",
    "            video_classes = []\n",
    "            video_name = name\n",
    "            \n",
    "        video_ids.append(video_frame)\n",
    "        video_classes.append(classes[i])\n",
    "        \n",
    "    # Append last video\n",
    "    clips_ids.append(np.array(video_ids))\n",
    "    clips_classes.append(np.array(video_classes))\n",
    "        \n",
    "    return np.array(clips_ids), np.array(clips_classes)"
   ]
  },
  {
   "cell_type": "code",
   "execution_count": 5,
   "metadata": {},
   "outputs": [],
   "source": [
    "gt_ids, gt_classes = cc.read_file(gt_path) # if per_frame else cc.load_charades(gt_path)\n",
    "gt_classes = np.array(gt_classes)\n",
    "\n",
    "w_array = cc.get_w_array(gt_classes) if calibrated else None\n",
    "n_test = len(gt_ids)\n",
    "\n",
    "# Load test scores\n",
    "test_ids, test_scores = cc.read_file(cls_file)\n",
    "\n",
    "# Check if there are duplicate items\n",
    "test_ids, test_index_order = np.unique(test_ids, return_index=True)\n",
    "test_scores = np.array(test_scores)[test_index_order]\n",
    "\n",
    "# Dividing per clip\n",
    "gt_clips_ids, gt_clips_classes = divide_per_clip(gt_ids, gt_classes)\n",
    "test_clips_ids, test_clips_classes = divide_per_clip(test_ids, test_scores)"
   ]
  },
  {
   "cell_type": "code",
   "execution_count": 6,
   "metadata": {},
   "outputs": [],
   "source": [
    "def video_output(outputs):\n",
    "    num_clips, num_classes = outputs.shape\n",
    "    max_pool = MaxPool1d(num_clips)\n",
    "    \n",
    "    outputs = torch.tensor(outputs)\n",
    "\n",
    "    data = outputs.view(1, -1, num_classes).contiguous()\n",
    "    data = data.permute(0, 2, 1).contiguous()\n",
    "\n",
    "    data = max_pool(data)\n",
    "    video_data = data.view(num_classes).contiguous()\n",
    "\n",
    "    return video_data\n",
    "\n",
    "def select_ten_clips(video_ids, video_classes):\n",
    "    expanded_sample_length = int(video_ids[0].split('_')[1])\n",
    "    num_frames = int(video_ids[-1].split('_')[1])\n",
    "    \n",
    "    sample_start_pos = np.linspace(expanded_sample_length, num_frames, 10, dtype=int)\n",
    "    ids = sample_start_pos - expanded_sample_length\n",
    "    \n",
    "    return video_ids[ids], video_classes[ids]"
   ]
  },
  {
   "cell_type": "code",
   "execution_count": 7,
   "metadata": {},
   "outputs": [],
   "source": [
    "def get_perF_result(method='mean'):\n",
    "    test_clips_classes_perF = []\n",
    "    gt_clips_classes_perF = []\n",
    "    num_classes = gt_clips_classes[0].shape[1]\n",
    "\n",
    "    for v in range(gt_clips_ids.shape[0]):\n",
    "        v_gt_ids = gt_clips_ids[v]\n",
    "        v_gt_targets = gt_clips_classes[v]\n",
    "        v_test_ids = test_clips_ids[v]\n",
    "        v_test_targets = test_clips_classes[v]\n",
    "\n",
    "        new_test_targets = []\n",
    "        new_gt_targets = []\n",
    "\n",
    "        clip_length = int(re.match('(.*)_(\\d*)', v_test_ids[0]).groups()[-1]) +1 # in number of frames\n",
    "        num_frames = len(v_gt_ids)\n",
    "\n",
    "        norm_weights = signal.gaussian(clip_length, std=clip_length/2)\n",
    "\n",
    "        for f_id in range(num_frames):\n",
    "            first_clip = max(f_id - clip_length + 1, 0)\n",
    "            last_clip = f_id + 1\n",
    "            clips_targets = v_test_targets[first_clip:last_clip]\n",
    "            \n",
    "            if method == 'gaussian':\n",
    "                norm = norm_weights[:clips_targets.shape[0]]\n",
    "                clips_targets = np.swapaxes(clips_targets, 0, 1)\n",
    "                new_test_targets.append(np.average(clips_targets, axis=1, weights=norm))\n",
    "                \n",
    "            elif method == 'mean':\n",
    "                new_test_targets.append(np.mean(clips_targets, axis=0))\n",
    "                \n",
    "            elif method == 'last_frame':\n",
    "                clip_id = f_id - clip_length + 1\n",
    "                if clip_id >= 0:\n",
    "                    new_test_targets.append(v_test_targets[clip_id])\n",
    "                    new_gt_targets.append(v_gt_targets[clip_id])\n",
    "\n",
    "        test_clips_classes_perF.append(new_test_targets)\n",
    "        gt_clips_classes_perF.append(new_gt_targets)\n",
    "        \n",
    "    if method in ['gaussian', 'mean']:\n",
    "        gt_clips_classes_perF = np.vstack(gt_clips_classes)\n",
    "\n",
    "    return np.array(test_clips_classes_perF), np.array(gt_clips_classes_perF)"
   ]
  },
  {
   "cell_type": "code",
   "execution_count": 8,
   "metadata": {},
   "outputs": [],
   "source": [
    "# def get_results_per_clip(delay=3.0):\n",
    "\n",
    "#     test_clips_classes_perC_mean = []\n",
    "#     gt_clip_classes = []\n",
    "\n",
    "#     for vid, v in enumerate(test_clips_classes_perF_mean):\n",
    "#         num_frames = v.shape[0]\n",
    "#         max_pool = MaxPool1d(num_frames)\n",
    "\n",
    "#         v_tensor = torch.tensor(v).permute(1, 0)\n",
    "#         v_tensor = v_tensor.view(-1, v_tensor.shape[0], v_tensor.shape[1])\n",
    "#         pred = max_pool(v_tensor).view(-1)\n",
    "#         test_clips_classes_perC_mean.append(pred.numpy())\n",
    "\n",
    "#         gt_clip = (np.sum(gt_clips_classes[vid], axis=0) > 0).astype(int)\n",
    "#         gt_clip_classes.append(gt_clip)"
   ]
  },
  {
   "cell_type": "code",
   "execution_count": 9,
   "metadata": {},
   "outputs": [
    {
     "name": "stdout",
     "output_type": "stream",
     "text": [
      "0.17818482219315127 0.2835159504095477\n"
     ]
    }
   ],
   "source": [
    "# per frame result using last frame as gt\n",
    "\n",
    "test_perF_clip_scores, gt_perF_clip_scores = get_perF_result('last_frame')\n",
    "test_perF_scores = np.vstack(test_perF_clip_scores)\n",
    "gt_perF_scores = np.vstack(gt_perF_clip_scores)\n",
    "\n",
    "mAP_f, wAP_f, ap_f, prec_f, recall_f = charades_map(test_perF_scores, gt_perF_scores, w_array)\n",
    "\n",
    "print(mAP_f, wAP_f)\n",
    "\n",
    "thr_f = np.zeros(157)\n",
    "for c in range(157):\n",
    "    idx = np.where(prec_f[:, c] > ap_f[c])[0][-1]\n",
    "    thr_f[c] = test_scores[idx, c]"
   ]
  },
  {
   "cell_type": "code",
   "execution_count": 10,
   "metadata": {},
   "outputs": [
    {
     "name": "stdout",
     "output_type": "stream",
     "text": [
      "0.31687666392552655 0.4134873028104368\n"
     ]
    }
   ],
   "source": [
    "# per clip result using the 10 clip \n",
    "\n",
    "test_classes_10 = [select_ten_clips(clip_id, clip_data)[1] for clip_id, clip_data in zip(test_clips_ids, test_clips_classes)]\n",
    "\n",
    "test_clip_10 = np.array([video_output(t_c).numpy() for t_c in test_classes_10])\n",
    "gt_clips_10 = np.array([(sum(gt_c) > 0).astype(int) for gt_c in gt_clips_classes])\n",
    "\n",
    "mAP_10, wAP_10, ap_10, prec_10, recall_10 = charades_map(test_clip_10, gt_clips_10, w_array)\n",
    "\n",
    "print(mAP_10, wAP_10)\n",
    "\n",
    "thr_10 = np.zeros(157)\n",
    "for c in range(157):\n",
    "    idx = np.where(prec_10[:, c] > ap_10[c])[0][-1]\n",
    "    thr_10[c] = test_scores[idx, c]"
   ]
  },
  {
   "cell_type": "code",
   "execution_count": 10,
   "metadata": {},
   "outputs": [
    {
     "name": "stdout",
     "output_type": "stream",
     "text": [
      "0.19684926497965574 0.3066824436878236\n"
     ]
    }
   ],
   "source": [
    "# per frame using mean of all clips that have the frame\n",
    "test_clips_classes_perF_mean, gt_targets_perF = get_perF_result('mean')\n",
    "\n",
    "test_targets_perF_mean = np.vstack(test_clips_classes_perF_mean)\n",
    "\n",
    "mAP_fm, wAP_fm, ap_fm, prec_fm, recall_fm = charades_map(test_targets_perF_mean, gt_targets_perF, w_array)\n",
    "\n",
    "print(mAP_fm, wAP_fm)\n",
    "\n",
    "thr_fm = np.zeros(157)\n",
    "for c in range(157):\n",
    "    idx = np.where(prec_fm[:, c] > ap_fm[c])[0][-1]\n",
    "    thr_fm[c] = test_targets_perF_mean[idx, c]"
   ]
  },
  {
   "cell_type": "code",
   "execution_count": 11,
   "metadata": {},
   "outputs": [
    {
     "name": "stdout",
     "output_type": "stream",
     "text": [
      "0.1962737190665863 0.3059261642551862\n"
     ]
    }
   ],
   "source": [
    "# per frame gaussian\n",
    "test_targets_perF_gauss, gt_targets_perF = get_perF_result('gaussian')\n",
    "test_perF_gauss_scores = np.vstack(test_targets_perF_gauss)\n",
    "\n",
    "mAP_fg, wAP_fg, ap_fg, prec_fg, recall_fg = charades_map(test_perF_gauss_scores, gt_targets_perF, w_array)\n",
    "\n",
    "print(mAP_fg, wAP_fg)\n",
    "\n",
    "thr_fg = np.zeros(157)\n",
    "for c in range(157):\n",
    "    idx = np.where(prec_fg[:, c] > ap_fg[c])[0][-1]\n",
    "    thr_fg[c] = test_perF_gauss_scores[idx, c]"
   ]
  },
  {
   "cell_type": "code",
   "execution_count": 13,
   "metadata": {},
   "outputs": [
    {
     "name": "stdout",
     "output_type": "stream",
     "text": [
      "0.322216626511807 0.4192401305609189\n"
     ]
    }
   ],
   "source": [
    "# per clip 10 but using per frame mean results\n",
    "\n",
    "test_classes_10_perF_mean = [select_ten_clips(np.array(clip_id), np.array(clip_data))[1] for clip_id, clip_data in zip(gt_clips_ids, test_clips_classes_perF_mean)]\n",
    "test_clip_10_perF_mean = np.array([video_output(t_c).numpy() for t_c in test_classes_10_perF_mean])\n",
    "\n",
    "gt_clips_10 = np.array([(sum(gt_c) > 0).astype(int) for gt_c in gt_clips_classes])\n",
    "\n",
    "mAP_10m, wAP_10m, ap_10m, prec_10m, recall_10m = charades_map(test_clip_10_perF_mean, gt_clips_10, w_array)\n",
    "\n",
    "print(mAP_10m, wAP_10m)\n",
    "\n",
    "thr_10m = np.zeros(157)\n",
    "for c in range(157):\n",
    "    idx = np.where(prec_10m[:, c] > ap_10m[c])[0][-1]\n",
    "    thr_10m[c] = test_targets_perF_mean[idx, c]"
   ]
  },
  {
   "cell_type": "code",
   "execution_count": 14,
   "metadata": {},
   "outputs": [
    {
     "name": "stdout",
     "output_type": "stream",
     "text": [
      "0.3254864343549057 0.42266772701602107\n"
     ]
    }
   ],
   "source": [
    "# per clip but using all per frame mean results\n",
    "\n",
    "test_clip_clip_perF_mean = np.array([video_output(np.array(t_c)).numpy() for t_c in test_clips_classes_perF_mean])\n",
    "\n",
    "mAP_cm, wAP_cm, ap_cm, prec_cm, recall_cm = charades_map(test_clip_clip_perF_mean, gt_clips_10, w_array)\n",
    "\n",
    "print(mAP_cm, wAP_cm)\n",
    "\n",
    "thr_cm = np.zeros(157)\n",
    "for c in range(157):\n",
    "    idx = np.where(prec_10m[:, c] > ap_cm[c])[0][-1]\n",
    "    thr_cm[c] = test_targets_perF_mean[idx, c]"
   ]
  },
  {
   "cell_type": "code",
   "execution_count": null,
   "metadata": {},
   "outputs": [],
   "source": [
    "## stop ##"
   ]
  },
  {
   "cell_type": "code",
   "execution_count": 35,
   "metadata": {},
   "outputs": [
    {
     "data": {
      "text/plain": [
       "((1153408, 157), (1153408, 157), (1863, 157), (1863, 157))"
      ]
     },
     "execution_count": 35,
     "metadata": {},
     "output_type": "execute_result"
    }
   ],
   "source": [
    "prec_f.shape, recall_f.shape, prec.shape, recall.shape"
   ]
  },
  {
   "cell_type": "code",
   "execution_count": 39,
   "metadata": {},
   "outputs": [
    {
     "data": {
      "image/png": "[encoded data removed]",
      "text/plain": [
       "<Figure size 432x288 with 1 Axes>"
      ]
     },
     "metadata": {
      "needs_background": "light"
     },
     "output_type": "display_data"
    },
    {
     "data": {
      "image/png": "[encoded data removed]",
      "text/plain": [
       "<Figure size 432x288 with 1 Axes>"
      ]
     },
     "metadata": {
      "needs_background": "light"
     },
     "output_type": "display_data"
    }
   ],
   "source": [
    "c = 6\n",
    "plot_pr_curve(prec_f[:, c], recall_f[:, c], ap_f[c])\n",
    "plot_pr_curve(prec[:, c], recall[:, c], ap[c])"
   ]
  },
  {
   "cell_type": "code",
   "execution_count": 65,
   "metadata": {},
   "outputs": [
    {
     "data": {
      "text/plain": [
       "57"
      ]
     },
     "execution_count": 65,
     "metadata": {},
     "output_type": "execute_result"
    }
   ],
   "source": [
    "np.sum((ap > 0.2).astype(int))"
   ]
  },
  {
   "cell_type": "code",
   "execution_count": 42,
   "metadata": {},
   "outputs": [
    {
     "data": {
      "image/png": "[encoded data removed]",
      "text/plain": [
       "<Figure size 1080x432 with 2 Axes>"
      ]
     },
     "metadata": {
      "needs_background": "light"
     },
     "output_type": "display_data"
    }
   ],
   "source": [
    "fig = plt.figure(figsize=(15, 6))\n",
    "ax1 = fig.add_subplot(121)\n",
    "ax2 = fig.add_subplot(122)\n",
    "ax1.hist(ap_f, bins=30)\n",
    "ax2.hist(ap, bins=30)\n",
    "plt.show()"
   ]
  },
  {
   "cell_type": "code",
   "execution_count": 49,
   "metadata": {
    "scrolled": true
   },
   "outputs": [
    {
     "name": "stdout",
     "output_type": "stream",
     "text": [
      "0: 27.35% | 44.35%\n",
      "1: 28.29% | 50.34%\n",
      "2: 27.73% | 45.39%\n",
      "3: 16.21% | 30.98%\n",
      "4: 18.83% | 29.45%\n",
      "5: 17.26% | 27.86%\n",
      "6: 19.01% | 37.31%\n",
      "7: 2.52% | 4.69%\n",
      "8: 27.29% | 56.94%\n",
      "9: 16.69% | 39.54%\n",
      "10: 5.17% | 8.86%\n",
      "11: 58.50% | 73.26%\n",
      "12: 28.72% | 40.30%\n",
      "13: 7.97% | 17.50%\n",
      "14: 37.04% | 45.49%\n",
      "15: 42.81% | 57.30%\n",
      "16: 41.58% | 59.01%\n",
      "17: 2.92% | 11.06%\n",
      "18: 7.19% | 19.52%\n",
      "19: 21.71% | 23.74%\n",
      "20: 32.37% | 47.15%\n",
      "21: 26.11% | 46.83%\n",
      "22: 6.20% | 17.52%\n",
      "23: 5.62% | 14.79%\n",
      "24: 0.88% | 2.81%\n",
      "25: 12.46% | 35.99%\n",
      "26: 49.57% | 62.62%\n",
      "27: 16.99% | 43.41%\n",
      "28: 8.36% | 19.87%\n",
      "29: 11.67% | 24.28%\n",
      "30: 8.27% | 27.58%\n",
      "31: 0.76% | 2.08%\n",
      "32: 46.21% | 62.34%\n",
      "33: 20.17% | 32.32%\n",
      "34: 10.24% | 20.03%\n",
      "35: 9.47% | 19.54%\n",
      "36: 3.08% | 8.46%\n",
      "37: 15.24% | 17.41%\n",
      "38: 19.97% | 26.48%\n",
      "39: 6.80% | 20.27%\n",
      "40: 20.44% | 37.12%\n",
      "41: 11.10% | 24.18%\n",
      "42: 6.40% | 19.67%\n",
      "43: 11.98% | 31.31%\n",
      "44: 6.36% | 11.11%\n",
      "45: 0.57% | 1.17%\n",
      "46: 5.60% | 18.05%\n",
      "47: 38.73% | 56.34%\n",
      "48: 5.09% | 14.43%\n",
      "49: 12.29% | 31.56%\n",
      "50: 3.73% | 14.87%\n",
      "51: 49.27% | 57.39%\n",
      "52: 52.24% | 64.91%\n",
      "53: 15.34% | 31.51%\n",
      "54: 14.49% | 25.67%\n",
      "55: 22.49% | 25.08%\n",
      "56: 9.68% | 18.74%\n",
      "57: 12.63% | 25.22%\n",
      "58: 4.52% | 9.39%\n",
      "59: 56.07% | 68.91%\n",
      "60: 3.12% | 6.79%\n",
      "61: 43.41% | 61.70%\n",
      "62: 16.45% | 37.06%\n",
      "63: 16.91% | 42.87%\n",
      "64: 1.20% | 4.45%\n",
      "65: 24.41% | 39.66%\n",
      "66: 5.88% | 8.24%\n",
      "67: 22.34% | 40.99%\n",
      "68: 5.96% | 17.81%\n",
      "69: 5.68% | 25.50%\n",
      "70: 22.85% | 40.43%\n",
      "71: 13.96% | 32.54%\n",
      "72: 26.81% | 38.96%\n",
      "73: 11.82% | 34.55%\n",
      "74: 5.05% | 11.99%\n",
      "75: 16.65% | 28.60%\n",
      "76: 19.16% | 32.30%\n",
      "77: 8.04% | 23.63%\n",
      "78: 22.68% | 35.45%\n",
      "79: 5.03% | 16.59%\n",
      "80: 2.70% | 5.24%\n",
      "81: 12.71% | 26.92%\n",
      "82: 15.01% | 18.56%\n",
      "83: 2.61% | 5.26%\n",
      "84: 7.60% | 10.86%\n",
      "85: 1.50% | 2.78%\n",
      "86: 2.79% | 5.17%\n",
      "87: 9.86% | 21.21%\n",
      "88: 7.97% | 12.70%\n",
      "89: 2.84% | 2.97%\n",
      "90: 6.67% | 14.98%\n",
      "91: 14.78% | 27.62%\n",
      "92: 12.11% | 17.21%\n",
      "93: 2.76% | 4.16%\n",
      "94: 7.26% | 11.79%\n",
      "95: 7.07% | 14.87%\n",
      "96: 19.54% | 35.63%\n",
      "97: 35.14% | 66.96%\n",
      "98: 51.66% | 82.83%\n",
      "99: 7.51% | 33.14%\n",
      "100: 11.71% | 37.64%\n",
      "101: 0.52% | 2.01%\n",
      "102: 58.37% | 74.64%\n",
      "103: 4.47% | 8.83%\n",
      "104: 6.40% | 15.77%\n",
      "105: 3.60% | 8.60%\n",
      "106: 48.08% | 76.03%\n",
      "107: 43.01% | 63.97%\n",
      "108: 9.61% | 23.86%\n",
      "109: 12.71% | 34.46%\n",
      "110: 13.77% | 42.11%\n",
      "111: 11.37% | 24.27%\n",
      "112: 9.94% | 25.55%\n",
      "113: 17.68% | 38.41%\n",
      "114: 16.17% | 21.83%\n",
      "115: 24.14% | 39.18%\n",
      "116: 4.79% | 14.63%\n",
      "117: 5.96% | 20.09%\n",
      "118: 37.04% | 51.20%\n",
      "119: 13.25% | 31.78%\n",
      "120: 16.07% | 32.42%\n",
      "121: 23.88% | 48.12%\n",
      "122: 38.63% | 51.12%\n",
      "123: 43.80% | 52.83%\n",
      "124: 23.32% | 44.67%\n",
      "125: 39.48% | 45.58%\n",
      "126: 7.99% | 18.39%\n",
      "127: 50.27% | 58.58%\n",
      "128: 6.95% | 15.24%\n",
      "129: 5.15% | 11.48%\n",
      "130: 13.35% | 29.28%\n",
      "131: 1.60% | 2.02%\n",
      "132: 28.99% | 47.37%\n",
      "133: 26.79% | 47.16%\n",
      "134: 43.35% | 58.18%\n",
      "135: 34.62% | 43.34%\n",
      "136: 5.68% | 15.75%\n",
      "137: 45.16% | 54.11%\n",
      "138: 4.00% | 16.21%\n",
      "139: 28.19% | 40.36%\n",
      "140: 2.64% | 5.16%\n",
      "141: 24.39% | 53.12%\n",
      "142: 17.06% | 53.38%\n",
      "143: 23.88% | 57.07%\n",
      "144: 26.83% | 36.77%\n",
      "145: 34.99% | 40.24%\n",
      "146: 25.13% | 47.53%\n",
      "147: 63.96% | 70.84%\n",
      "148: 26.14% | 38.23%\n",
      "149: 16.44% | 22.92%\n",
      "150: 29.04% | 53.31%\n",
      "151: 18.05% | 39.02%\n",
      "152: 24.46% | 36.48%\n",
      "153: 10.71% | 20.71%\n",
      "154: 19.79% | 43.22%\n",
      "155: 26.54% | 46.91%\n",
      "156: 41.14% | 60.68%\n"
     ]
    }
   ],
   "source": [
    "for i, ap_i in enumerate(ap):\n",
    "    print('{}: {:.02%} | {:.02%}'.format(i, ap_f[i], ap_i))"
   ]
  },
  {
   "cell_type": "code",
   "execution_count": 50,
   "metadata": {},
   "outputs": [
    {
     "data": {
      "text/plain": [
       "array([3.6470163e-01, 2.1831100e-02, 1.9492227e-01, 2.6262040e-02,\n",
       "       1.7548070e-02, 6.3316600e-03, 1.7698514e-01, 2.2943200e-03,\n",
       "       8.7456960e-02, 1.3753570e-02, 2.4659400e-03, 2.4193728e-01,\n",
       "       6.5618100e-03, 1.7279700e-03, 8.8722400e-03, 8.6667591e-01,\n",
       "       3.7503680e-02, 1.1408080e-02, 5.4169500e-03, 2.6095780e-02,\n",
       "       6.1299660e-02, 2.7542210e-02, 1.9179850e-02, 1.6435410e-02,\n",
       "       1.2528000e-04, 4.3863700e-03, 4.5868840e-02, 4.6966140e-02,\n",
       "       1.4444180e-02, 3.5462500e-03, 6.7200900e-03, 6.6921400e-03,\n",
       "       2.9224566e-01, 3.3614913e-01, 1.7552890e-01, 1.9834980e-02,\n",
       "       8.7973900e-03, 1.6257450e-02, 7.2726200e-03, 5.6685400e-03,\n",
       "       8.9810400e-03, 4.4199800e-03, 3.3569870e-02, 9.5207400e-03,\n",
       "       2.0389620e-02, 5.6673500e-03, 3.2226900e-03, 1.9511390e-02,\n",
       "       5.9008700e-03, 7.7297800e-03, 9.1738300e-03, 2.5849600e-02,\n",
       "       1.6472150e-02, 4.5023570e-02, 2.3403310e-02, 5.6547600e-03,\n",
       "       5.6782300e-03, 5.7030520e-02, 1.9554280e-02, 7.0952058e-01,\n",
       "       6.4715600e-03, 2.2719488e-01, 5.4229790e-02, 1.2304493e-01,\n",
       "       6.1563500e-03, 1.8530480e-02, 3.1159000e-04, 1.5546343e-01,\n",
       "       3.4902090e-02, 6.8492700e-03, 2.5874020e-02, 1.4623700e-03,\n",
       "       1.1111895e-01, 1.3175930e-02, 1.6938100e-03, 5.8711100e-03,\n",
       "       1.6550740e-02, 2.6131800e-03, 2.5178600e-03, 5.0525620e-02,\n",
       "       2.2388230e-02, 1.3637410e-02, 2.2588550e-02, 5.9505400e-03,\n",
       "       5.1123600e-03, 7.4727600e-03, 7.9709200e-03, 2.1922776e-01,\n",
       "       5.3355870e-02, 3.0527900e-03, 2.0919800e-03, 6.2254900e-03,\n",
       "       5.0638890e-02, 1.2412670e-02, 6.4949800e-03, 8.5595500e-03,\n",
       "       7.6207700e-03, 1.3269666e-01, 1.1113960e-02, 1.1168130e-02,\n",
       "       6.7472400e-03, 4.5904400e-03, 1.6935900e-03, 5.9782400e-03,\n",
       "       8.6251800e-03, 5.8098900e-03, 3.2547742e-01, 1.4115493e-01,\n",
       "       4.3068520e-02, 3.0038410e-02, 6.8368260e-02, 4.1531320e-02,\n",
       "       4.5203500e-03, 4.8468990e-02, 5.3538500e-03, 1.5203100e-02,\n",
       "       7.6874100e-03, 4.4483200e-03, 3.4598750e-02, 2.6826490e-02,\n",
       "       8.8438870e-02, 8.7964400e-03, 1.2949910e-02, 9.7685810e-02,\n",
       "       1.0649660e-02, 8.5749429e-01, 2.0298020e-02, 1.9232500e-02,\n",
       "       1.7692930e-02, 1.4516890e-02, 4.3415980e-02, 4.0482400e-03,\n",
       "       1.0671166e-01, 2.2545100e-03, 9.3267000e-03, 1.6232690e-02,\n",
       "       5.7287000e-04, 1.3063060e-02, 5.2552600e-03, 2.1183960e-02,\n",
       "       3.2965700e-03, 3.5284550e-02, 2.9221900e-03, 8.7472100e-03,\n",
       "       1.7689064e-01, 2.0371600e-03, 1.6288300e-03, 6.3542900e-03,\n",
       "       3.0432470e-02, 9.0022970e-02, 2.9130230e-02, 1.8443783e-01,\n",
       "       1.1762948e-01, 1.2492639e-01, 2.5581616e-01, 8.8993550e-02,\n",
       "       5.9353020e-02])"
      ]
     },
     "execution_count": 50,
     "metadata": {},
     "output_type": "execute_result"
    }
   ],
   "source": [
    "thr"
   ]
  },
  {
   "cell_type": "code",
   "execution_count": null,
   "metadata": {},
   "outputs": [],
   "source": []
  }
 ],
 "metadata": {
  "kernelspec": {
   "display_name": "Python 3",
   "language": "python",
   "name": "python3"
  },
  "language_info": {
   "codemirror_mode": {
    "name": "ipython",
    "version": 3
   },
   "file_extension": ".py",
   "mimetype": "text/x-python",
   "name": "python",
   "nbconvert_exporter": "python",
   "pygments_lexer": "ipython3",
   "version": "3.7.5"
  }
 },
 "nbformat": 4,
 "nbformat_minor": 2
}
