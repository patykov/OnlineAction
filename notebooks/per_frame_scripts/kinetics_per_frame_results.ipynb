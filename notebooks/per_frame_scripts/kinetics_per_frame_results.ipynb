{
 "cells": [
  {
   "cell_type": "code",
   "execution_count": 1,
   "metadata": {},
   "outputs": [],
   "source": [
    "import os\n",
    "import sys\n",
    "sys.path.insert(0, '..')\n",
    "import numpy as np\n",
    "import re\n",
    "\n",
    "from metrics.kinetics_classify import *"
   ]
  },
  {
   "cell_type": "code",
   "execution_count": 2,
   "metadata": {},
   "outputs": [],
   "source": [
    "### JOIN RESULTS ###\n",
    "\n",
    "base_name = '/data/OnlineActionRecognition/outputs/causal_eval_kinetics_r50_i3d_nl_32x2/causal_eval_kinetics_r50_i3d_nl_32x2_4gpus_full'\n",
    "# filenames = [base_name + '_{}.txt'.format(rank) for rank in range(8)]\n",
    "# with open(base_name + '_joined.txt', 'w') as outfile:\n",
    "#     for fid, fname in enumerate(filenames):\n",
    "#         if os.path.exists(fname):\n",
    "#             print(fname)\n",
    "#             with open(fname) as infile:\n",
    "#                 if fid > 0: # remove header\n",
    "#                     infile.readline()\n",
    "#                 for line in infile:\n",
    "#                     outfile.write(line)\n",
    "#         else:\n",
    "#             outfile.write(video_metric.to_text())\n",
    "            "
   ]
  },
  {
   "cell_type": "code",
   "execution_count": 4,
   "metadata": {},
   "outputs": [],
   "source": [
    "with open(base_name + '_joined.txt', 'r') as file:\n",
    "    header = file.readline()  # removing header\n",
    "    text = sorted(file.readlines())\n",
    "    \n",
    "split_text = [t.replace('\\n', '').split('|') for t in text if t != '\\n']"
   ]
  },
  {
   "cell_type": "code",
   "execution_count": 4,
   "metadata": {},
   "outputs": [],
   "source": [
    "labels = [int(st[1]) for st in split_text]\n",
    "preds = [np.fromstring(st[2], dtype=int, sep=' ') for st in split_text]"
   ]
  },
  {
   "cell_type": "code",
   "execution_count": 5,
   "metadata": {},
   "outputs": [
    {
     "data": {
      "text/plain": [
       "(104, array([104, 103, 199, 201, 355]))"
      ]
     },
     "execution_count": 5,
     "metadata": {},
     "output_type": "execute_result"
    }
   ],
   "source": [
    "labels[0], preds[0]"
   ]
  },
  {
   "cell_type": "code",
   "execution_count": 6,
   "metadata": {},
   "outputs": [],
   "source": [
    "top1_pred, top5_pred = get_top_predictions(preds, labels)\n",
    "\n",
    "cls_acc1 = per_class_accuracy(top1_pred, labels)\n",
    "report1 = classification_report(labels, top1_pred)\n",
    "\n",
    "cls_acc5 = per_class_accuracy(top5_pred, labels)\n",
    "report5 = classification_report(labels, top5_pred)"
   ]
  },
  {
   "cell_type": "code",
   "execution_count": 7,
   "metadata": {},
   "outputs": [
    {
     "data": {
      "text/plain": [
       "(0.6584932353221831, 0.8586824484186919)"
      ]
     },
     "execution_count": 7,
     "metadata": {},
     "output_type": "execute_result"
    }
   ],
   "source": [
    "cls_acc1, cls_acc5"
   ]
  },
  {
   "cell_type": "code",
   "execution_count": 8,
   "metadata": {},
   "outputs": [
    {
     "data": {
      "text/plain": [
       "('driving_tractor/cn2OQeIdLcw.mp4',\n",
       " 'driving_tractor/cn2OQeIdLcw.mp4_000099   ')"
      ]
     },
     "execution_count": 8,
     "metadata": {},
     "output_type": "execute_result"
    }
   ],
   "source": [
    "re.sub('()_\\\\d{6}', '', split_text[10][0].strip()), split_text[10][0]"
   ]
  },
  {
   "cell_type": "code",
   "execution_count": 5,
   "metadata": {},
   "outputs": [],
   "source": [
    "def divide_per_clip(split_text):\n",
    "    clips_labels = []\n",
    "    clips_prediction = []\n",
    "\n",
    "    video_name = None\n",
    "    for i, [video_path, label, pred] in enumerate(split_text):\n",
    "        video = re.sub('()_\\\\d{6}', '', video_path.strip())\n",
    "        if video != video_name or i == len(split_text):            \n",
    "            # new video! But first, save old video\n",
    "            if i > 0:\n",
    "                video_labels = np.array(video_labels)\n",
    "                video_prediction = np.array(video_prediction)\n",
    "                \n",
    "                num_frames = video_labels.shape[0]\n",
    "                if num_frames < 10:\n",
    "                    repeat_ids = np.round(np.linspace(0, num_frames - 1, 10)).astype(int)\n",
    "                    video_labels = video_labels[repeat_ids]\n",
    "                    video_prediction = video_prediction[repeat_ids]\n",
    "                    \n",
    "                clips_labels.append(video_labels)\n",
    "                clips_prediction.append(video_prediction)\n",
    "                    \n",
    "            # star new one\n",
    "            video_labels = []\n",
    "            video_prediction = []\n",
    "            video_name = video\n",
    "            \n",
    "        video_labels.append(int(label))\n",
    "        video_prediction.append(np.fromstring(pred, dtype=int, sep=' '))\n",
    "                \n",
    "    return clips_labels, clips_prediction"
   ]
  },
  {
   "cell_type": "code",
   "execution_count": 10,
   "metadata": {},
   "outputs": [
    {
     "data": {
      "text/plain": [
       "(4655415, 4655415, 4655415, 4655415)"
      ]
     },
     "execution_count": 10,
     "metadata": {},
     "output_type": "execute_result"
    }
   ],
   "source": [
    "len(labels), len(preds), len(np.hstack(labels)), len(np.vstack(preds))"
   ]
  },
  {
   "cell_type": "code",
   "execution_count": 10,
   "metadata": {},
   "outputs": [],
   "source": [
    "clip_labels, clip_pred = divide_per_clip(split_text)"
   ]
  },
  {
   "cell_type": "code",
   "execution_count": 7,
   "metadata": {},
   "outputs": [
    {
     "data": {
      "text/plain": [
       "(19678, 19678, 4655395, 4655395)"
      ]
     },
     "execution_count": 7,
     "metadata": {},
     "output_type": "execute_result"
    }
   ],
   "source": [
    "len(clip_labels), len(clip_pred), len(np.hstack(clip_labels)), len(np.vstack(clip_pred))"
   ]
  },
  {
   "cell_type": "code",
   "execution_count": 19,
   "metadata": {},
   "outputs": [
    {
     "name": "stdout",
     "output_type": "stream",
     "text": [
      "224 10 (23,) (22,)\n",
      "224 10 (23, 5) (22, 5)\n"
     ]
    }
   ],
   "source": [
    "a = np.array_split(clip_labels[0], 10)\n",
    "print(len(clip_labels[0]), len(a), a[0].shape, a[-1].shape)\n",
    "\n",
    "b = np.array_split(clip_pred[0], 10)\n",
    "print(len(clip_pred[0]), len(b), b[0].shape, b[-1].shape)"
   ]
  },
  {
   "cell_type": "code",
   "execution_count": 11,
   "metadata": {},
   "outputs": [],
   "source": [
    "p_clip_labels = np.array([np.array_split(cl, 10) for cl in clip_labels])\n",
    "p_clip_pred = np.array([np.array_split(cp, 10) for cp in clip_pred])"
   ]
  },
  {
   "cell_type": "code",
   "execution_count": 8,
   "metadata": {},
   "outputs": [
    {
     "data": {
      "text/plain": [
       "((19681, 10), (19681, 10))"
      ]
     },
     "execution_count": 8,
     "metadata": {},
     "output_type": "execute_result"
    }
   ],
   "source": [
    "p_clip_labels.shape, p_clip_pred.shape"
   ]
  },
  {
   "cell_type": "code",
   "execution_count": 12,
   "metadata": {},
   "outputs": [],
   "source": [
    "percentage_labels = np.array([np.hstack(p_clip_labels[:,i]) for i in range(10)])\n",
    "percentage_pred = np.array([np.vstack(p_clip_pred[:,i]) for i in range(10)])"
   ]
  },
  {
   "cell_type": "code",
   "execution_count": 14,
   "metadata": {},
   "outputs": [
    {
     "name": "stdout",
     "output_type": "stream",
     "text": [
      "0 0.6350344431211492 0.8377650000658439\n",
      "1 0.648033278110845 0.8504658228912407\n",
      "2 0.6630772470201423 0.8620011322999497\n",
      "3 0.6769041684487519 0.8745746650674004\n",
      "4 0.678585180379324 0.8765110942162605\n",
      "5 0.6780193731736717 0.8757074372901695\n",
      "6 0.673837737693527 0.8720288702098982\n",
      "7 0.6583584195089679 0.8589666744829388\n",
      "8 0.6425492918499305 0.8456209133251477\n",
      "9 0.631131913474855 0.8336249385207087\n"
     ]
    }
   ],
   "source": [
    "for i, (p_labels, p_preds) in enumerate(zip(percentage_labels, percentage_pred)):\n",
    "    top1_pred, top5_pred = get_top_predictions(p_preds, p_labels)\n",
    "\n",
    "    cls_acc1 = per_class_accuracy(top1_pred, p_labels)\n",
    "    cls_acc5 = per_class_accuracy(top5_pred, p_labels)\n",
    "    print(i, cls_acc1, cls_acc5)"
   ]
  },
  {
   "cell_type": "code",
   "execution_count": 15,
   "metadata": {},
   "outputs": [
    {
     "name": "stdout",
     "output_type": "stream",
     "text": [
      "0 0.6350344431211492 0.8377650000658439\n",
      "1 0.6414932551292537 0.8440774941343215\n",
      "2 0.6486538114064561 0.8500245764859587\n",
      "3 0.6556873167878388 0.8561371993746958\n",
      "4 0.660248638153106 0.8601957004562467\n",
      "5 0.6631822096293005 0.8627574695776156\n",
      "6 0.6646891688709102 0.8640683339034129\n",
      "7 0.6639061171364224 0.8634371327859034\n",
      "8 0.6615574420091217 0.8614776021891071\n",
      "9 0.6585451062554735 0.8587210007858067\n"
     ]
    }
   ],
   "source": [
    "percentage_labels = np.array([np.hstack(np.hstack(p_clip_labels[:,:i])) for i in range(1, 11)])\n",
    "percentage_pred = np.array([np.vstack(np.hstack(p_clip_pred[:,:i])) for i in range(1, 11)])\n",
    "\n",
    "for i, (p_labels, p_preds) in enumerate(zip(percentage_labels, percentage_pred)):\n",
    "    top1_pred, top5_pred = get_top_predictions(p_preds, p_labels)\n",
    "\n",
    "    cls_acc1 = per_class_accuracy(top1_pred, p_labels)\n",
    "    cls_acc5 = per_class_accuracy(top5_pred, p_labels)\n",
    "    print(i, cls_acc1, cls_acc5)"
   ]
  },
  {
   "cell_type": "code",
   "execution_count": 60,
   "metadata": {},
   "outputs": [
    {
     "data": {
      "text/plain": [
       "((942148, 5), (473872, 5), (1410021, 5), (1877517, 5))"
      ]
     },
     "execution_count": 60,
     "metadata": {},
     "output_type": "execute_result"
    }
   ],
   "source": [
    "d = np.vstack(np.hstack(p_clip_pred[:,:2]))\n",
    "e = np.vstack(np.hstack(p_clip_pred[:,:1]))\n",
    "f = np.vstack(np.hstack(p_clip_pred[:,:3]))\n",
    "g = np.vstack(np.hstack(p_clip_pred[:,:4]))\n",
    "d.shape, e.shape, f.shape, g.shape"
   ]
  },
  {
   "cell_type": "code",
   "execution_count": 68,
   "metadata": {},
   "outputs": [
    {
     "data": {
      "text/plain": [
       "((942148,), (473872,), (1410021,), (1877517,))"
      ]
     },
     "execution_count": 68,
     "metadata": {},
     "output_type": "execute_result"
    }
   ],
   "source": [
    "d = np.hstack(np.hstack(p_clip_labels[:,:2]))\n",
    "e = np.hstack(np.hstack(p_clip_labels[:,:1]))\n",
    "f = np.hstack(np.hstack(p_clip_labels[:,:3]))\n",
    "g = np.hstack(np.hstack(p_clip_labels[:,:4]))\n",
    "d.shape, e.shape, f.shape, g.shape"
   ]
  },
  {
   "cell_type": "code",
   "execution_count": 64,
   "metadata": {},
   "outputs": [
    {
     "data": {
      "text/plain": [
       "((23, 5), (23, 5), (19681,))"
      ]
     },
     "execution_count": 64,
     "metadata": {},
     "output_type": "execute_result"
    }
   ],
   "source": [
    "p_clip_pred[:,0][0].shape, p_clip_pred[:,1][0].shape, p_clip_pred[:,2].shape"
   ]
  },
  {
   "cell_type": "code",
   "execution_count": 65,
   "metadata": {},
   "outputs": [
    {
     "data": {
      "text/plain": [
       "((23,), (19681,), (19681,))"
      ]
     },
     "execution_count": 65,
     "metadata": {},
     "output_type": "execute_result"
    }
   ],
   "source": [
    "p_clip_labels[:,0][0].shape, p_clip_labels[:,1].shape, p_clip_labels[:,2].shape"
   ]
  },
  {
   "cell_type": "code",
   "execution_count": 54,
   "metadata": {},
   "outputs": [
    {
     "data": {
      "text/plain": [
       "((), 1410021, ())"
      ]
     },
     "execution_count": 54,
     "metadata": {},
     "output_type": "execute_result"
    }
   ],
   "source": [
    "f[0].shape, len(f), e[0].shape"
   ]
  },
  {
   "cell_type": "code",
   "execution_count": 67,
   "metadata": {},
   "outputs": [
    {
     "data": {
      "text/plain": [
       "(19681, 2)"
      ]
     },
     "execution_count": 67,
     "metadata": {},
     "output_type": "execute_result"
    }
   ],
   "source": [
    "p_clip_labels[:,:2].shape"
   ]
  },
  {
   "cell_type": "code",
   "execution_count": null,
   "metadata": {},
   "outputs": [],
   "source": []
  }
 ],
 "metadata": {
  "kernelspec": {
   "display_name": "Python 3",
   "language": "python",
   "name": "python3"
  },
  "language_info": {
   "codemirror_mode": {
    "name": "ipython",
    "version": 3
   },
   "file_extension": ".py",
   "mimetype": "text/x-python",
   "name": "python",
   "nbconvert_exporter": "python",
   "pygments_lexer": "ipython3",
   "version": "3.7.5"
  }
 },
 "nbformat": 4,
 "nbformat_minor": 2
}
