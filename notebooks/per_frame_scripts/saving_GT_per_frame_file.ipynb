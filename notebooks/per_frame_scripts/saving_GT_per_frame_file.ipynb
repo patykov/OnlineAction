{
 "cells": [
  {
   "cell_type": "code",
   "execution_count": 12,
   "metadata": {},
   "outputs": [],
   "source": [
    "%load_ext autoreload\n",
    "%autoreload 2\n",
    "\n",
    "import os\n",
    "import sys\n",
    "sys.path.insert(0, '..')\n",
    "\n",
    "from metrics.charades_classify import *"
   ]
  },
  {
   "cell_type": "code",
   "execution_count": 2,
   "metadata": {
    "scrolled": true
   },
   "outputs": [],
   "source": [
    "gt_path = '/data/Datasets/Charades/Annotations/Charades_v1_test.csv'\n",
    "data_path ='/data/Datasets/Charades/Charades_v1_480/'\n",
    "\n",
    "# gt_ids, gt_classes = load_causal_charades(gt_path, data_path)"
   ]
  },
  {
   "cell_type": "code",
   "execution_count": 6,
   "metadata": {},
   "outputs": [
    {
     "name": "stderr",
     "output_type": "stream",
     "text": [
      "                                                                  \r"
     ]
    }
   ],
   "source": [
    "gt_ids = []\n",
    "gt_targets = []\n",
    "with open(gt_path) as f:\n",
    "    reader = list(csv.DictReader(f))\n",
    "\n",
    "count = 0\n",
    "offset = 0\n",
    "total = len(reader)\n",
    "for ir, row in enumerate(reader):\n",
    "    with tqdm(desc='Video {}/{} ({:.02%})'.format(ir, total, ir/total), total=total,\n",
    "              leave=False, maxinterval=3600) as t:\n",
    "        vid = row['id']\n",
    "        actions = row['actions']\n",
    "        if actions == '':\n",
    "            actions = []\n",
    "        else:\n",
    "            actions = [a.split(' ') for a in actions.split(';')]\n",
    "            actions = [{\n",
    "                'class': x,\n",
    "                'start': float(y),\n",
    "                'end': float(z)\n",
    "            } for x, y, z in actions]\n",
    "        video_stream = CharadesStream(os.path.join(data_path, vid+'.mp4'), actions,\n",
    "                                      clip_length=0)\n",
    "        gt_ids.append(video_stream.target['video_path'])\n",
    "        gt_targets.append(video_stream.target['target'])\n",
    "\n",
    "        if (count - offset) >= total // 20:  # Update progressbar every 5%\n",
    "            t.update(count - offset)\n",
    "            offset = count"
   ]
  },
  {
   "cell_type": "code",
   "execution_count": 24,
   "metadata": {},
   "outputs": [],
   "source": [
    "gt_ids2 = np.hstack(gt_ids)\n",
    "gt_targets2 = np.vstack(gt_targets)"
   ]
  },
  {
   "cell_type": "code",
   "execution_count": 25,
   "metadata": {},
   "outputs": [
    {
     "data": {
      "text/plain": [
       "((1284224,), (1284224, 157))"
      ]
     },
     "execution_count": 25,
     "metadata": {},
     "output_type": "execute_result"
    }
   ],
   "source": [
    "gt_ids2.shape, gt_targets2.shape"
   ]
  },
  {
   "cell_type": "code",
   "execution_count": 26,
   "metadata": {},
   "outputs": [],
   "source": [
    "gt_clip_causal_path = '/data/Datasets/Charades/Annotations/Charades_v1_causal_allFrames_test.txt'\n",
    "text = ''\n",
    "for f_id, f_classes in zip(gt_ids2, gt_targets2):\n",
    "    text += '{} {}\\n'.format(f_id, np.array2string(f_classes, separator=' ')[1:-1].replace('\\n', ''))\n",
    "    \n",
    "with open(gt_clip_causal_path, 'w') as file:\n",
    "    file.write(text)"
   ]
  },
  {
   "cell_type": "code",
   "execution_count": 5,
   "metadata": {},
   "outputs": [
    {
     "data": {
      "text/plain": [
       "1153408"
      ]
     },
     "execution_count": 5,
     "metadata": {},
     "output_type": "execute_result"
    }
   ],
   "source": [
    "len(gt_ids)"
   ]
  },
  {
   "cell_type": "code",
   "execution_count": 3,
   "metadata": {},
   "outputs": [],
   "source": [
    "gt_ids_clip, gt_classes_clip = read_file('/data/Datasets/Charades/Annotations/Charades_v1_causal_clip_test.txt')\n",
    "gt_ids_frame, gt_classes_frame = read_file('/data/Datasets/Charades/Annotations/Charades_v1_causal_lastFrame_test.txt')"
   ]
  },
  {
   "cell_type": "code",
   "execution_count": 4,
   "metadata": {},
   "outputs": [
    {
     "data": {
      "text/plain": [
       "False"
      ]
     },
     "execution_count": 4,
     "metadata": {},
     "output_type": "execute_result"
    }
   ],
   "source": [
    "np.all(gt_classes_clip == gt_classes_frame)"
   ]
  },
  {
   "cell_type": "code",
   "execution_count": null,
   "metadata": {},
   "outputs": [],
   "source": []
  }
 ],
 "metadata": {
  "kernelspec": {
   "display_name": "Python 3",
   "language": "python",
   "name": "python3"
  },
  "language_info": {
   "codemirror_mode": {
    "name": "ipython",
    "version": 3
   },
   "file_extension": ".py",
   "mimetype": "text/x-python",
   "name": "python",
   "nbconvert_exporter": "python",
   "pygments_lexer": "ipython3",
   "version": "3.7.3"
  }
 },
 "nbformat": 4,
 "nbformat_minor": 2
}
