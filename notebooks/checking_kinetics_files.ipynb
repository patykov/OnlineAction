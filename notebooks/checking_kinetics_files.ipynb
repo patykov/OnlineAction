{
 "cells": [
  {
   "cell_type": "code",
   "execution_count": 1,
   "metadata": {},
   "outputs": [],
   "source": [
    "import os\n",
    "import csv"
   ]
  },
  {
   "cell_type": "code",
   "execution_count": 17,
   "metadata": {},
   "outputs": [],
   "source": [
    "old_file = '/media/v-pakova/New Volume/Datasets/Kinetics/data/kinetics-400_val.csv' \n",
    "new_file = '/media/v-pakova/New Volume/Datasets/Kinetics/data/files_400 - waiting to delete/kinetics_val.csv' \n",
    "\n",
    "csv1 = list(csv.DictReader(open(old_file)))\n",
    "csv2 = list(csv.DictReader(open(new_file)))"
   ]
  },
  {
   "cell_type": "code",
   "execution_count": 19,
   "metadata": {},
   "outputs": [
    {
     "data": {
      "text/plain": [
       "True"
      ]
     },
     "execution_count": 19,
     "metadata": {},
     "output_type": "execute_result"
    }
   ],
   "source": [
    "csv1 == csv2"
   ]
  },
  {
   "cell_type": "code",
   "execution_count": 28,
   "metadata": {},
   "outputs": [],
   "source": [
    "# Duplicated files in kinetics 600 and 400\n",
    "val400 = '/media/v-pakova/New Volume/Datasets/Kinetics/data/kinetics-400_val.csv' \n",
    "test400 = '/media/v-pakova/New Volume/Datasets/Kinetics/data/kinetics-400_test.csv'\n",
    "train400 = '/media/v-pakova/New Volume/Datasets/Kinetics/data/kinetics-400_train.csv'\n",
    "\n",
    "val600 = '/media/v-pakova/New Volume/Datasets/Kinetics/data/kinetics-600_val.csv' \n",
    "test600 = '/media/v-pakova/New Volume/Datasets/Kinetics/data/kinetics-600_test.csv'\n",
    "train600 = '/media/v-pakova/New Volume/Datasets/Kinetics/data/kinetics-600_train.csv'\n",
    "\n",
    "csv_val400 = list(csv.DictReader(open(val400)))\n",
    "csv_test400 = list(csv.DictReader(open(test400)))\n",
    "csv_train400 = list(csv.DictReader(open(train400)))\n",
    "\n",
    "csv_val600 = list(csv.DictReader(open(val600)))\n",
    "csv_test600 = list(csv.DictReader(open(test600)))\n",
    "csv_train600 = list(csv.DictReader(open(train600)))"
   ]
  },
  {
   "cell_type": "code",
   "execution_count": 39,
   "metadata": {},
   "outputs": [
    {
     "name": "stdout",
     "output_type": "stream",
     "text": [
      "0 19906 30000\n"
     ]
    }
   ],
   "source": [
    "same_val = [v600 for v600 in csv_val600 if v600 in csv_val400]\n",
    "\n",
    "print(len(same_val), len(csv_val400), len(csv_val600))"
   ]
  },
  {
   "cell_type": "code",
   "execution_count": 37,
   "metadata": {},
   "outputs": [
    {
     "name": "stdout",
     "output_type": "stream",
     "text": [
      "27576 38685 72924\n"
     ]
    }
   ],
   "source": [
    "same_test = []\n",
    "for t600 in csv_test600:\n",
    "    if t600 in csv_test400:\n",
    "        same_test.append(t600)\n",
    "        \n",
    "print(len(same_test), len(csv_test400), len(csv_test600))"
   ]
  },
  {
   "cell_type": "code",
   "execution_count": 38,
   "metadata": {},
   "outputs": [
    {
     "name": "stdout",
     "output_type": "stream",
     "text": [
      "0 246534 392622\n"
     ]
    }
   ],
   "source": [
    "same_train = []\n",
    "for tr600 in csv_train600:\n",
    "    if tr600 in csv_train400:\n",
    "        same_train.append(tr600)\n",
    "        \n",
    "print(len(same_train), len(csv_train400), len(csv_train600))"
   ]
  },
  {
   "cell_type": "code",
   "execution_count": 41,
   "metadata": {},
   "outputs": [
    {
     "data": {
      "text/plain": [
       "'abseiling'"
      ]
     },
     "execution_count": 41,
     "metadata": {},
     "output_type": "execute_result"
    }
   ],
   "source": [
    "csv_val400[0]['label']"
   ]
  },
  {
   "cell_type": "code",
   "execution_count": null,
   "metadata": {},
   "outputs": [],
   "source": []
  }
 ],
 "metadata": {
  "kernelspec": {
   "display_name": "Python 3",
   "language": "python",
   "name": "python3"
  },
  "language_info": {
   "codemirror_mode": {
    "name": "ipython",
    "version": 3
   },
   "file_extension": ".py",
   "mimetype": "text/x-python",
   "name": "python",
   "nbconvert_exporter": "python",
   "pygments_lexer": "ipython3",
   "version": "3.7.1"
  }
 },
 "nbformat": 4,
 "nbformat_minor": 2
}
